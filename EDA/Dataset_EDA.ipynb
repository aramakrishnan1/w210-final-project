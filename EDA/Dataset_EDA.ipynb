{
 "cells": [
  {
   "cell_type": "code",
   "execution_count": 3,
   "metadata": {},
   "outputs": [],
   "source": [
    "# Imports\n",
    "import matplotlib\n",
    "import pandas as pd\n",
    "import seaborn as sns\n",
    "import os\n",
    "import pickle\n",
    "\n",
    "from os.path import join\n",
    "\n",
    "%matplotlib inline"
   ]
  },
  {
   "cell_type": "markdown",
   "metadata": {},
   "source": [
    "### Find total number of images\n"
   ]
  },
  {
   "cell_type": "code",
   "execution_count": 4,
   "metadata": {},
   "outputs": [
    {
     "name": "stdout",
     "output_type": "stream",
     "text": [
      "find: ‘Images’: No such file or directory\r\n",
      "0\r\n"
     ]
    }
   ],
   "source": [
    "!find Images -type f | grep -v \".DS_Store\" | wc -l"
   ]
  },
  {
   "cell_type": "markdown",
   "metadata": {},
   "source": [
    "### Find total number of sequences"
   ]
  },
  {
   "cell_type": "code",
   "execution_count": 44,
   "metadata": {},
   "outputs": [
    {
     "name": "stdout",
     "output_type": "stream",
     "text": [
      "     200\r\n"
     ]
    }
   ],
   "source": [
    "!find Images -mindepth 2 -maxdepth 2 -type d | wc -l"
   ]
  },
  {
   "cell_type": "markdown",
   "metadata": {},
   "source": [
    "### Find total number of subjects"
   ]
  },
  {
   "cell_type": "code",
   "execution_count": 3,
   "metadata": {},
   "outputs": [
    {
     "name": "stdout",
     "output_type": "stream",
     "text": [
      "      25\r\n"
     ]
    }
   ],
   "source": [
    "!ls -l Images/ | grep -v \"total 0\" | wc -l"
   ]
  },
  {
   "cell_type": "markdown",
   "metadata": {},
   "source": [
    "### Load subjects + images and associated scores into pandas dataframe for further analysis"
   ]
  },
  {
   "cell_type": "code",
   "execution_count": 5,
   "metadata": {},
   "outputs": [
    {
     "ename": "OSError",
     "evalue": "[Errno 2] No such file or directory: 'Images'",
     "output_type": "error",
     "traceback": [
      "\u001b[0;31m\u001b[0m",
      "\u001b[0;31mOSError\u001b[0mTraceback (most recent call last)",
      "\u001b[0;32m<ipython-input-5-f5c69dc69257>\u001b[0m in \u001b[0;36m<module>\u001b[0;34m()\u001b[0m\n\u001b[1;32m     10\u001b[0m \u001b[0mvas_scores\u001b[0m \u001b[0;34m=\u001b[0m \u001b[0;34m[\u001b[0m\u001b[0;34m]\u001b[0m\u001b[0;34m\u001b[0m\u001b[0m\n\u001b[1;32m     11\u001b[0m \u001b[0;34m\u001b[0m\u001b[0m\n\u001b[0;32m---> 12\u001b[0;31m \u001b[0;32mfor\u001b[0m \u001b[0msubject_id\u001b[0m \u001b[0;32min\u001b[0m \u001b[0mos\u001b[0m\u001b[0;34m.\u001b[0m\u001b[0mlistdir\u001b[0m\u001b[0;34m(\u001b[0m\u001b[0;34m'Images'\u001b[0m\u001b[0;34m)\u001b[0m\u001b[0;34m:\u001b[0m\u001b[0;34m\u001b[0m\u001b[0m\n\u001b[0m\u001b[1;32m     13\u001b[0m     \u001b[0;32mif\u001b[0m \u001b[0msubject_id\u001b[0m \u001b[0;34m!=\u001b[0m \u001b[0;34m'.DS_Store'\u001b[0m\u001b[0;34m:\u001b[0m\u001b[0;34m\u001b[0m\u001b[0m\n\u001b[1;32m     14\u001b[0m         \u001b[0;32mfor\u001b[0m \u001b[0msequence_id\u001b[0m \u001b[0;32min\u001b[0m \u001b[0mos\u001b[0m\u001b[0;34m.\u001b[0m\u001b[0mlistdir\u001b[0m\u001b[0;34m(\u001b[0m\u001b[0mjoin\u001b[0m\u001b[0;34m(\u001b[0m\u001b[0;34m'Images'\u001b[0m\u001b[0;34m,\u001b[0m \u001b[0msubject_id\u001b[0m\u001b[0;34m)\u001b[0m\u001b[0;34m)\u001b[0m\u001b[0;34m:\u001b[0m\u001b[0;34m\u001b[0m\u001b[0m\n",
      "\u001b[0;31mOSError\u001b[0m: [Errno 2] No such file or directory: 'Images'"
     ]
    }
   ],
   "source": [
    "images = []\n",
    "sequences = []\n",
    "image_sequences = []\n",
    "\n",
    "pspi_scores = []\n",
    "opr_scores = []\n",
    "\n",
    "aff_scores = []\n",
    "sen_scores = []\n",
    "vas_scores = []\n",
    "\n",
    "for subject_id in os.listdir('Images'):\n",
    "    if subject_id != '.DS_Store':\n",
    "        for sequence_id in os.listdir(join('Images', subject_id)):\n",
    "            if sequence_id != '.DS_Store':\n",
    "                sequences.append(sequence_id)\n",
    "                for image in os.listdir(join('Images', subject_id, sequence_id)):\n",
    "                    if image != '.DS_Store':\n",
    "                        images.append(image.split('.')[0])\n",
    "                        image_sequences.append(sequence_id)\n",
    "                for pspi_file in os.listdir(join('Frame_Labels', 'PSPI', subject_id, sequence_id)):\n",
    "                    with open(join('Frame_Labels', 'PSPI', subject_id, sequence_id, pspi_file), 'r') as f_in:\n",
    "                        pspi_scores.append(float(f_in.read().strip()))\n",
    "        for aff_file in os.listdir(join('Sequence_Labels', 'AFF', subject_id)):\n",
    "            with open(join('Sequence_Labels', 'AFF', subject_id, aff_file), 'r') as f_in:\n",
    "                aff_scores.append(float(f_in.read().strip()))\n",
    "        for opr_file in os.listdir(join('Sequence_Labels', 'OPR', subject_id)):\n",
    "            with open(join('Sequence_Labels', 'OPR', subject_id, opr_file), 'r') as f_in:\n",
    "                opr_scores.append(float(f_in.read().strip()))\n",
    "        for sen_file in os.listdir(join('Sequence_Labels', 'SEN', subject_id)):\n",
    "            with open(join('Sequence_Labels', 'SEN', subject_id, sen_file), 'r') as f_in:\n",
    "                sen_scores.append(float(f_in.read().strip()))\n",
    "        for vas_file in os.listdir(join('Sequence_Labels', 'VAS', subject_id)):\n",
    "            with open(join('Sequence_Labels', 'VAS', subject_id, vas_file), 'r') as f_in:\n",
    "                vas_scores.append(float(f_in.read().strip()))\n",
    "\n",
    "image_data = {'image': images,\n",
    "              'image_sequence': image_sequences,\n",
    "              'pspi_score': pspi_scores}\n",
    "\n",
    "sequence_data = {'sequence': sequences, \n",
    "                 'aff_score': aff_scores, \n",
    "                 'opr_score': opr_scores, \n",
    "                 'sen_score': sen_scores,\n",
    "                 'vas_score': vas_scores}\n",
    "\n",
    "image_df = pd.DataFrame(data=image_data)\n",
    "sequence_df = pd.DataFrame(data=sequence_data)"
   ]
  },
  {
   "cell_type": "code",
   "execution_count": 40,
   "metadata": {},
   "outputs": [
    {
     "name": "stdout",
     "output_type": "stream",
     "text": [
      "Examples of image identifiers:\n",
      "['ll042t1aaaff001', 'll042t1aaaff002', 'll042t1aaaff003', 'll042t1aaaff004', 'll042t1aaaff005', 'll042t1aaaff006', 'll042t1aaaff007', 'll042t1aaaff008', 'll042t1aaaff009', 'll042t1aaaff010']\n",
      "\n",
      "Examples of sequence identifiers:\n",
      "['ll042t1aaaff', 'll042t1aaunaff', 'll042t1aeunaff', 'll042t1afaff', 'll042t1afunaff', 'll042t1aiaff', 'll042t1aiunaff', 'll042t2afaff', 'jh043t1aeaff', 'jh043t1afaff']\n",
      "\n",
      "Examples of PSPI scores:\n",
      "[0.0, 0.0, 0.0, 0.0, 0.0, 0.0, 0.0, 0.0, 0.0, 0.0]\n",
      "\n",
      "Examples of AFF scores:\n",
      "[7.0, 1.0, 2.0, 5.0, 1.0, 11.0, 1.0, 3.0, 13.0, 4.0]\n",
      "\n",
      "Examples of OPR scores:\n",
      "[3.0, 0.0, 0.0, 3.0, 0.0, 4.0, 0.0, 1.0, 2.0, 1.0]\n",
      "\n",
      "Examples of SEN scores:\n",
      "[10.0, 2.0, 2.0, 8.0, 3.0, 12.0, 3.0, 6.0, 12.0, 3.0]\n",
      "\n",
      "Examples of VAS scores:\n",
      "[6.0, 1.0, 2.0, 5.0, 2.0, 8.0, 1.0, 4.0, 6.0, 2.0]\n",
      "\n"
     ]
    }
   ],
   "source": [
    "print 'Examples of image identifiers:\\n{}\\n'.format(images[:10])\n",
    "print 'Examples of sequence identifiers:\\n{}\\n'.format(sequences[:10])\n",
    "print 'Examples of PSPI scores:\\n{}\\n'.format(pspi_scores[:10])\n",
    "print 'Examples of AFF scores:\\n{}\\n'.format(aff_scores[:10])\n",
    "print 'Examples of OPR scores:\\n{}\\n'.format(opr_scores[:10])\n",
    "print 'Examples of SEN scores:\\n{}\\n'.format(sen_scores[:10])\n",
    "print 'Examples of VAS scores:\\n{}\\n'.format(vas_scores[:10])"
   ]
  },
  {
   "cell_type": "markdown",
   "metadata": {},
   "source": [
    "### Examine PSPI Score distribution across images"
   ]
  },
  {
   "cell_type": "code",
   "execution_count": 62,
   "metadata": {},
   "outputs": [
    {
     "data": {
      "image/png": "[encoded data removed]",
      "text/plain": [
       "<matplotlib.figure.Figure at 0x1179c8810>"
      ]
     },
     "metadata": {
      "needs_background": "light"
     },
     "output_type": "display_data"
    }
   ],
   "source": [
    "df2 = pd.DataFrame({\n",
    "         'pspi_score': pspi_scores\n",
    "         }, index=images)\n",
    "hist = df2.hist(bins=32)"
   ]
  },
  {
   "cell_type": "code",
   "execution_count": 29,
   "metadata": {},
   "outputs": [
    {
     "data": {
      "text/plain": [
       "0.0     0.827080\n",
       "1.0     0.060106\n",
       "2.0     0.048576\n",
       "3.0     0.029175\n",
       "4.0     0.016571\n",
       "5.0     0.005000\n",
       "6.0     0.005579\n",
       "7.0     0.001095\n",
       "8.0     0.001632\n",
       "9.0     0.000661\n",
       "10.0    0.001384\n",
       "11.0    0.001570\n",
       "12.0    0.000992\n",
       "13.0    0.000455\n",
       "14.0    0.000021\n",
       "15.0    0.000103\n",
       "Name: pspi_score, dtype: float64"
      ]
     },
     "execution_count": 29,
     "metadata": {},
     "output_type": "execute_result"
    }
   ],
   "source": [
    "image_df['pspi_score'].value_counts().sort_index() / len(image_df)"
   ]
  },
  {
   "cell_type": "code",
   "execution_count": 79,
   "metadata": {},
   "outputs": [
    {
     "data": {
      "text/plain": [
       "0.0     40029\n",
       "1.0      2909\n",
       "2.0      2351\n",
       "3.0      1412\n",
       "4.0       802\n",
       "5.0       242\n",
       "6.0       270\n",
       "7.0        53\n",
       "8.0        79\n",
       "9.0        32\n",
       "10.0       67\n",
       "11.0       76\n",
       "12.0       48\n",
       "13.0       22\n",
       "14.0        1\n",
       "15.0        5\n",
       "Name: pspi_score, dtype: int64"
      ]
     },
     "execution_count": 79,
     "metadata": {},
     "output_type": "execute_result"
    }
   ],
   "source": [
    "image_df['pspi_score'].value_counts().sort_index()"
   ]
  },
  {
   "cell_type": "code",
   "execution_count": 30,
   "metadata": {},
   "outputs": [
    {
     "name": "stdout",
     "output_type": "stream",
     "text": [
      "17.292036861\n"
     ]
    }
   ],
   "source": [
    "# We can also explicitly get the % of non-zero scores from the dataset\n",
    "print float(len(image_df[image_df['pspi_score'] > 0.0])) / float(len(image_df)) * 100"
   ]
  },
  {
   "cell_type": "code",
   "execution_count": 13,
   "metadata": {},
   "outputs": [
    {
     "data": {
      "text/html": [
       "<div>\n",
       "<style scoped>\n",
       "    .dataframe tbody tr th:only-of-type {\n",
       "        vertical-align: middle;\n",
       "    }\n",
       "\n",
       "    .dataframe tbody tr th {\n",
       "        vertical-align: top;\n",
       "    }\n",
       "\n",
       "    .dataframe thead th {\n",
       "        text-align: right;\n",
       "    }\n",
       "</style>\n",
       "<table border=\"1\" class=\"dataframe\">\n",
       "  <thead>\n",
       "    <tr style=\"text-align: right;\">\n",
       "      <th></th>\n",
       "      <th>pspi_score</th>\n",
       "    </tr>\n",
       "  </thead>\n",
       "  <tbody>\n",
       "    <tr>\n",
       "      <th>count</th>\n",
       "      <td>48398.000000</td>\n",
       "    </tr>\n",
       "    <tr>\n",
       "      <th>mean</th>\n",
       "      <td>0.446981</td>\n",
       "    </tr>\n",
       "    <tr>\n",
       "      <th>std</th>\n",
       "      <td>1.302021</td>\n",
       "    </tr>\n",
       "    <tr>\n",
       "      <th>min</th>\n",
       "      <td>0.000000</td>\n",
       "    </tr>\n",
       "    <tr>\n",
       "      <th>25%</th>\n",
       "      <td>0.000000</td>\n",
       "    </tr>\n",
       "    <tr>\n",
       "      <th>50%</th>\n",
       "      <td>0.000000</td>\n",
       "    </tr>\n",
       "    <tr>\n",
       "      <th>75%</th>\n",
       "      <td>0.000000</td>\n",
       "    </tr>\n",
       "    <tr>\n",
       "      <th>max</th>\n",
       "      <td>15.000000</td>\n",
       "    </tr>\n",
       "  </tbody>\n",
       "</table>\n",
       "</div>"
      ],
      "text/plain": [
       "         pspi_score\n",
       "count  48398.000000\n",
       "mean       0.446981\n",
       "std        1.302021\n",
       "min        0.000000\n",
       "25%        0.000000\n",
       "50%        0.000000\n",
       "75%        0.000000\n",
       "max       15.000000"
      ]
     },
     "execution_count": 13,
     "metadata": {},
     "output_type": "execute_result"
    }
   ],
   "source": [
    "df2.describe()"
   ]
  },
  {
   "cell_type": "markdown",
   "metadata": {},
   "source": [
    "### Examine Average PSPI Score distribution across sequences"
   ]
  },
  {
   "cell_type": "code",
   "execution_count": 175,
   "metadata": {},
   "outputs": [],
   "source": [
    "# Avg PSPI scores are based on top 3 scores from each sequence\n",
    "image_df_modified = image_df.groupby(['image_sequence', 'pspi_score']).count().reset_index()\n",
    "image_df_modified.columns = ['image_sequence', 'pspi_score', 'pspi_score_count']\n",
    "image_df_modified['rank'] = image_df_modified.groupby('image_sequence')['pspi_score_count'].rank(ascending=False)\n",
    "image_df_modified = image_df_modified[image_df_modified['rank'] < 4]\n",
    "image_sequence_distribution = image_df_modified[['image_sequence','pspi_score']]\n",
    "avg_pspi_scores = image_sequence_distribution.groupby('image_sequence').mean().reset_index().sort_values('image_sequence')['pspi_score'].tolist()"
   ]
  },
  {
   "cell_type": "code",
   "execution_count": 178,
   "metadata": {},
   "outputs": [
    {
     "data": {
      "image/png": "[encoded data removed]",
      "text/plain": [
       "<matplotlib.figure.Figure at 0x117cc6310>"
      ]
     },
     "metadata": {
      "needs_background": "light"
     },
     "output_type": "display_data"
    }
   ],
   "source": [
    "df2 = pd.DataFrame({\n",
    "         'avg_pspi_score': avg_pspi_scores\n",
    "         }, index=sequences)\n",
    "hist = df2.hist(bins=32)"
   ]
  },
  {
   "cell_type": "markdown",
   "metadata": {},
   "source": [
    "### Examine AFF Score distribution across sequences"
   ]
  },
  {
   "cell_type": "code",
   "execution_count": 63,
   "metadata": {},
   "outputs": [
    {
     "data": {
      "image/png": "[encoded data removed]",
      "text/plain": [
       "<matplotlib.figure.Figure at 0x117d69cd0>"
      ]
     },
     "metadata": {
      "needs_background": "light"
     },
     "output_type": "display_data"
    }
   ],
   "source": [
    "df2 = pd.DataFrame({\n",
    "         'aff_score': aff_scores\n",
    "         }, index=sequences)\n",
    "hist = df2.hist(bins=32)"
   ]
  },
  {
   "cell_type": "code",
   "execution_count": 47,
   "metadata": {},
   "outputs": [
    {
     "data": {
      "text/plain": [
       "1.0     0.400\n",
       "2.0     0.050\n",
       "3.0     0.090\n",
       "4.0     0.175\n",
       "5.0     0.040\n",
       "6.0     0.010\n",
       "7.0     0.095\n",
       "8.0     0.045\n",
       "9.0     0.005\n",
       "10.0    0.030\n",
       "11.0    0.015\n",
       "12.0    0.010\n",
       "13.0    0.020\n",
       "14.0    0.015\n",
       "Name: aff_score, dtype: float64"
      ]
     },
     "execution_count": 47,
     "metadata": {},
     "output_type": "execute_result"
    }
   ],
   "source": [
    "sequence_df['aff_score'].value_counts().sort_index() / len(sequence_df)"
   ]
  },
  {
   "cell_type": "code",
   "execution_count": 81,
   "metadata": {},
   "outputs": [
    {
     "data": {
      "text/plain": [
       "1.0     80\n",
       "2.0     10\n",
       "3.0     18\n",
       "4.0     35\n",
       "5.0      8\n",
       "6.0      2\n",
       "7.0     19\n",
       "8.0      9\n",
       "9.0      1\n",
       "10.0     6\n",
       "11.0     3\n",
       "12.0     2\n",
       "13.0     4\n",
       "14.0     3\n",
       "Name: aff_score, dtype: int64"
      ]
     },
     "execution_count": 81,
     "metadata": {},
     "output_type": "execute_result"
    }
   ],
   "source": [
    "sequence_df['aff_score'].value_counts().sort_index()"
   ]
  },
  {
   "cell_type": "code",
   "execution_count": 48,
   "metadata": {},
   "outputs": [
    {
     "name": "stdout",
     "output_type": "stream",
     "text": [
      "100.0\n"
     ]
    }
   ],
   "source": [
    "# We can also explicitly get the % of non-zero scores from the dataset\n",
    "print float(len(sequence_df[sequence_df['aff_score'] > 0.0])) / float(len(sequence_df)) * 100"
   ]
  },
  {
   "cell_type": "code",
   "execution_count": 49,
   "metadata": {},
   "outputs": [
    {
     "data": {
      "text/html": [
       "<div>\n",
       "<style scoped>\n",
       "    .dataframe tbody tr th:only-of-type {\n",
       "        vertical-align: middle;\n",
       "    }\n",
       "\n",
       "    .dataframe tbody tr th {\n",
       "        vertical-align: top;\n",
       "    }\n",
       "\n",
       "    .dataframe thead th {\n",
       "        text-align: right;\n",
       "    }\n",
       "</style>\n",
       "<table border=\"1\" class=\"dataframe\">\n",
       "  <thead>\n",
       "    <tr style=\"text-align: right;\">\n",
       "      <th></th>\n",
       "      <th>aff_score</th>\n",
       "    </tr>\n",
       "  </thead>\n",
       "  <tbody>\n",
       "    <tr>\n",
       "      <th>count</th>\n",
       "      <td>200.000000</td>\n",
       "    </tr>\n",
       "    <tr>\n",
       "      <th>mean</th>\n",
       "      <td>3.855000</td>\n",
       "    </tr>\n",
       "    <tr>\n",
       "      <th>std</th>\n",
       "      <td>3.358627</td>\n",
       "    </tr>\n",
       "    <tr>\n",
       "      <th>min</th>\n",
       "      <td>1.000000</td>\n",
       "    </tr>\n",
       "    <tr>\n",
       "      <th>25%</th>\n",
       "      <td>1.000000</td>\n",
       "    </tr>\n",
       "    <tr>\n",
       "      <th>50%</th>\n",
       "      <td>3.000000</td>\n",
       "    </tr>\n",
       "    <tr>\n",
       "      <th>75%</th>\n",
       "      <td>5.000000</td>\n",
       "    </tr>\n",
       "    <tr>\n",
       "      <th>max</th>\n",
       "      <td>14.000000</td>\n",
       "    </tr>\n",
       "  </tbody>\n",
       "</table>\n",
       "</div>"
      ],
      "text/plain": [
       "        aff_score\n",
       "count  200.000000\n",
       "mean     3.855000\n",
       "std      3.358627\n",
       "min      1.000000\n",
       "25%      1.000000\n",
       "50%      3.000000\n",
       "75%      5.000000\n",
       "max     14.000000"
      ]
     },
     "execution_count": 49,
     "metadata": {},
     "output_type": "execute_result"
    }
   ],
   "source": [
    "df2.describe()"
   ]
  },
  {
   "cell_type": "markdown",
   "metadata": {},
   "source": [
    "### Examine OPR Score distribution across sequences"
   ]
  },
  {
   "cell_type": "code",
   "execution_count": 64,
   "metadata": {},
   "outputs": [
    {
     "data": {
      "image/png": "[encoded data removed]",
      "text/plain": [
       "<matplotlib.figure.Figure at 0x114c6dfd0>"
      ]
     },
     "metadata": {
      "needs_background": "light"
     },
     "output_type": "display_data"
    }
   ],
   "source": [
    "df2 = pd.DataFrame({\n",
    "         'opr_score': opr_scores\n",
    "         }, index=sequences)\n",
    "hist = df2.hist(bins=12)"
   ]
  },
  {
   "cell_type": "code",
   "execution_count": 55,
   "metadata": {},
   "outputs": [
    {
     "data": {
      "text/plain": [
       "0.0    0.460\n",
       "1.0    0.125\n",
       "2.0    0.130\n",
       "3.0    0.170\n",
       "4.0    0.080\n",
       "5.0    0.035\n",
       "Name: opr_score, dtype: float64"
      ]
     },
     "execution_count": 55,
     "metadata": {},
     "output_type": "execute_result"
    }
   ],
   "source": [
    "sequence_df['opr_score'].value_counts().sort_index() / len(sequence_df)"
   ]
  },
  {
   "cell_type": "code",
   "execution_count": 82,
   "metadata": {},
   "outputs": [
    {
     "data": {
      "text/plain": [
       "0.0    92\n",
       "1.0    25\n",
       "2.0    26\n",
       "3.0    34\n",
       "4.0    16\n",
       "5.0     7\n",
       "Name: opr_score, dtype: int64"
      ]
     },
     "execution_count": 82,
     "metadata": {},
     "output_type": "execute_result"
    }
   ],
   "source": [
    "sequence_df['opr_score'].value_counts().sort_index()"
   ]
  },
  {
   "cell_type": "code",
   "execution_count": 57,
   "metadata": {},
   "outputs": [
    {
     "name": "stdout",
     "output_type": "stream",
     "text": [
      "54.0\n"
     ]
    }
   ],
   "source": [
    "# We can also explicitly get the % of non-zero scores from the dataset\n",
    "print float(len(sequence_df[sequence_df['opr_score'] > 0.0])) / float(len(sequence_df)) * 100"
   ]
  },
  {
   "cell_type": "code",
   "execution_count": 58,
   "metadata": {},
   "outputs": [
    {
     "data": {
      "text/html": [
       "<div>\n",
       "<style scoped>\n",
       "    .dataframe tbody tr th:only-of-type {\n",
       "        vertical-align: middle;\n",
       "    }\n",
       "\n",
       "    .dataframe tbody tr th {\n",
       "        vertical-align: top;\n",
       "    }\n",
       "\n",
       "    .dataframe thead th {\n",
       "        text-align: right;\n",
       "    }\n",
       "</style>\n",
       "<table border=\"1\" class=\"dataframe\">\n",
       "  <thead>\n",
       "    <tr style=\"text-align: right;\">\n",
       "      <th></th>\n",
       "      <th>aff_score</th>\n",
       "    </tr>\n",
       "  </thead>\n",
       "  <tbody>\n",
       "    <tr>\n",
       "      <th>count</th>\n",
       "      <td>200.000000</td>\n",
       "    </tr>\n",
       "    <tr>\n",
       "      <th>mean</th>\n",
       "      <td>3.855000</td>\n",
       "    </tr>\n",
       "    <tr>\n",
       "      <th>std</th>\n",
       "      <td>3.358627</td>\n",
       "    </tr>\n",
       "    <tr>\n",
       "      <th>min</th>\n",
       "      <td>1.000000</td>\n",
       "    </tr>\n",
       "    <tr>\n",
       "      <th>25%</th>\n",
       "      <td>1.000000</td>\n",
       "    </tr>\n",
       "    <tr>\n",
       "      <th>50%</th>\n",
       "      <td>3.000000</td>\n",
       "    </tr>\n",
       "    <tr>\n",
       "      <th>75%</th>\n",
       "      <td>5.000000</td>\n",
       "    </tr>\n",
       "    <tr>\n",
       "      <th>max</th>\n",
       "      <td>14.000000</td>\n",
       "    </tr>\n",
       "  </tbody>\n",
       "</table>\n",
       "</div>"
      ],
      "text/plain": [
       "        aff_score\n",
       "count  200.000000\n",
       "mean     3.855000\n",
       "std      3.358627\n",
       "min      1.000000\n",
       "25%      1.000000\n",
       "50%      3.000000\n",
       "75%      5.000000\n",
       "max     14.000000"
      ]
     },
     "execution_count": 58,
     "metadata": {},
     "output_type": "execute_result"
    }
   ],
   "source": [
    "df2.describe()"
   ]
  },
  {
   "cell_type": "markdown",
   "metadata": {},
   "source": [
    "### Examine SEN Score distribution across sequences"
   ]
  },
  {
   "cell_type": "code",
   "execution_count": 65,
   "metadata": {},
   "outputs": [
    {
     "data": {
      "image/png": "[encoded data removed]",
      "text/plain": [
       "<matplotlib.figure.Figure at 0x118a4e990>"
      ]
     },
     "metadata": {
      "needs_background": "light"
     },
     "output_type": "display_data"
    }
   ],
   "source": [
    "df2 = pd.DataFrame({\n",
    "         'sen_score': sen_scores\n",
    "         }, index=sequences)\n",
    "hist = df2.hist(bins=32)"
   ]
  },
  {
   "cell_type": "code",
   "execution_count": 66,
   "metadata": {},
   "outputs": [
    {
     "data": {
      "text/plain": [
       "1.0     0.350\n",
       "2.0     0.055\n",
       "3.0     0.085\n",
       "4.0     0.065\n",
       "5.0     0.100\n",
       "6.0     0.055\n",
       "7.0     0.025\n",
       "8.0     0.045\n",
       "9.0     0.035\n",
       "10.0    0.045\n",
       "11.0    0.085\n",
       "12.0    0.015\n",
       "13.0    0.035\n",
       "14.0    0.005\n",
       "Name: sen_score, dtype: float64"
      ]
     },
     "execution_count": 66,
     "metadata": {},
     "output_type": "execute_result"
    }
   ],
   "source": [
    "sequence_df['sen_score'].value_counts().sort_index() / len(sequence_df)"
   ]
  },
  {
   "cell_type": "code",
   "execution_count": 83,
   "metadata": {},
   "outputs": [
    {
     "data": {
      "text/plain": [
       "1.0     70\n",
       "2.0     11\n",
       "3.0     17\n",
       "4.0     13\n",
       "5.0     20\n",
       "6.0     11\n",
       "7.0      5\n",
       "8.0      9\n",
       "9.0      7\n",
       "10.0     9\n",
       "11.0    17\n",
       "12.0     3\n",
       "13.0     7\n",
       "14.0     1\n",
       "Name: sen_score, dtype: int64"
      ]
     },
     "execution_count": 83,
     "metadata": {},
     "output_type": "execute_result"
    }
   ],
   "source": [
    "sequence_df['sen_score'].value_counts().sort_index()"
   ]
  },
  {
   "cell_type": "code",
   "execution_count": 68,
   "metadata": {},
   "outputs": [
    {
     "name": "stdout",
     "output_type": "stream",
     "text": [
      "100.0\n"
     ]
    }
   ],
   "source": [
    "# We can also explicitly get the % of non-zero scores from the dataset\n",
    "print float(len(sequence_df[sequence_df['sen_score'] > 0.0])) / float(len(sequence_df)) * 100"
   ]
  },
  {
   "cell_type": "code",
   "execution_count": 69,
   "metadata": {},
   "outputs": [
    {
     "data": {
      "text/html": [
       "<div>\n",
       "<style scoped>\n",
       "    .dataframe tbody tr th:only-of-type {\n",
       "        vertical-align: middle;\n",
       "    }\n",
       "\n",
       "    .dataframe tbody tr th {\n",
       "        vertical-align: top;\n",
       "    }\n",
       "\n",
       "    .dataframe thead th {\n",
       "        text-align: right;\n",
       "    }\n",
       "</style>\n",
       "<table border=\"1\" class=\"dataframe\">\n",
       "  <thead>\n",
       "    <tr style=\"text-align: right;\">\n",
       "      <th></th>\n",
       "      <th>sen_score</th>\n",
       "    </tr>\n",
       "  </thead>\n",
       "  <tbody>\n",
       "    <tr>\n",
       "      <th>count</th>\n",
       "      <td>200.000000</td>\n",
       "    </tr>\n",
       "    <tr>\n",
       "      <th>mean</th>\n",
       "      <td>4.745000</td>\n",
       "    </tr>\n",
       "    <tr>\n",
       "      <th>std</th>\n",
       "      <td>3.898199</td>\n",
       "    </tr>\n",
       "    <tr>\n",
       "      <th>min</th>\n",
       "      <td>1.000000</td>\n",
       "    </tr>\n",
       "    <tr>\n",
       "      <th>25%</th>\n",
       "      <td>1.000000</td>\n",
       "    </tr>\n",
       "    <tr>\n",
       "      <th>50%</th>\n",
       "      <td>4.000000</td>\n",
       "    </tr>\n",
       "    <tr>\n",
       "      <th>75%</th>\n",
       "      <td>8.000000</td>\n",
       "    </tr>\n",
       "    <tr>\n",
       "      <th>max</th>\n",
       "      <td>14.000000</td>\n",
       "    </tr>\n",
       "  </tbody>\n",
       "</table>\n",
       "</div>"
      ],
      "text/plain": [
       "        sen_score\n",
       "count  200.000000\n",
       "mean     4.745000\n",
       "std      3.898199\n",
       "min      1.000000\n",
       "25%      1.000000\n",
       "50%      4.000000\n",
       "75%      8.000000\n",
       "max     14.000000"
      ]
     },
     "execution_count": 69,
     "metadata": {},
     "output_type": "execute_result"
    }
   ],
   "source": [
    "df2.describe()"
   ]
  },
  {
   "cell_type": "markdown",
   "metadata": {},
   "source": [
    "### Examine VAS Score distribution across sequences"
   ]
  },
  {
   "cell_type": "code",
   "execution_count": 74,
   "metadata": {},
   "outputs": [
    {
     "data": {
      "image/png": "[encoded data removed]",
      "text/plain": [
       "<matplotlib.figure.Figure at 0x114c5e190>"
      ]
     },
     "metadata": {
      "needs_background": "light"
     },
     "output_type": "display_data"
    }
   ],
   "source": [
    "df2 = pd.DataFrame({\n",
    "         'vas_score': vas_scores\n",
    "         }, index=sequences)\n",
    "hist = df2.hist(bins=22)"
   ]
  },
  {
   "cell_type": "code",
   "execution_count": 71,
   "metadata": {},
   "outputs": [
    {
     "data": {
      "text/plain": [
       "0.0     0.175\n",
       "1.0     0.210\n",
       "2.0     0.120\n",
       "3.0     0.100\n",
       "4.0     0.105\n",
       "5.0     0.055\n",
       "6.0     0.055\n",
       "7.0     0.030\n",
       "8.0     0.090\n",
       "9.0     0.050\n",
       "10.0    0.010\n",
       "Name: vas_score, dtype: float64"
      ]
     },
     "execution_count": 71,
     "metadata": {},
     "output_type": "execute_result"
    }
   ],
   "source": [
    "sequence_df['vas_score'].value_counts().sort_index() / len(sequence_df)"
   ]
  },
  {
   "cell_type": "code",
   "execution_count": 84,
   "metadata": {},
   "outputs": [
    {
     "data": {
      "text/plain": [
       "0.0     35\n",
       "1.0     42\n",
       "2.0     24\n",
       "3.0     20\n",
       "4.0     21\n",
       "5.0     11\n",
       "6.0     11\n",
       "7.0      6\n",
       "8.0     18\n",
       "9.0     10\n",
       "10.0     2\n",
       "Name: vas_score, dtype: int64"
      ]
     },
     "execution_count": 84,
     "metadata": {},
     "output_type": "execute_result"
    }
   ],
   "source": [
    "sequence_df['vas_score'].value_counts().sort_index()"
   ]
  },
  {
   "cell_type": "code",
   "execution_count": 75,
   "metadata": {},
   "outputs": [
    {
     "name": "stdout",
     "output_type": "stream",
     "text": [
      "82.5\n"
     ]
    }
   ],
   "source": [
    "# We can also explicitly get the % of non-zero scores from the dataset\n",
    "print float(len(sequence_df[sequence_df['vas_score'] > 0.0])) / float(len(sequence_df)) * 100"
   ]
  },
  {
   "cell_type": "code",
   "execution_count": 76,
   "metadata": {},
   "outputs": [
    {
     "data": {
      "text/html": [
       "<div>\n",
       "<style scoped>\n",
       "    .dataframe tbody tr th:only-of-type {\n",
       "        vertical-align: middle;\n",
       "    }\n",
       "\n",
       "    .dataframe tbody tr th {\n",
       "        vertical-align: top;\n",
       "    }\n",
       "\n",
       "    .dataframe thead th {\n",
       "        text-align: right;\n",
       "    }\n",
       "</style>\n",
       "<table border=\"1\" class=\"dataframe\">\n",
       "  <thead>\n",
       "    <tr style=\"text-align: right;\">\n",
       "      <th></th>\n",
       "      <th>vas_score</th>\n",
       "    </tr>\n",
       "  </thead>\n",
       "  <tbody>\n",
       "    <tr>\n",
       "      <th>count</th>\n",
       "      <td>200.000000</td>\n",
       "    </tr>\n",
       "    <tr>\n",
       "      <th>mean</th>\n",
       "      <td>3.255000</td>\n",
       "    </tr>\n",
       "    <tr>\n",
       "      <th>std</th>\n",
       "      <td>2.889937</td>\n",
       "    </tr>\n",
       "    <tr>\n",
       "      <th>min</th>\n",
       "      <td>0.000000</td>\n",
       "    </tr>\n",
       "    <tr>\n",
       "      <th>25%</th>\n",
       "      <td>1.000000</td>\n",
       "    </tr>\n",
       "    <tr>\n",
       "      <th>50%</th>\n",
       "      <td>2.000000</td>\n",
       "    </tr>\n",
       "    <tr>\n",
       "      <th>75%</th>\n",
       "      <td>5.000000</td>\n",
       "    </tr>\n",
       "    <tr>\n",
       "      <th>max</th>\n",
       "      <td>10.000000</td>\n",
       "    </tr>\n",
       "  </tbody>\n",
       "</table>\n",
       "</div>"
      ],
      "text/plain": [
       "        vas_score\n",
       "count  200.000000\n",
       "mean     3.255000\n",
       "std      2.889937\n",
       "min      0.000000\n",
       "25%      1.000000\n",
       "50%      2.000000\n",
       "75%      5.000000\n",
       "max     10.000000"
      ]
     },
     "execution_count": 76,
     "metadata": {},
     "output_type": "execute_result"
    }
   ],
   "source": [
    "df2.describe()"
   ]
  },
  {
   "cell_type": "markdown",
   "metadata": {},
   "source": [
    "### Examine Score correlations"
   ]
  },
  {
   "cell_type": "code",
   "execution_count": 180,
   "metadata": {},
   "outputs": [
    {
     "data": {
      "text/plain": [
       "<matplotlib.axes._subplots.AxesSubplot at 0x1244c4490>"
      ]
     },
     "execution_count": 180,
     "metadata": {},
     "output_type": "execute_result"
    },
    {
     "data": {
      "image/png": "[encoded data removed]",
      "text/plain": [
       "<matplotlib.figure.Figure at 0x114a89a10>"
      ]
     },
     "metadata": {
      "needs_background": "light"
     },
     "output_type": "display_data"
    }
   ],
   "source": [
    "heatmap_data = {'avg_pspi_score': avg_pspi_scores, \n",
    "                'aff_score': aff_scores, \n",
    "                'opr_score': opr_scores, \n",
    "                'sen_score': sen_scores,\n",
    "                'vas_score': vas_scores}\n",
    "\n",
    "heatmap_df = pd.DataFrame(data=heatmap_data)\n",
    "corr = heatmap_df.corr()\n",
    "\n",
    "# plot the heatmap\n",
    "sns.heatmap(corr, \n",
    "            xticklabels=corr.columns,\n",
    "            yticklabels=corr.columns)"
   ]
  }
 ],
 "metadata": {
  "kernelspec": {
   "display_name": "Python 2",
   "language": "python",
   "name": "python2"
  },
  "language_info": {
   "codemirror_mode": {
    "name": "ipython",
    "version": 2
   },
   "file_extension": ".py",
   "mimetype": "text/x-python",
   "name": "python",
   "nbconvert_exporter": "python",
   "pygments_lexer": "ipython2",
   "version": "2.7.15"
  }
 },
 "nbformat": 4,
 "nbformat_minor": 2
}
