{
 "cells": [
  {
   "cell_type": "code",
   "execution_count": 1,
   "metadata": {},
   "outputs": [
    {
     "name": "stderr",
     "output_type": "stream",
     "text": [
      "/Users/206479300/anaconda2/envs/conda_env/lib/python2.7/site-packages/scipy/sparse/lil.py:16: RuntimeWarning: numpy.dtype size changed, may indicate binary incompatibility. Expected 96, got 88\n",
      "  from . import _csparsetools\n",
      "/Users/206479300/anaconda2/envs/conda_env/lib/python2.7/site-packages/scipy/sparse/csgraph/__init__.py:167: RuntimeWarning: numpy.dtype size changed, may indicate binary incompatibility. Expected 96, got 88\n",
      "  from ._shortest_path import shortest_path, floyd_warshall, dijkstra,\\\n",
      "/Users/206479300/anaconda2/envs/conda_env/lib/python2.7/site-packages/scipy/sparse/csgraph/_validation.py:5: RuntimeWarning: numpy.dtype size changed, may indicate binary incompatibility. Expected 96, got 88\n",
      "  from ._tools import csgraph_to_dense, csgraph_from_dense,\\\n",
      "/Users/206479300/anaconda2/envs/conda_env/lib/python2.7/site-packages/scipy/sparse/csgraph/__init__.py:169: RuntimeWarning: numpy.dtype size changed, may indicate binary incompatibility. Expected 96, got 88\n",
      "  from ._traversal import breadth_first_order, depth_first_order, \\\n",
      "/Users/206479300/anaconda2/envs/conda_env/lib/python2.7/site-packages/scipy/sparse/csgraph/__init__.py:171: RuntimeWarning: numpy.dtype size changed, may indicate binary incompatibility. Expected 96, got 88\n",
      "  from ._min_spanning_tree import minimum_spanning_tree\n",
      "/Users/206479300/anaconda2/envs/conda_env/lib/python2.7/site-packages/scipy/sparse/csgraph/__init__.py:172: RuntimeWarning: numpy.dtype size changed, may indicate binary incompatibility. Expected 96, got 88\n",
      "  from ._reordering import reverse_cuthill_mckee, maximum_bipartite_matching, \\\n",
      "/Users/206479300/anaconda2/envs/conda_env/lib/python2.7/site-packages/scipy/spatial/__init__.py:94: RuntimeWarning: numpy.dtype size changed, may indicate binary incompatibility. Expected 96, got 88\n",
      "  from .ckdtree import *\n",
      "/Users/206479300/anaconda2/envs/conda_env/lib/python2.7/site-packages/scipy/spatial/__init__.py:95: RuntimeWarning: numpy.dtype size changed, may indicate binary incompatibility. Expected 96, got 88\n",
      "  from .qhull import *\n",
      "/Users/206479300/anaconda2/envs/conda_env/lib/python2.7/site-packages/scipy/spatial/_spherical_voronoi.py:18: RuntimeWarning: numpy.dtype size changed, may indicate binary incompatibility. Expected 96, got 88\n",
      "  from . import _voronoi\n",
      "/Users/206479300/anaconda2/envs/conda_env/lib/python2.7/site-packages/scipy/linalg/basic.py:17: RuntimeWarning: numpy.dtype size changed, may indicate binary incompatibility. Expected 96, got 88\n",
      "  from ._solve_toeplitz import levinson\n",
      "/Users/206479300/anaconda2/envs/conda_env/lib/python2.7/site-packages/scipy/linalg/__init__.py:191: RuntimeWarning: numpy.dtype size changed, may indicate binary incompatibility. Expected 96, got 88\n",
      "  from ._decomp_update import *\n",
      "/Users/206479300/anaconda2/envs/conda_env/lib/python2.7/site-packages/scipy/spatial/distance.py:121: RuntimeWarning: numpy.dtype size changed, may indicate binary incompatibility. Expected 96, got 88\n",
      "  from . import _hausdorff\n",
      "/Users/206479300/anaconda2/envs/conda_env/lib/python2.7/site-packages/scipy/special/__init__.py:640: RuntimeWarning: numpy.dtype size changed, may indicate binary incompatibility. Expected 96, got 88\n",
      "  from ._ufuncs import *\n",
      "/Users/206479300/anaconda2/envs/conda_env/lib/python2.7/site-packages/scipy/special/_ellip_harm.py:7: RuntimeWarning: numpy.dtype size changed, may indicate binary incompatibility. Expected 96, got 88\n",
      "  from ._ellip_harm_2 import _ellipsoid, _ellipsoid_norm\n",
      "/Users/206479300/anaconda2/envs/conda_env/lib/python2.7/site-packages/scipy/optimize/_numdiff.py:8: RuntimeWarning: numpy.dtype size changed, may indicate binary incompatibility. Expected 96, got 88\n",
      "  from ._group_columns import group_dense, group_sparse\n",
      "/Users/206479300/anaconda2/envs/conda_env/lib/python2.7/site-packages/scipy/interpolate/_bsplines.py:9: RuntimeWarning: numpy.dtype size changed, may indicate binary incompatibility. Expected 96, got 88\n",
      "  from . import _bspl\n",
      "/Users/206479300/anaconda2/envs/conda_env/lib/python2.7/site-packages/scipy/ndimage/measurements.py:36: RuntimeWarning: numpy.dtype size changed, may indicate binary incompatibility. Expected 96, got 88\n",
      "  from . import _ni_label\n",
      "/Users/206479300/anaconda2/envs/conda_env/lib/python2.7/site-packages/scipy/stats/_continuous_distns.py:17: RuntimeWarning: numpy.dtype size changed, may indicate binary incompatibility. Expected 96, got 88\n",
      "  from . import _stats\n",
      "/Users/206479300/anaconda2/envs/conda_env/lib/python2.7/site-packages/scipy/cluster/vq.py:88: RuntimeWarning: numpy.dtype size changed, may indicate binary incompatibility. Expected 96, got 88\n",
      "  from . import _vq\n",
      "/Users/206479300/anaconda2/envs/conda_env/lib/python2.7/site-packages/scipy/cluster/hierarchy.py:178: RuntimeWarning: numpy.dtype size changed, may indicate binary incompatibility. Expected 96, got 88\n",
      "  from . import _hierarchy\n",
      "/Users/206479300/anaconda2/envs/conda_env/lib/python2.7/site-packages/scipy/io/matlab/mio4.py:18: RuntimeWarning: numpy.dtype size changed, may indicate binary incompatibility. Expected 96, got 88\n",
      "  from .mio_utils import squeeze_element, chars_to_strings\n",
      "/Users/206479300/anaconda2/envs/conda_env/lib/python2.7/site-packages/scipy/io/matlab/mio5.py:98: RuntimeWarning: numpy.dtype size changed, may indicate binary incompatibility. Expected 96, got 88\n",
      "  from .mio5_utils import VarReader5\n"
     ]
    }
   ],
   "source": [
    "# Imports\n",
    "import gc\n",
    "import menpo.io as mio\n",
    "import matplotlib.pyplot as plt\n",
    "import numpy as np\n",
    "import os\n",
    "import random\n",
    "import seaborn as sns\n",
    "import shutil\n",
    "\n",
    "from menpo.visualize import print_progress\n",
    "from menpo.landmark import labeller, face_ibug_68_to_face_ibug_68_trimesh, face_ibug_68_to_face_ibug_66_trimesh\n",
    "from menpofit.aam import PatchAAM\n",
    "from menpo.feature import fast_dsift\n",
    "from menpofit.aam import LucasKanadeAAMFitter, WibergInverseCompositional\n",
    "from menpodetect import load_dlib_frontal_face_detector\n",
    "from menpofit.builder import warp_images\n",
    "from menpofit.builder import build_reference_frame\n",
    "from menpo.transform import PiecewiseAffine\n",
    "from menpo.model import PCAModel\n",
    "from sklearn.cluster import KMeans\n",
    "from sklearn import svm\n",
    "from sklearn.metrics import confusion_matrix, roc_curve, auc, precision_recall_fscore_support\n",
    "\n",
    "from os.path import join, dirname, realpath\n",
    "\n",
    "%matplotlib inline"
   ]
  },
  {
   "cell_type": "markdown",
   "metadata": {},
   "source": [
    "### Train AAM model (Using subset of images)"
   ]
  },
  {
   "cell_type": "markdown",
   "metadata": {},
   "source": [
    "#### Data preprocessing"
   ]
  },
  {
   "cell_type": "code",
   "execution_count": 2,
   "metadata": {},
   "outputs": [],
   "source": [
    "reformat_pts_files_sh = '''\n",
    "shopt -s nullglob\n",
    "\n",
    "ex -sc '1i|{{' -cx \"{pts_file}\"\n",
    "ex -sc '1i|n_points:  66' -cx \"{pts_file}\"\n",
    "ex -sc '1i|version: 1' -cx \"{pts_file}\"\n",
    "echo \"}}\" >> {pts_file}\n",
    "'''\n",
    "\n",
    "images_path = join(dirname(os.getcwd()), 'Images')\n",
    "aam_path = join(dirname(os.getcwd()), 'AAM_landmarks')\n",
    "labels_path = join(dirname(os.getcwd()), 'Frame_Labels', 'PSPI')\n",
    "\n",
    "training_images = []\n",
    "training_labels = []"
   ]
  },
  {
   "cell_type": "code",
   "execution_count": 25,
   "metadata": {},
   "outputs": [],
   "source": [
    "# NOTE: this cell takes around 45 mins to run\n",
    "import subprocess\n",
    "\n",
    "for subject in os.listdir(aam_path):\n",
    "    if subject != '.DS_Store':\n",
    "        for sequence in os.listdir(join(aam_path, subject)):\n",
    "            if sequence != '.DS_Store':\n",
    "                for aam_file_src in os.listdir(join(aam_path, subject, sequence)):\n",
    "                    if aam_file_src != '.DS_Store':\n",
    "                        aam_file_dst = '{}.pts'.format(aam_file_src.split('_')[0])\n",
    "                        aam_file_src_path = join(aam_path, subject, sequence, aam_file_src)\n",
    "                        aam_file_dst_path = join(images_path, subject, sequence, aam_file_dst)\n",
    "                        \n",
    "                        shutil.copyfile(aam_file_src_path, aam_file_dst_path)\n",
    "                        subprocess.check_call(reformat_pts_files_sh.format(pts_file=aam_file_dst_path), shell=True)"
   ]
  },
  {
   "cell_type": "code",
   "execution_count": 3,
   "metadata": {},
   "outputs": [
    {
     "name": "stdout",
     "output_type": "stream",
     "text": [
      "Found 683 assets, index the returned LazyList to import.\n",
      "[====================] 100% (683/683) - done.                                   \n",
      "Found 187 assets, index the returned LazyList to import.\n",
      "[====================] 100% (187/187) - done.                                   \n",
      "Found 155 assets, index the returned LazyList to import.\n",
      "[====================] 100% (155/155) - done.                                   \n",
      "Found 350 assets, index the returned LazyList to import.\n",
      "[====================] 100% (350/350) - done.                                   \n",
      "Found 128 assets, index the returned LazyList to import.\n",
      "[====================] 100% (128/128) - done.                                   \n",
      "Found 168 assets, index the returned LazyList to import.\n",
      "[====================] 100% (168/168) - done.                                   \n",
      "Found 143 assets, index the returned LazyList to import.\n",
      "[====================] 100% (143/143) - done.                                   \n",
      "Found 320 assets, index the returned LazyList to import.\n",
      "[====================] 100% (320/320) - done.                                   \n",
      "Found 103 assets, index the returned LazyList to import.\n",
      "[====================] 100% (103/103) - done.                                   \n",
      "Found 161 assets, index the returned LazyList to import.\n",
      "[====================] 100% (161/161) - done.                                   \n",
      "Found 163 assets, index the returned LazyList to import.\n",
      "[====================] 100% (163/163) - done.                                   \n",
      "Found 119 assets, index the returned LazyList to import.\n",
      "[====================] 100% (119/119) - done.                                   \n",
      "Found 167 assets, index the returned LazyList to import.\n",
      "[====================] 100% (167/167) - done.                                   \n",
      "Found 100 assets, index the returned LazyList to import.\n",
      "[====================] 100% (100/100) - done.                                   \n",
      "Found 124 assets, index the returned LazyList to import.\n",
      "[====================] 100% (124/124) - done.                                   \n",
      "Found 84 assets, index the returned LazyList to import.\n",
      "[====================] 100% (84/84) - done.                                     \n",
      "Found 99 assets, index the returned LazyList to import.\n",
      "[====================] 100% (99/99) - done.                                     \n",
      "Found 245 assets, index the returned LazyList to import.\n",
      "[====================] 100% (245/245) - done.                                   \n",
      "Found 154 assets, index the returned LazyList to import.\n",
      "[====================] 100% (154/154) - done.                                   \n",
      "Found 139 assets, index the returned LazyList to import.\n",
      "[====================] 100% (139/139) - done.                                   \n",
      "Found 465 assets, index the returned LazyList to import.\n",
      "[====================] 100% (465/465) - done.                                   \n",
      "Found 197 assets, index the returned LazyList to import.\n",
      "[====================] 100% (197/197) - done.                                   \n",
      "Found 180 assets, index the returned LazyList to import.\n",
      "[====================] 100% (180/180) - done.                                   \n",
      "Found 228 assets, index the returned LazyList to import.\n",
      "[====================] 100% (228/228) - done.                                   \n",
      "Found 111 assets, index the returned LazyList to import.\n",
      "[====================] 100% (111/111) - done.                                   \n",
      "Found 174 assets, index the returned LazyList to import.\n",
      "[====================] 100% (174/174) - done.                                   \n",
      "Found 48 assets, index the returned LazyList to import.\n",
      "[====================] 100% (48/48) - done.                                     \n",
      "Found 162 assets, index the returned LazyList to import.\n",
      "[====================] 100% (162/162) - done.                                   \n",
      "Found 96 assets, index the returned LazyList to import.\n",
      "[====================] 100% (96/96) - done.                                     \n",
      "Found 231 assets, index the returned LazyList to import.\n",
      "[====================] 100% (231/231) - done.                                   \n",
      "Found 72 assets, index the returned LazyList to import.\n",
      "[====================] 100% (72/72) - done.                                     \n",
      "Found 495 assets, index the returned LazyList to import.\n",
      "[====================] 100% (495/495) - done.                                   \n",
      "Found 345 assets, index the returned LazyList to import.\n",
      "[====================] 100% (345/345) - done.                                   \n",
      "Found 330 assets, index the returned LazyList to import.\n",
      "[====================] 100% (330/330) - done.                                   \n",
      "Found 315 assets, index the returned LazyList to import.\n",
      "[====================] 100% (315/315) - done.                                   \n",
      "Found 427 assets, index the returned LazyList to import.\n",
      "[====================] 100% (427/427) - done.                                   \n",
      "Found 233 assets, index the returned LazyList to import.\n",
      "[====================] 100% (233/233) - done.                                   \n",
      "Found 352 assets, index the returned LazyList to import.\n",
      "[====================] 100% (352/352) - done.                                   \n",
      "Found 255 assets, index the returned LazyList to import.\n",
      "[====================] 100% (255/255) - done.                                   \n",
      "Found 374 assets, index the returned LazyList to import.\n",
      "[====================] 100% (374/374) - done.                                   \n",
      "Found 165 assets, index the returned LazyList to import.\n",
      "[====================] 100% (165/165) - done.                                   \n",
      "Found 211 assets, index the returned LazyList to import.\n",
      "[====================] 100% (211/211) - done.                                   \n",
      "Found 168 assets, index the returned LazyList to import.\n",
      "[====================] 100% (168/168) - done.                                   \n",
      "Found 468 assets, index the returned LazyList to import.\n",
      "[====================] 100% (468/468) - done.                                   \n",
      "Found 135 assets, index the returned LazyList to import.\n",
      "[====================] 100% (135/135) - done.                                   \n",
      "Found 226 assets, index the returned LazyList to import.\n",
      "[====================] 100% (226/226) - done.                                   \n",
      "Found 235 assets, index the returned LazyList to import.\n",
      "[====================] 100% (235/235) - done.                                   \n",
      "Found 159 assets, index the returned LazyList to import.\n",
      "[====================] 100% (159/159) - done.                                   \n",
      "Found 468 assets, index the returned LazyList to import.\n",
      "[====================] 100% (468/468) - done.                                   \n",
      "Found 405 assets, index the returned LazyList to import.\n",
      "[====================] 100% (405/405) - done.                                   \n",
      "Found 368 assets, index the returned LazyList to import.\n",
      "[====================] 100% (368/368) - done.                                   \n",
      "Found 397 assets, index the returned LazyList to import.\n",
      "[====================] 100% (397/397) - done.                                   \n",
      "Found 308 assets, index the returned LazyList to import.\n",
      "[====================] 100% (308/308) - done.                                   \n",
      "Found 337 assets, index the returned LazyList to import.\n",
      "[====================] 100% (337/337) - done.                                   \n",
      "Found 142 assets, index the returned LazyList to import.\n",
      "[====================] 100% (142/142) - done.                                   \n",
      "Found 263 assets, index the returned LazyList to import.\n",
      "[====================] 100% (263/263) - done.                                   \n",
      "Found 165 assets, index the returned LazyList to import.\n",
      "[====================] 100% (165/165) - done.                                   \n",
      "Found 405 assets, index the returned LazyList to import.\n",
      "[====================] 100% (405/405) - done.                                   \n",
      "Found 375 assets, index the returned LazyList to import.\n",
      "[====================] 100% (375/375) - done.                                   \n",
      "Found 450 assets, index the returned LazyList to import.\n"
     ]
    },
    {
     "name": "stdout",
     "output_type": "stream",
     "text": [
      "[====================] 100% (450/450) - done.                                   \n",
      "Found 157 assets, index the returned LazyList to import.\n",
      "[====================] 100% (157/157) - done.                                   \n",
      "Found 172 assets, index the returned LazyList to import.\n",
      "[====================] 100% (172/172) - done.                                   \n",
      "Found 262 assets, index the returned LazyList to import.\n",
      "[====================] 100% (262/262) - done.                                   \n",
      "Found 195 assets, index the returned LazyList to import.\n",
      "[====================] 100% (195/195) - done.                                   \n",
      "Found 458 assets, index the returned LazyList to import.\n",
      "[====================] 100% (458/458) - done.                                   \n",
      "Found 382 assets, index the returned LazyList to import.\n",
      "[====================] 100% (382/382) - done.                                   \n",
      "Found 240 assets, index the returned LazyList to import.\n",
      "[====================] 100% (240/240) - done.                                   \n",
      "Found 352 assets, index the returned LazyList to import.\n",
      "[====================] 100% (352/352) - done.                                   \n",
      "Found 203 assets, index the returned LazyList to import.\n",
      "[====================] 100% (203/203) - done.                                   \n",
      "Found 382 assets, index the returned LazyList to import.\n",
      "[====================] 100% (382/382) - done.                                   \n",
      "Found 247 assets, index the returned LazyList to import.\n",
      "[====================] 100% (247/247) - done.                                   \n",
      "Found 232 assets, index the returned LazyList to import.\n",
      "[====================] 100% (232/232) - done.                                   \n",
      "Found 465 assets, index the returned LazyList to import.\n",
      "[====================] 100% (465/465) - done.                                   \n",
      "Found 197 assets, index the returned LazyList to import.\n",
      "[====================] 100% (197/197) - done.                                   \n",
      "Found 225 assets, index the returned LazyList to import.\n",
      "[====================] 100% (225/225) - done.                                   \n",
      "Found 240 assets, index the returned LazyList to import.\n",
      "[====================] 100% (240/240) - done.                                   \n",
      "Found 375 assets, index the returned LazyList to import.\n",
      "[====================] 100% (375/375) - done.                                   \n",
      "Found 300 assets, index the returned LazyList to import.\n",
      "[====================] 100% (300/300) - done.                                   \n",
      "Found 217 assets, index the returned LazyList to import.\n",
      "[====================] 100% (217/217) - done.                                   \n",
      "Found 292 assets, index the returned LazyList to import.\n",
      "[====================] 100% (292/292) - done.                                   \n",
      "Found 330 assets, index the returned LazyList to import.\n",
      "[====================] 100% (330/330) - done.                                   \n",
      "Found 285 assets, index the returned LazyList to import.\n",
      "[====================] 100% (285/285) - done.                                   \n",
      "Found 217 assets, index the returned LazyList to import.\n",
      "[====================] 100% (217/217) - done.                                   \n",
      "Found 285 assets, index the returned LazyList to import.\n",
      "[====================] 100% (285/285) - done.                                   \n",
      "Found 232 assets, index the returned LazyList to import.\n",
      "[====================] 100% (232/232) - done.                                   \n",
      "Found 225 assets, index the returned LazyList to import.\n",
      "[====================] 100% (225/225) - done.                                   \n",
      "Found 225 assets, index the returned LazyList to import.\n",
      "[====================] 100% (225/225) - done.                                   \n",
      "Found 307 assets, index the returned LazyList to import.\n",
      "[====================] 100% (307/307) - done.                                   \n",
      "Found 255 assets, index the returned LazyList to import.\n",
      "[====================] 100% (255/255) - done.                                   \n",
      "Found 518 assets, index the returned LazyList to import.\n",
      "[====================] 100% (518/518) - done.                                   \n",
      "Found 255 assets, index the returned LazyList to import.\n",
      "[====================] 100% (255/255) - done.                                   \n",
      "Found 225 assets, index the returned LazyList to import.\n",
      "[====================] 100% (225/225) - done.                                   \n",
      "Found 300 assets, index the returned LazyList to import.\n",
      "[====================] 100% (300/300) - done.                                   \n",
      "Found 247 assets, index the returned LazyList to import.\n",
      "[====================] 100% (247/247) - done.                                   \n",
      "Found 180 assets, index the returned LazyList to import.\n",
      "[====================] 100% (180/180) - done.                                   \n",
      "Found 345 assets, index the returned LazyList to import.\n",
      "[====================] 100% (345/345) - done.                                   \n",
      "Found 240 assets, index the returned LazyList to import.\n",
      "[====================] 100% (240/240) - done.                                   \n",
      "Found 203 assets, index the returned LazyList to import.\n",
      "[====================] 100% (203/203) - done.                                   \n",
      "Found 157 assets, index the returned LazyList to import.\n",
      "[====================] 100% (157/157) - done.                                   \n",
      "Found 187 assets, index the returned LazyList to import.\n",
      "[====================] 100% (187/187) - done.                                   \n",
      "Found 165 assets, index the returned LazyList to import.\n",
      "[====================] 100% (165/165) - done.                                   \n",
      "Found 150 assets, index the returned LazyList to import.\n",
      "[====================] 100% (150/150) - done.                                   \n",
      "Found 188 assets, index the returned LazyList to import.\n",
      "[====================] 100% (188/188) - done.                                   \n",
      "Found 615 assets, index the returned LazyList to import.\n",
      "[====================] 100% (615/615) - done.                                   \n",
      "Found 347 assets, index the returned LazyList to import.\n",
      "[====================] 100% (347/347) - done.                                   \n",
      "Found 225 assets, index the returned LazyList to import.\n",
      "[====================] 100% (225/225) - done.                                   \n",
      "Found 300 assets, index the returned LazyList to import.\n",
      "[====================] 100% (300/300) - done.                                   \n",
      "Found 261 assets, index the returned LazyList to import.\n",
      "[====================] 100% (261/261) - done.                                   \n",
      "Found 270 assets, index the returned LazyList to import.\n",
      "[====================] 100% (270/270) - done.                                   \n",
      "Found 138 assets, index the returned LazyList to import.\n",
      "[====================] 100% (138/138) - done.                                   \n",
      "Found 438 assets, index the returned LazyList to import.\n",
      "[====================] 100% (438/438) - done.                                   \n",
      "Found 225 assets, index the returned LazyList to import.\n",
      "[====================] 100% (225/225) - done.                                   \n",
      "Found 233 assets, index the returned LazyList to import.\n",
      "[====================] 100% (233/233) - done.                                   \n",
      "Found 150 assets, index the returned LazyList to import.\n",
      "[====================] 100% (150/150) - done.                                   \n",
      "Found 277 assets, index the returned LazyList to import.\n",
      "[====================] 100% (277/277) - done.                                   \n",
      "Found 195 assets, index the returned LazyList to import.\n",
      "[====================] 100% (195/195) - done.                                   \n",
      "Found 225 assets, index the returned LazyList to import.\n",
      "[====================] 100% (225/225) - done.                                   \n",
      "Found 165 assets, index the returned LazyList to import.\n",
      "[====================] 100% (165/165) - done.                                   \n",
      "Found 510 assets, index the returned LazyList to import.\n",
      "[====================] 100% (510/510) - done.                                   \n",
      "Found 225 assets, index the returned LazyList to import.\n",
      "[====================] 100% (225/225) - done.                                   \n",
      "Found 217 assets, index the returned LazyList to import.\n",
      "[====================] 100% (217/217) - done.                                   \n",
      "Found 105 assets, index the returned LazyList to import.\n",
      "[====================] 100% (105/105) - done.                                   \n",
      "Found 232 assets, index the returned LazyList to import.\n",
      "[====================] 100% (232/232) - done.                                   \n",
      "Found 210 assets, index the returned LazyList to import.\n",
      "[====================] 100% (210/210) - done.                                   \n",
      "Found 210 assets, index the returned LazyList to import.\n",
      "[====================] 100% (210/210) - done.                                   \n",
      "Found 135 assets, index the returned LazyList to import.\n",
      "[====================] 100% (135/135) - done.                                   \n",
      "Found 300 assets, index the returned LazyList to import.\n",
      "[====================] 100% (300/300) - done.                                   \n",
      "Found 203 assets, index the returned LazyList to import.\n",
      "[====================] 100% (203/203) - done.                                   \n",
      "Found 338 assets, index the returned LazyList to import.\n",
      "[====================] 100% (338/338) - done.                                   \n",
      "Found 210 assets, index the returned LazyList to import.\n",
      "[====================] 100% (210/210) - done.                                   \n",
      "Found 233 assets, index the returned LazyList to import.\n",
      "[====================] 100% (233/233) - done.                                   \n",
      "Found 173 assets, index the returned LazyList to import.\n",
      "[====================] 100% (173/173) - done.                                   \n",
      "Found 352 assets, index the returned LazyList to import.\n",
      "[====================] 100% (352/352) - done.                                   \n",
      "Found 120 assets, index the returned LazyList to import.\n",
      "[====================] 100% (120/120) - done.                                   \n",
      "Found 217 assets, index the returned LazyList to import.\n",
      "[====================] 100% (217/217) - done.                                   \n",
      "Found 240 assets, index the returned LazyList to import.\n",
      "[====================] 100% (240/240) - done.                                   \n",
      "Found 142 assets, index the returned LazyList to import.\n",
      "[====================] 100% (142/142) - done.                                   \n",
      "Found 210 assets, index the returned LazyList to import.\n",
      "[====================] 100% (210/210) - done.                                   \n",
      "Found 98 assets, index the returned LazyList to import.\n",
      "[====================] 100% (98/98) - done.                                     \n",
      "Found 150 assets, index the returned LazyList to import.\n",
      "[====================] 100% (150/150) - done.                                   \n",
      "Found 165 assets, index the returned LazyList to import.\n",
      "[====================] 100% (165/165) - done.                                   \n",
      "Found 150 assets, index the returned LazyList to import.\n",
      "[====================] 100% (150/150) - done.                                   \n",
      "Found 225 assets, index the returned LazyList to import.\n",
      "[====================] 100% (225/225) - done.                                   \n",
      "Found 225 assets, index the returned LazyList to import.\n",
      "[====================] 100% (225/225) - done.                                   \n",
      "Found 285 assets, index the returned LazyList to import.\n",
      "[====================] 100% (285/285) - done.                                   \n",
      "Found 263 assets, index the returned LazyList to import.\n",
      "[====================] 100% (263/263) - done.                                   \n",
      "Found 412 assets, index the returned LazyList to import.\n",
      "[====================] 100% (412/412) - done.                                   \n"
     ]
    }
   ],
   "source": [
    "pain_label_indices = []\n",
    "\n",
    "pain_label_count = 0\n",
    "pain_sample_count = 0\n",
    "\n",
    "#num_pain_samples = 5000\n",
    "num_pain_samples = 6000\n",
    "\n",
    "# find pain samples\n",
    "for subject_index, subject in enumerate(os.listdir(labels_path)):\n",
    "    pain_label_indices.append([])\n",
    "    if subject != '.DS_Store':\n",
    "        for sequence_index, sequence in enumerate(os.listdir(join(labels_path, subject))):\n",
    "            pain_label_indices[subject_index].append([])\n",
    "            if sequence != '.DS_Store':\n",
    "                for pspi_file_index, pspi_file in enumerate(os.listdir(join(labels_path, subject, sequence))):\n",
    "                    if pspi_file != '.DS_Store':\n",
    "                        with open(join(labels_path, subject, sequence, pspi_file), 'r') as f_in:\n",
    "                            if float(f_in.read().strip()) > 0.0:\n",
    "                                pain_label_indices[subject_index][sequence_index].append(pspi_file_index)\n",
    "\n",
    "# add pain samples\n",
    "for subject_index, subject in enumerate(os.listdir(labels_path)):\n",
    "    if subject != '.DS_Store' and pain_sample_count < num_pain_samples:\n",
    "        for sequence_index, sequence in enumerate(os.listdir(join(labels_path, subject))):\n",
    "            if sequence != '.DS_Store' and pain_sample_count < num_pain_samples:\n",
    "                for pspi_file_index, pspi_file in enumerate(os.listdir(join(labels_path, subject, sequence))):\n",
    "                    if pain_label_count < num_pain_samples and pspi_file != '.DS_Store' and pspi_file_index in pain_label_indices[subject_index][sequence_index]:\n",
    "                        with open(join(labels_path, subject, sequence, pspi_file), 'r') as f_in:\n",
    "                            training_labels.append(float(f_in.read().strip()))\n",
    "                            pain_label_count += 1\n",
    "\n",
    "                for img_index, img in enumerate(print_progress(mio.import_images(join(images_path, subject, sequence) + '/', verbose=True))):\n",
    "                    if pain_sample_count < num_pain_samples and img_index in pain_label_indices[subject_index][sequence_index]:\n",
    "                        # convert to greyscale\n",
    "                        if img.n_channels == 3:\n",
    "                            img = img.as_greyscale()\n",
    "                        # crop to landmarks bounding box with an extra 20% padding\n",
    "                        img = img.crop_to_landmarks_proportion(0.2)\n",
    "                        # rescale image if its diagonal is bigger than 400 pixels\n",
    "                        d = img.diagonal()\n",
    "                        if d > 400:\n",
    "                            img = img.rescale(400.0 / d)\n",
    "                        # append to list\n",
    "                        training_images.append(img)\n",
    "                        pain_sample_count += 1"
   ]
  },
  {
   "cell_type": "code",
   "execution_count": 4,
   "metadata": {},
   "outputs": [
    {
     "name": "stdout",
     "output_type": "stream",
     "text": [
      "Found 683 assets, index the returned LazyList to import.\n",
      "[====================] 100% (683/683) - done.                                   \n",
      "Found 187 assets, index the returned LazyList to import.\n",
      "[====================] 100% (187/187) - done.                                   \n",
      "Found 155 assets, index the returned LazyList to import.\n",
      "[====================] 100% (155/155) - done.                                   \n",
      "Found 350 assets, index the returned LazyList to import.\n",
      "[====================] 100% (350/350) - done.                                   \n",
      "Found 128 assets, index the returned LazyList to import.\n",
      "[====================] 100% (128/128) - done.                                   \n",
      "Found 168 assets, index the returned LazyList to import.\n",
      "[====================] 100% (168/168) - done.                                   \n",
      "Found 143 assets, index the returned LazyList to import.\n",
      "[====================] 100% (143/143) - done.                                   \n",
      "Found 320 assets, index the returned LazyList to import.\n",
      "[====================] 100% (320/320) - done.                                   \n",
      "Found 103 assets, index the returned LazyList to import.\n",
      "[====================] 100% (103/103) - done.                                   \n",
      "Found 161 assets, index the returned LazyList to import.\n",
      "[====================] 100% (161/161) - done.                                   \n",
      "Found 163 assets, index the returned LazyList to import.\n",
      "[====================] 100% (163/163) - done.                                   \n",
      "Found 119 assets, index the returned LazyList to import.\n",
      "[====================] 100% (119/119) - done.                                   \n",
      "Found 167 assets, index the returned LazyList to import.\n",
      "[====================] 100% (167/167) - done.                                   \n",
      "Found 100 assets, index the returned LazyList to import.\n",
      "[====================] 100% (100/100) - done.                                   \n",
      "Found 124 assets, index the returned LazyList to import.\n",
      "[====================] 100% (124/124) - done.                                   \n",
      "Found 84 assets, index the returned LazyList to import.\n",
      "[====================] 100% (84/84) - done.                                     \n",
      "Found 99 assets, index the returned LazyList to import.\n",
      "[====================] 100% (99/99) - done.                                     \n",
      "Found 245 assets, index the returned LazyList to import.\n",
      "[====================] 100% (245/245) - done.                                   \n",
      "Found 154 assets, index the returned LazyList to import.\n",
      "[====================] 100% (154/154) - done.                                   \n",
      "Found 139 assets, index the returned LazyList to import.\n",
      "[====================] 100% (139/139) - done.                                   \n",
      "Found 465 assets, index the returned LazyList to import.\n",
      "[====================] 100% (465/465) - done.                                   \n",
      "Found 197 assets, index the returned LazyList to import.\n",
      "[====================] 100% (197/197) - done.                                   \n",
      "Found 180 assets, index the returned LazyList to import.\n",
      "[====================] 100% (180/180) - done.                                   \n",
      "Found 228 assets, index the returned LazyList to import.\n",
      "[====================] 100% (228/228) - done.                                   \n",
      "Found 111 assets, index the returned LazyList to import.\n",
      "[====================] 100% (111/111) - done.                                   \n",
      "Found 174 assets, index the returned LazyList to import.\n",
      "[====================] 100% (174/174) - done.                                   \n",
      "Found 48 assets, index the returned LazyList to import.\n",
      "[====================] 100% (48/48) - done.                                     \n",
      "Found 162 assets, index the returned LazyList to import.\n",
      "[====================] 100% (162/162) - done.                                   \n",
      "Found 96 assets, index the returned LazyList to import.\n",
      "[====================] 100% (96/96) - done.                                     \n",
      "Found 231 assets, index the returned LazyList to import.\n",
      "[====================] 100% (231/231) - done.                                   \n",
      "Found 72 assets, index the returned LazyList to import.\n",
      "[====================] 100% (72/72) - done.                                     \n",
      "Found 495 assets, index the returned LazyList to import.\n",
      "[====================] 100% (495/495) - done.                                   \n",
      "Found 345 assets, index the returned LazyList to import.\n",
      "[====================] 100% (345/345) - done.                                   \n",
      "Found 330 assets, index the returned LazyList to import.\n",
      "[====================] 100% (330/330) - done.                                   \n"
     ]
    }
   ],
   "source": [
    "no_pain_label_indices = []\n",
    "\n",
    "no_pain_label_count = 0\n",
    "no_pain_sample_count = 0\n",
    "\n",
    "#num_no_pain_samples = 5000\n",
    "num_no_pain_samples = 6000\n",
    "\n",
    "# find no pain samples\n",
    "for subject_index, subject in enumerate(os.listdir(labels_path)):\n",
    "    no_pain_label_indices.append([])\n",
    "    if subject != '.DS_Store':\n",
    "        for sequence_index, sequence in enumerate(os.listdir(join(labels_path, subject))):\n",
    "            no_pain_label_indices[subject_index].append([])\n",
    "            if sequence != '.DS_Store':\n",
    "                for pspi_file_index, pspi_file in enumerate(os.listdir(join(labels_path, subject, sequence))):\n",
    "                    if pspi_file != '.DS_Store':\n",
    "                        with open(join(labels_path, subject, sequence, pspi_file), 'r') as f_in:\n",
    "                            if float(f_in.read().strip()) == 0.0:\n",
    "                                no_pain_label_indices[subject_index][sequence_index].append(pspi_file_index)\n",
    "\n",
    "# add no pain samples\n",
    "for subject_index, subject in enumerate(os.listdir(labels_path)):\n",
    "    if subject != '.DS_Store' and no_pain_sample_count < num_no_pain_samples:\n",
    "        for sequence_index, sequence in enumerate(os.listdir(join(labels_path, subject))):\n",
    "            if sequence != '.DS_Store' and no_pain_sample_count < num_no_pain_samples:\n",
    "                for pspi_file_index, pspi_file in enumerate(os.listdir(join(labels_path, subject, sequence))):\n",
    "                    if no_pain_label_count < num_no_pain_samples and pspi_file != '.DS_Store' and pspi_file_index in no_pain_label_indices[subject_index][sequence_index]:\n",
    "                        with open(join(labels_path, subject, sequence, pspi_file), 'r') as f_in:\n",
    "                            training_labels.append(float(f_in.read().strip()))\n",
    "                            no_pain_label_count += 1\n",
    "\n",
    "                for img_index, img in enumerate(print_progress(mio.import_images(join(images_path, subject, sequence) + '/', verbose=True))):\n",
    "                    if no_pain_sample_count < num_no_pain_samples and img_index in no_pain_label_indices[subject_index][sequence_index]:\n",
    "                        # convert to greyscale\n",
    "                        if img.n_channels == 3:\n",
    "                            img = img.as_greyscale()\n",
    "                        # crop to landmarks bounding box with an extra 20% padding\n",
    "                        img = img.crop_to_landmarks_proportion(0.2)\n",
    "                        # rescale image if its diagonal is bigger than 400 pixels\n",
    "                        d = img.diagonal()\n",
    "                        if d > 400:\n",
    "                            img = img.rescale(400.0 / d)\n",
    "                        # append to list\n",
    "                        training_images.append(img)\n",
    "                        no_pain_sample_count += 1"
   ]
  },
  {
   "cell_type": "code",
   "execution_count": 5,
   "metadata": {},
   "outputs": [
    {
     "name": "stdout",
     "output_type": "stream",
     "text": [
      "Number of images loaded: 12000\n",
      "Number of 0 (no pain) labels loaded: 6000\n",
      "Number of 1 (pain) labels loaded: 6000\n",
      "8369\n",
      "40029\n"
     ]
    }
   ],
   "source": [
    "print 'Number of images loaded: {}'.format(len(training_images))\n",
    "print 'Number of 0 (no pain) labels loaded: {}'.format(len(filter(lambda x: x == 0.0, training_labels)))\n",
    "print 'Number of 1 (pain) labels loaded: {}'.format(len(filter(lambda x: x != 0.0, training_labels)))\n",
    "\n",
    "print sum([len(sequence) for subject in pain_label_indices for sequence in subject])\n",
    "print sum([len(sequence) for subject in no_pain_label_indices for sequence in subject])"
   ]
  },
  {
   "cell_type": "code",
   "execution_count": 6,
   "metadata": {},
   "outputs": [],
   "source": [
    "def shuffle_arrays(arrays, set_seed=-1):\n",
    "    \"\"\"Shuffles arrays in-place, in the same order, along axis=0\n",
    "\n",
    "    Parameters:\n",
    "    -----------\n",
    "    arrays : List of NumPy arrays.\n",
    "    set_seed : Seed value if int >= 0, else seed is random.\n",
    "    \"\"\"\n",
    "    assert all(len(arr) == len(arrays[0]) for arr in arrays)\n",
    "    seed = np.random.randint(0, 2**(32 - 1) - 1) if set_seed < 0 else set_seed\n",
    "\n",
    "    for arr in arrays:\n",
    "        rstate = np.random.RandomState(seed)\n",
    "        rstate.shuffle(arr)"
   ]
  },
  {
   "cell_type": "code",
   "execution_count": 7,
   "metadata": {},
   "outputs": [],
   "source": [
    "shuffle_arrays([training_images, training_labels])"
   ]
  },
  {
   "cell_type": "code",
   "execution_count": 96,
   "metadata": {},
   "outputs": [],
   "source": [
    "# training images = :11117\n",
    "## 549 ones, 10008 zeros\n",
    "\n",
    "# test images = 11117:\n",
    "## 2092 zeros, \n",
    "\n",
    "training_percentage_zeros = 0.10\n",
    "training_percentage_ones = 0.02\n",
    "test_percentage = 0.25\n",
    "\n",
    "k_zeros = int(len(images[:11117]) * training_percentage_zeros)\n",
    "k_ones = int(len(images[:11117]) * training_percentage_ones)\n",
    "k_test = int(len(images[11117:]) * test_percentage)\n",
    "\n",
    "sample_indices_zeros = [idx for idx in range(len(images[:11117])) if labels[:11117][idx] == 0]\n",
    "sample_indices_ones = [idx for idx in range(len(images[:11117])) if labels[:11117][idx] != 0]\n",
    "\n",
    "#training_indices_zeros = random.sample(xrange(len(sample_indices_zeros)), k_zeros)\n",
    "#training_indices_ones = random.sample(xrange(len(sample_indices_ones)), k_ones)\n",
    "training_indices_zeros = random.sample(sample_indices_zeros, k_zeros)\n",
    "training_indices_ones = random.sample(sample_indices_ones, k_ones)\n",
    "test_indices = random.sample(xrange(len(images[11117:])), k_test)\n",
    "\n",
    "training_images = [images[:11117][index] for index in training_indices_zeros + training_indices_ones]\n",
    "test_images = [images[11117:][index] for index in test_indices]\n",
    "\n",
    "training_labels = [labels[:11117][index] for index in training_indices_zeros + training_indices_ones]\n",
    "test_labels = [labels[11117:][index] for index in test_indices]"
   ]
  },
  {
   "cell_type": "code",
   "execution_count": 75,
   "metadata": {},
   "outputs": [],
   "source": [
    "training_samples = training_images\n",
    "test_samples = test_images"
   ]
  },
  {
   "cell_type": "code",
   "execution_count": 97,
   "metadata": {},
   "outputs": [
    {
     "name": "stdout",
     "output_type": "stream",
     "text": [
      "222\n",
      "222\n",
      "1109\n",
      "[1.0, 2.0, 2.0, 4.0, 4.0, 4.0, 5.0, 6.0, 6.0, 6.0]\n",
      "222\n",
      "1111\n",
      "[1.0, 4.0, 1.0, 1.0, 1.0, 3.0, 1.0, 1.0, 2.0, 1.0]\n"
     ]
    }
   ],
   "source": [
    "print sum([label > 0.0 for label in training_labels])\n",
    "\n",
    "print k_ones\n",
    "print len(sample_indices_ones)\n",
    "print [labels[idx] for idx in sample_indices_ones[:10]]\n",
    "print len(training_indices_ones)\n",
    "print len(training_indices_zeros)\n",
    "print [labels[idx] for idx in training_indices_ones[:10]]"
   ]
  },
  {
   "cell_type": "markdown",
   "metadata": {},
   "source": [
    "#### Train AAM"
   ]
  },
  {
   "cell_type": "code",
   "execution_count": 8,
   "metadata": {},
   "outputs": [
    {
     "name": "stdout",
     "output_type": "stream",
     "text": [
      "- Computing reference shape                                                     Computing batch 0\n",
      "- Building modelsges size: [==========] 100% (2000/2000) - done.                \n",
      "  - Scale 0: Doneding appearance model                                          ngining\n",
      "  - Scale 1: Doneding appearance model                                          ng\n",
      "                                                              "
     ]
    }
   ],
   "source": [
    "patch_aam = PatchAAM(training_images[:2000], group='PTS', patch_shape=[(15, 15), (23, 23)],\n",
    "                     diagonal=150, scales=(0.5, 1.0), holistic_features=fast_dsift,\n",
    "                     max_shape_components=20, max_appearance_components=150,\n",
    "                     verbose=True)"
   ]
  },
  {
   "cell_type": "code",
   "execution_count": 9,
   "metadata": {},
   "outputs": [],
   "source": [
    "fitter = LucasKanadeAAMFitter(patch_aam, lk_algorithm_cls=WibergInverseCompositional,\n",
    "                              n_shape=[5, 20], n_appearance=[30, 150])"
   ]
  },
  {
   "cell_type": "code",
   "execution_count": 10,
   "metadata": {},
   "outputs": [
    {
     "name": "stderr",
     "output_type": "stream",
     "text": [
      "/Users/206479300/anaconda2/envs/conda_env/lib/python2.7/site-packages/menpo/shape/pointcloud.py:261: MenpoDeprecationWarning: The .lms property is deprecated. LandmarkGroups are now shapes themselves - so you can use them directly anywhere you previously used .lms.Simply remove \".lms\" from your code and things will work as expected (and this warning will go away)\n",
      "  MenpoDeprecationWarning)\n"
     ]
    },
    {
     "name": "stdout",
     "output_type": "stream",
     "text": [
      "Fitting result of 66 landmark points.\n",
      "Initial error: 0.2222\n",
      "Reconstructed initial error: 0.2221\n",
      "Final error: 0.2612\n"
     ]
    },
    {
     "data": {
      "image/png": "[encoded data removed]",
      "text/plain": [
       "<Figure size 1080x936 with 3 Axes>"
      ]
     },
     "metadata": {},
     "output_type": "display_data"
    }
   ],
   "source": [
    "# Load detector\n",
    "detect = load_dlib_frontal_face_detector()\n",
    "\n",
    "# Load and convert to grayscale\n",
    "image = mio.import_image(join(images_path, '042-ll042', 'll042t1aaaff', 'll042t1aaaff242.png'))\n",
    "image = image.as_greyscale()\n",
    "\n",
    "# Detect face\n",
    "bboxes = detect(image)\n",
    "\n",
    "# Crop the image for better visualization of the result\n",
    "image = image.crop_to_landmarks_proportion(0.3, group='dlib_0')\n",
    "bboxes[0] = image.landmarks['dlib_0'].lms\n",
    "\n",
    "if len(bboxes) > 0:\n",
    "    # Fit AAM\n",
    "    result = fitter.fit_from_bb(image, bboxes[0], max_iters=[15, 5],\n",
    "                                gt_shape=image.landmarks['PTS'].lms)\n",
    "    print(result)\n",
    "\n",
    "    # Visualize\n",
    "    plt.subplot(131)\n",
    "    image.view()\n",
    "    bboxes[0].view(line_width=3, render_markers=False)\n",
    "    plt.gca().set_title('Bounding box')\n",
    "\n",
    "    plt.subplot(132)\n",
    "    image.view()\n",
    "    result.initial_shape.view(marker_size=4)\n",
    "    plt.gca().set_title('Initial shape')\n",
    "\n",
    "    plt.subplot(133)\n",
    "    image.view()\n",
    "    result.final_shape.view(marker_size=4, figure_size=(15, 13))\n",
    "    plt.gca().set_title('Final shape')"
   ]
  },
  {
   "cell_type": "code",
   "execution_count": 11,
   "metadata": {},
   "outputs": [
    {
     "data": {
      "text/plain": [
       "11957"
      ]
     },
     "execution_count": 11,
     "metadata": {},
     "output_type": "execute_result"
    }
   ],
   "source": [
    "# force garbage collection to free up some memory\n",
    "del patch_aam\n",
    "del fitter\n",
    "\n",
    "gc.collect()"
   ]
  },
  {
   "cell_type": "markdown",
   "metadata": {},
   "source": [
    "### Feature Extraction"
   ]
  },
  {
   "cell_type": "code",
   "execution_count": 8,
   "metadata": {},
   "outputs": [
    {
     "data": {
      "text/plain": [
       "PointCloud: n_points: 66, n_dims: 2"
      ]
     },
     "execution_count": 8,
     "metadata": {},
     "output_type": "execute_result"
    }
   ],
   "source": [
    "result.final_shape"
   ]
  },
  {
   "cell_type": "code",
   "execution_count": 9,
   "metadata": {},
   "outputs": [
    {
     "name": "stdout",
     "output_type": "stream",
     "text": [
      "PointCloud: n_points: 66, n_dims: 2\n"
     ]
    }
   ],
   "source": [
    "print training_images[0].landmarks.get('PTS')"
   ]
  },
  {
   "cell_type": "code",
   "execution_count": 12,
   "metadata": {},
   "outputs": [
    {
     "name": "stderr",
     "output_type": "stream",
     "text": [
      "/Users/206479300/anaconda2/envs/conda_env/lib/python2.7/site-packages/menpofit/builder.py:338: MenpoFitModelBuilderWarning: The reference shape passed is not a TriMesh or subclass and therefore the reference frame (mask) will be calculated via a Delaunay triangulation. This may cause small triangles and thus suboptimal warps.\n",
      "  MenpoFitModelBuilderWarning)\n",
      "/Users/206479300/anaconda2/envs/conda_env/lib/python2.7/site-packages/menpo/image/boolean.py:711: FutureWarning: Using a non-tuple sequence for multidimensional indexing is deprecated; use `arr[tuple(seq)]` instead of `arr[seq]`. In the future this will be interpreted as an array index, `arr[np.array(seq)]`, which will result either in an error or a different result.\n",
      "  copy.pixels[slices].flat = point_in_pointcloud(pointcloud, indices)\n"
     ]
    }
   ],
   "source": [
    "# extract shapes from images\n",
    "shapes_an = [i.landmarks.get('PTS') for i in training_images]\n",
    "\n",
    "# build reference frame\n",
    "reference_frame_an = build_reference_frame(result.final_shape)\n",
    "\n",
    "# Apply piece-wise affine warp on source images\n",
    "warped_images_an = warp_images(training_images, shapes_an, reference_frame_an, PiecewiseAffine)"
   ]
  },
  {
   "cell_type": "code",
   "execution_count": 13,
   "metadata": {},
   "outputs": [
    {
     "data": {
      "text/plain": [
       "121W x 158H 2D MaskedImage with 1 channels. Attached mask 69.1% true"
      ]
     },
     "execution_count": 13,
     "metadata": {},
     "output_type": "execute_result"
    }
   ],
   "source": [
    "warped_images_an[0]"
   ]
  },
  {
   "cell_type": "code",
   "execution_count": 10,
   "metadata": {},
   "outputs": [],
   "source": [
    "# extract shapes from images\n",
    "shapes_a0 = [i.landmarks.get('PTS') for i in training_images]\n",
    "\n",
    "# build reference frame\n",
    "reference_frame_a0 = build_reference_frame(result.gt_shape)\n",
    "\n",
    "# Apply piece-wise affine warp on source images\n",
    "warped_images_a0 = warp_images(training_images, shapes_a0, reference_frame_a0, PiecewiseAffine)"
   ]
  },
  {
   "cell_type": "code",
   "execution_count": 11,
   "metadata": {},
   "outputs": [
    {
     "data": {
      "text/plain": [
       "122W x 116H 2D MaskedImage with 1 channels. Attached mask 70.4% true"
      ]
     },
     "execution_count": 11,
     "metadata": {},
     "output_type": "execute_result"
    }
   ],
   "source": [
    "warped_images_a0[0]"
   ]
  },
  {
   "cell_type": "code",
   "execution_count": 14,
   "metadata": {},
   "outputs": [],
   "source": [
    "s_pts = result.final_shape.points\n",
    "s_app = warped_images_an\n",
    "#c_app = warped_images_a0"
   ]
  },
  {
   "cell_type": "markdown",
   "metadata": {},
   "source": [
    "### Prep data for model training + evaluation (Using S-APP Features)"
   ]
  },
  {
   "cell_type": "markdown",
   "metadata": {},
   "source": [
    "#### Transform PSPI labels into 0/1 (pain vs no pain) and attach labels to images"
   ]
  },
  {
   "cell_type": "code",
   "execution_count": 15,
   "metadata": {},
   "outputs": [],
   "source": [
    "final_training_images = s_app\n",
    "final_training_labels = [int(label > 0.0) for label in training_labels]"
   ]
  },
  {
   "cell_type": "code",
   "execution_count": 16,
   "metadata": {},
   "outputs": [
    {
     "name": "stdout",
     "output_type": "stream",
     "text": [
      "[0, 1, 1, 1, 0, 0, 0, 1, 0, 0]\n",
      "Number of labels showing pain: 6000\n",
      "Number of labels showing no pain: 6000\n",
      "\n"
     ]
    }
   ],
   "source": [
    "print final_training_labels[:10]\n",
    "print 'Number of labels showing pain: {}'.format(sum(final_training_labels))\n",
    "print 'Number of labels showing no pain: {}\\n'.format(len(final_training_labels) - sum(final_training_labels))"
   ]
  },
  {
   "cell_type": "markdown",
   "metadata": {},
   "source": [
    "#### Train/Test Data Split"
   ]
  },
  {
   "cell_type": "code",
   "execution_count": 17,
   "metadata": {},
   "outputs": [
    {
     "data": {
      "text/plain": [
       "array([12567])"
      ]
     },
     "execution_count": 17,
     "metadata": {},
     "output_type": "execute_result"
    }
   ],
   "source": [
    "vectorized_training_images = [sample.as_vector().tolist() for sample in final_training_images]\n",
    "np.unique(list(map(len, vectorized_training_images)))"
   ]
  },
  {
   "cell_type": "code",
   "execution_count": 18,
   "metadata": {},
   "outputs": [
    {
     "data": {
      "text/plain": [
       "47996"
      ]
     },
     "execution_count": 18,
     "metadata": {},
     "output_type": "execute_result"
    }
   ],
   "source": [
    "# force garbage collection to free up some memory\n",
    "del training_images\n",
    "del final_training_images\n",
    "del warped_images_an\n",
    "del s_app\n",
    "del result\n",
    "\n",
    "gc.collect()"
   ]
  },
  {
   "cell_type": "code",
   "execution_count": 110,
   "metadata": {},
   "outputs": [
    {
     "name": "stdout",
     "output_type": "stream",
     "text": [
      "[12675]\n",
      "[12675]\n"
     ]
    }
   ],
   "source": [
    "training_samples = [sample.as_vector().tolist() for sample in final_training_images]\n",
    "print np.unique(list(map(len, training_samples)))"
   ]
  },
  {
   "cell_type": "code",
   "execution_count": 19,
   "metadata": {},
   "outputs": [],
   "source": [
    "# Add labels to samples for clustering\n",
    "samples = []\n",
    "for image_idx, training_image in enumerate(vectorized_training_images):\n",
    "    sample = training_image + [final_training_labels[image_idx]]\n",
    "    samples.append(sample)"
   ]
  },
  {
   "cell_type": "code",
   "execution_count": 20,
   "metadata": {},
   "outputs": [
    {
     "data": {
      "text/plain": [
       "2"
      ]
     },
     "execution_count": 20,
     "metadata": {},
     "output_type": "execute_result"
    }
   ],
   "source": [
    "del vectorized_training_images\n",
    "\n",
    "gc.collect()"
   ]
  },
  {
   "cell_type": "markdown",
   "metadata": {},
   "source": [
    "#### Perform k-fold cross validation"
   ]
  },
  {
   "cell_type": "code",
   "execution_count": 21,
   "metadata": {},
   "outputs": [],
   "source": [
    "# Future enhancement: use k-fold cross-validation instead of one static split\n",
    "# In the paper, the test set was made up of ~15,760 images, the rest were used in training\n",
    "#training_percentage = 0.9\n",
    "training_percentage = 0.8\n",
    "k = int(len(samples) * training_percentage)\n",
    "\n",
    "training_indices = random.sample(xrange(len(samples)), k)\n",
    "test_indices = list(set(range(len(samples))) - set(training_indices))\n",
    "\n",
    "training_samples = [samples[index] for index in training_indices]\n",
    "test_samples = [samples[index] for index in test_indices]"
   ]
  },
  {
   "cell_type": "code",
   "execution_count": 23,
   "metadata": {},
   "outputs": [
    {
     "data": {
      "text/plain": [
       "0"
      ]
     },
     "execution_count": 23,
     "metadata": {},
     "output_type": "execute_result"
    }
   ],
   "source": [
    "# force garbage collection to free up some memory\n",
    "#del samples\n",
    "\n",
    "gc.collect()"
   ]
  },
  {
   "cell_type": "code",
   "execution_count": null,
   "metadata": {},
   "outputs": [],
   "source": [
    "training_percentage_zeros = 0.05\n",
    "training_percentage_ones = 0.05\n",
    "\n",
    "k_zeros = int(len(samples) * training_percentage_zeros)\n",
    "k_ones = int(len(samples) * training_percentage_ones)\n",
    "\n",
    "sample_indices_zeros = [idx for idx in range(len(samples)) if samples[idx] == 0]\n",
    "sample_indices_ones = [idx for idx in range(len(samples)) if samples[idx] == 1]\n",
    "\n",
    "training_indices_zeros = random.sample(xrange(len(sample_indices_zeros)), k_zeros)\n",
    "training_indices_ones = random.sample(xrange(len(sample_indices_ones)), k_ones)\n",
    "test_indices = list(set(range(len(samples[:1000]))) - set(training_indices_zeros) - set(training_indices_ones))\n",
    "\n",
    "training_samples = [samples[index] for index in training_indices_zeros + training_indices_ones]\n",
    "test_samples = [samples[index] for index in test_indices]"
   ]
  },
  {
   "cell_type": "code",
   "execution_count": null,
   "metadata": {},
   "outputs": [],
   "source": [
    "num_folds = 10\n",
    "samples_per_fold = int(float(len(samples)) / float(num_folds))\n",
    "sample_indices = set(range(len(samples))\n",
    "splits = []\n",
    "\n",
    "for fold in \n",
    "training_indices = random.sample(xrange(len(samples)), k)\n",
    "test_indices = list(set(range(len(samples))) - set(training_indices))\n",
    "\n",
    "training_samples = [samples[index] for index in training_indices]\n",
    "test_samples = [samples[index] for index in test_indices]"
   ]
  },
  {
   "cell_type": "code",
   "execution_count": 37,
   "metadata": {},
   "outputs": [
    {
     "name": "stdout",
     "output_type": "stream",
     "text": [
      "8000\n",
      "2000\n"
     ]
    }
   ],
   "source": [
    "print(len(training_samples))\n",
    "print(len(test_samples))"
   ]
  },
  {
   "cell_type": "markdown",
   "metadata": {},
   "source": [
    "#### Cluster Samples (Video Frames) to reduce dataset for SVM"
   ]
  },
  {
   "cell_type": "code",
   "execution_count": 22,
   "metadata": {},
   "outputs": [
    {
     "data": {
      "text/plain": [
       "0"
      ]
     },
     "execution_count": 22,
     "metadata": {},
     "output_type": "execute_result"
    }
   ],
   "source": [
    "training_samples[-1][-1]"
   ]
  },
  {
   "cell_type": "code",
   "execution_count": 21,
   "metadata": {},
   "outputs": [],
   "source": [
    "kmeans = KMeans(n_clusters=1000, random_state=0).fit(training_samples)"
   ]
  },
  {
   "cell_type": "markdown",
   "metadata": {},
   "source": [
    "### Model Training"
   ]
  },
  {
   "cell_type": "markdown",
   "metadata": {},
   "source": [
    "#### Pull training samples from clusters"
   ]
  },
  {
   "cell_type": "code",
   "execution_count": 22,
   "metadata": {},
   "outputs": [
    {
     "data": {
      "text/plain": [
       "array([150, 497, 100, 632, 875, 763, 430,  82, 466, 123, 668, 629, 373,\n",
       "       764, 592, 522,  62, 897, 413, 428, 162,  63, 468, 627, 523, 176,\n",
       "       435, 371, 199, 778, 880,  95, 290, 259, 412, 576, 696, 198,  99,\n",
       "       691,  83, 212,  51, 798, 528, 205,  21, 130, 381, 532, 842, 216,\n",
       "       210, 830, 379, 881,  33, 421, 799, 852, 638,  61, 105,  84, 124,\n",
       "       664, 582, 872, 470, 103, 659, 474,  90, 609,  79, 143,  46, 202,\n",
       "       657, 425, 796, 331, 488, 801,  18, 605,  86, 761, 429, 191, 793,\n",
       "       416, 874, 669, 160, 833, 720, 548, 590, 449, 883, 501, 860, 550,\n",
       "       245, 789, 303, 887, 242, 237,  32, 108, 335, 565, 530, 840, 434,\n",
       "       858, 457, 835, 378, 797, 814, 553, 336, 493, 637, 209, 577, 882,\n",
       "       213, 121, 211,  73,  45, 787, 494, 411, 672, 885, 158, 325, 757,\n",
       "         6, 583, 280, 177, 646, 884, 185, 507, 601, 776, 250, 509, 233,\n",
       "       324, 567, 727,  64, 368, 258, 301, 822, 402,  43, 310, 768, 886,\n",
       "       563, 893, 626, 201, 518, 126,  74, 271, 440, 391, 490, 598, 810,\n",
       "       427,  19, 736, 535, 483, 156,   5, 594, 477, 765, 813, 571, 166,\n",
       "       660, 582,  42, 275,  92, 221, 812, 322, 898, 193, 436, 597, 228,\n",
       "       462, 248, 144, 167, 762, 579, 344,  15, 227, 298, 524, 277, 802,\n",
       "       251, 651, 615, 510, 163, 795, 492,  93, 826, 147, 292, 356, 495,\n",
       "       589, 502, 682, 164,  41, 137, 347, 472, 876, 695, 479, 607,  78,\n",
       "       288,  13, 225, 618, 729, 684, 113, 341, 302, 647, 867, 514, 252,\n",
       "       692, 536, 533,  68, 670, 384, 774, 849, 718, 190, 685, 773, 266,\n",
       "       621, 441, 604, 854, 783, 422, 297, 513, 829, 587, 314, 866, 222,\n",
       "       181, 131,   7, 848,  72, 689, 756, 824,  88, 784, 239,  75,  64,\n",
       "       552, 299, 217,   8, 566, 831, 703, 556, 608, 675, 531, 699, 145,\n",
       "       274, 102, 526, 394, 886, 767, 175, 588, 892, 809, 700, 869, 827,\n",
       "       728, 635, 151, 437, 702,   3, 312,  56,  77, 777, 499,  58, 781,\n",
       "       708, 329, 681, 804, 558, 817, 417, 602, 262, 643, 345, 711, 861,\n",
       "       667, 395, 223, 780, 591, 196, 153,  96, 466, 829, 333, 578, 377,\n",
       "       642, 748,  37, 115, 323, 188, 785,  38, 751, 612, 503, 569, 698,\n",
       "       296, 443, 572, 317, 735, 287, 505, 687, 750, 697, 653, 560, 836,\n",
       "       295, 654, 132, 623, 400, 525, 424, 348, 890,  19, 316, 374, 319,\n",
       "       108, 825, 269, 453, 678, 500, 446, 482, 224, 327, 496, 819, 355,\n",
       "       404, 834, 264, 246, 859, 871, 433, 195, 686, 291, 790,  66, 722,\n",
       "       655, 206, 273,  16, 840, 694, 309, 818, 551, 304, 349,  44, 157,\n",
       "       771, 388, 255, 386, 539, 719, 759, 545, 268, 846, 487,  22, 850,\n",
       "       426, 504, 714,  67, 206, 546,  60, 511, 478, 652, 548, 485, 661,\n",
       "       705, 112, 114, 168, 707, 220, 419, 182, 547, 628, 639, 595, 249,\n",
       "       229, 684, 340, 432, 857, 593, 318, 753, 450, 676,  28, 820, 261,\n",
       "       464, 791,  19, 837,  52, 272,  71, 204, 353, 484, 197, 282, 372,\n",
       "       397,  39, 865, 350, 127, 844, 851, 369, 534, 367, 420, 519, 267,\n",
       "       746, 755, 603, 749, 527, 135, 737, 788, 399, 888, 139, 803, 452,\n",
       "       263, 320, 529, 387, 782, 561, 473, 894, 460, 110, 117, 863, 725,\n",
       "       218,  23, 458, 300, 226, 868, 101, 726, 808, 620, 710,  27, 544,\n",
       "       363, 715, 326, 120, 471, 734, 231, 712, 143, 200, 469, 346,  55,\n",
       "        34, 870, 376, 313, 342, 155, 254, 256, 693,  54,  76, 186, 716,\n",
       "       815, 423, 486, 800, 184,  30, 633, 666, 618, 586, 542, 140, 169,\n",
       "       890, 152, 265, 232,  12, 559, 516, 717, 847, 389, 611, 899, 396,\n",
       "       742, 375, 520, 106, 677, 141, 315, 338, 253, 194, 739, 409,  85,\n",
       "       348, 207, 294, 624,  69,   9, 361, 247, 337,  40, 415, 832, 650,\n",
       "        14, 779, 741, 174, 721,  57, 709, 289, 125, 359, 107, 358, 406,\n",
       "       283, 704, 179, 701, 843, 224, 816, 794, 104, 459, 451,  47, 554,\n",
       "       439, 448, 663, 403, 170, 853, 390, 455,  98, 366, 380,  35, 573,\n",
       "       645, 285, 276,  59, 116, 476, 431, 731,   0,   4, 891, 896, 241,\n",
       "       410, 574,  24,  17,  97, 203, 306, 648, 517, 786, 187, 128, 743,\n",
       "       730, 165, 543, 408, 109, 706, 219, 740, 456, 489, 745,  81, 521,\n",
       "       370, 171, 724, 364, 454, 585, 362, 619, 506, 760, 656,  29, 192,\n",
       "       307, 465, 775, 744, 284, 234, 839, 878, 805, 321,   2, 172, 383,\n",
       "       649, 442, 562, 564, 481,  87,  70, 575, 610, 581, 365, 236, 444,\n",
       "       392, 679, 828, 606, 873, 864, 382, 260, 674, 407, 600, 688, 334,\n",
       "       723, 354, 215, 214, 461,   1, 599, 498, 549,  94, 673, 149,  50,\n",
       "       244,  31, 352, 238, 540, 758, 823, 178, 732,  11, 447, 821, 754,\n",
       "       841, 339, 630, 713, 537, 584, 671, 360, 154, 690, 332, 138,  91,\n",
       "       665, 625, 401,  20, 889, 856, 438, 580, 541, 111, 183, 769, 631,\n",
       "       635, 463, 770, 142, 622, 414, 738,  65, 146, 257, 658, 538, 148,\n",
       "       122, 159, 328, 515, 134, 512, 385, 491,  89, 792, 393, 208, 173,\n",
       "       235, 278, 106, 308, 747, 230, 752, 680, 133,  11, 180, 129, 293,\n",
       "       343,  80, 811,  95, 161, 418, 279, 445, 766, 240, 305, 838, 570,\n",
       "        49, 877, 634, 311,  48, 733, 616, 641, 568, 555, 806, 596, 662,\n",
       "       189, 845, 879, 772, 281, 243, 475, 548, 270, 351, 862, 636, 119,\n",
       "       640, 508, 855, 613,  25,  53, 480, 286, 683,  10,  36,  26, 614,\n",
       "       807, 467, 330, 557, 398, 118, 895, 357, 617, 644, 136, 405],\n",
       "      dtype=int32)"
      ]
     },
     "execution_count": 22,
     "metadata": {},
     "output_type": "execute_result"
    }
   ],
   "source": [
    "kmeans.labels_"
   ]
  },
  {
   "cell_type": "code",
   "execution_count": 23,
   "metadata": {},
   "outputs": [],
   "source": [
    "cluster_ids = set(range(900))\n",
    "final_training_samples = []\n",
    "\n",
    "for training_sample_idx, cluster_id in enumerate(kmeans.labels_.tolist()):\n",
    "    if cluster_id in cluster_ids:\n",
    "        final_training_samples.append(training_samples[training_sample_idx])\n",
    "        cluster_ids.remove(cluster_id)"
   ]
  },
  {
   "cell_type": "code",
   "execution_count": 24,
   "metadata": {},
   "outputs": [
    {
     "name": "stdout",
     "output_type": "stream",
     "text": [
      "900\n",
      "0\n",
      "11211\n"
     ]
    }
   ],
   "source": [
    "print len(final_training_samples)\n",
    "print final_training_samples[0][-1]\n",
    "print len(final_training_samples[0])"
   ]
  },
  {
   "cell_type": "markdown",
   "metadata": {},
   "source": [
    "#### Separate images from labels again"
   ]
  },
  {
   "cell_type": "code",
   "execution_count": 24,
   "metadata": {},
   "outputs": [],
   "source": [
    "svm_training_labels = [sample[-1] for sample in training_samples]\n",
    "svm_training_samples = [sample[:-1] for sample in training_samples]\n",
    "\n",
    "svm_test_labels = [sample[-1] for sample in test_samples]\n",
    "svm_test_samples = [sample[:-1] for sample in test_samples]"
   ]
  },
  {
   "cell_type": "markdown",
   "metadata": {},
   "source": [
    "#### SVM Training"
   ]
  },
  {
   "cell_type": "code",
   "execution_count": 25,
   "metadata": {},
   "outputs": [
    {
     "data": {
      "text/plain": [
       "SVC(C=1.0, cache_size=200, class_weight=None, coef0=0.0,\n",
       "  decision_function_shape='ovr', degree=3, gamma='scale', kernel='rbf',\n",
       "  max_iter=-1, probability=False, random_state=None, shrinking=True,\n",
       "  tol=0.001, verbose=False)"
      ]
     },
     "execution_count": 25,
     "metadata": {},
     "output_type": "execute_result"
    }
   ],
   "source": [
    "clf = svm.SVC(gamma='scale')\n",
    "clf.fit(svm_training_samples, svm_training_labels)"
   ]
  },
  {
   "cell_type": "markdown",
   "metadata": {},
   "source": [
    "### Model Evaluation"
   ]
  },
  {
   "cell_type": "code",
   "execution_count": 26,
   "metadata": {},
   "outputs": [],
   "source": [
    "predictions = clf.predict(svm_test_samples).tolist()"
   ]
  },
  {
   "cell_type": "code",
   "execution_count": 27,
   "metadata": {},
   "outputs": [
    {
     "data": {
      "text/plain": [
       "0"
      ]
     },
     "execution_count": 27,
     "metadata": {},
     "output_type": "execute_result"
    }
   ],
   "source": [
    "predictions[10]"
   ]
  },
  {
   "cell_type": "code",
   "execution_count": 28,
   "metadata": {},
   "outputs": [
    {
     "data": {
      "text/plain": [
       "5"
      ]
     },
     "execution_count": 28,
     "metadata": {},
     "output_type": "execute_result"
    }
   ],
   "source": [
    "sum(predictions)"
   ]
  },
  {
   "cell_type": "code",
   "execution_count": 29,
   "metadata": {},
   "outputs": [
    {
     "data": {
      "text/plain": [
       "98"
      ]
     },
     "execution_count": 29,
     "metadata": {},
     "output_type": "execute_result"
    }
   ],
   "source": [
    "sum(svm_test_labels)"
   ]
  },
  {
   "cell_type": "code",
   "execution_count": 27,
   "metadata": {},
   "outputs": [
    {
     "data": {
      "text/plain": [
       "[Text(0,0.5,'no pain'), Text(0,1.5,'pain')]"
      ]
     },
     "execution_count": 27,
     "metadata": {},
     "output_type": "execute_result"
    },
    {
     "data": {
      "image/png": "[encoded data removed]",
      "text/plain": [
       "<Figure size 432x288 with 2 Axes>"
      ]
     },
     "metadata": {
      "needs_background": "light"
     },
     "output_type": "display_data"
    }
   ],
   "source": [
    "cm = confusion_matrix(svm_test_labels, predictions)\n",
    "\n",
    "# plot heatmap of confusion matrix\n",
    "ax= plt.subplot()\n",
    "sns.heatmap(cm, annot=True, fmt='g', ax = ax)\n",
    "\n",
    "# labels, title and ticks\n",
    "plt.title('Confusion matrix', y=1.08)\n",
    "ax.set_xlabel('Predicted labels')\n",
    "ax.set_ylabel('True labels')\n",
    "ax.xaxis.tick_top()\n",
    "ax.xaxis.set_ticklabels(['no pain', 'pain'])\n",
    "ax.yaxis.set_ticklabels(['no pain', 'pain'])"
   ]
  },
  {
   "cell_type": "code",
   "execution_count": 28,
   "metadata": {},
   "outputs": [
    {
     "data": {
      "image/png": "[encoded data removed]",
      "text/plain": [
       "<Figure size 432x288 with 1 Axes>"
      ]
     },
     "metadata": {
      "needs_background": "light"
     },
     "output_type": "display_data"
    }
   ],
   "source": [
    "# Compute ROC curve and ROC area for pain class\n",
    "fpr = dict()\n",
    "tpr = dict()\n",
    "roc_auc = dict()\n",
    "for i in range(2):\n",
    "    fpr[i], tpr[i], _ = roc_curve(svm_test_labels, predictions)\n",
    "    roc_auc[i] = auc(fpr[i], tpr[i])\n",
    "\n",
    "\n",
    "plt.figure()\n",
    "lw = 2\n",
    "plt.plot(fpr[1], tpr[1], color='darkorange',\n",
    "         lw=lw, label='ROC curve (area = %0.2f)' % roc_auc[1])\n",
    "plt.plot([0, 1], [0, 1], color='navy', lw=lw, linestyle='--')\n",
    "plt.xlim([0.0, 1.0])\n",
    "plt.ylim([0.0, 1.05])\n",
    "plt.xlabel('False Positive Rate')\n",
    "plt.ylabel('True Positive Rate')\n",
    "plt.title('Receiver operating characteristic example')\n",
    "plt.legend(loc=\"lower right\")\n",
    "plt.show()"
   ]
  },
  {
   "cell_type": "code",
   "execution_count": 29,
   "metadata": {},
   "outputs": [
    {
     "name": "stdout",
     "output_type": "stream",
     "text": [
      "Model accuracy: 0.962083333333\n",
      "\n",
      "Model precision: 0.99365942029\n",
      "\n",
      "Model recall: 0.928873835732\n",
      "\n",
      "Model F1 Score: 0.960175054705\n",
      "\n"
     ]
    }
   ],
   "source": [
    "accuracy = float(sum([predictions[i] == svm_test_labels[i] for i in range(len(svm_test_labels))])) / float(len(predictions))\n",
    "scores = precision_recall_fscore_support(svm_test_labels, \n",
    "                                         predictions, \n",
    "                                         beta=1.0, \n",
    "                                         labels=None, \n",
    "                                         pos_label=1, \n",
    "                                         average='binary', \n",
    "                                         warn_for=('precision', 'recall', 'f-score'), \n",
    "                                         sample_weight=None)\n",
    "\n",
    "print 'Model accuracy: {}\\n'.format(accuracy)\n",
    "print 'Model precision: {}\\n'.format(scores[0])\n",
    "print 'Model recall: {}\\n'.format(scores[1])\n",
    "print 'Model F1 Score: {}\\n'.format(scores[2])"
   ]
  }
 ],
 "metadata": {
  "kernelspec": {
   "display_name": "Python 2",
   "language": "python",
   "name": "python2"
  },
  "language_info": {
   "codemirror_mode": {
    "name": "ipython",
    "version": 2
   },
   "file_extension": ".py",
   "mimetype": "text/x-python",
   "name": "python",
   "nbconvert_exporter": "python",
   "pygments_lexer": "ipython2",
   "version": "2.7.15"
  }
 },
 "nbformat": 4,
 "nbformat_minor": 2
}
