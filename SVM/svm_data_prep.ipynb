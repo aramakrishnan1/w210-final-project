{
 "cells": [
  {
   "cell_type": "code",
   "execution_count": 2,
   "metadata": {},
   "outputs": [],
   "source": [
    "from PIL import Image\n",
    "from os.path import join, dirname, realpath\n",
    "\n",
    "import numpy as np\n",
    "import os"
   ]
  },
  {
   "cell_type": "code",
   "execution_count": 9,
   "metadata": {},
   "outputs": [
    {
     "name": "stdout",
     "output_type": "stream",
     "text": [
      "/Users/206479300/Downloads/w210_dataset/SVM/Images\n"
     ]
    }
   ],
   "source": [
    "root_path = dirname(os.getcwd())\n",
    "\n",
    "image_dir = join(os.getcwd(), 'Images')\n",
    "print image_dir\n",
    "try:\n",
    "    os.mkdir(image_dir)\n",
    "except:\n",
    "    pass"
   ]
  },
  {
   "cell_type": "code",
   "execution_count": 4,
   "metadata": {},
   "outputs": [],
   "source": [
    "raw_images = np.load(join(root_path, 'Images_Data.npy'))\n",
    "raw_labels = np.load(join(root_path, 'Images_Labels.npy'))"
   ]
  },
  {
   "cell_type": "code",
   "execution_count": 5,
   "metadata": {},
   "outputs": [
    {
     "name": "stdout",
     "output_type": "stream",
     "text": [
      "3.0\n",
      "16739\n",
      "8370.0\n",
      "8369.0\n"
     ]
    }
   ],
   "source": [
    "print raw_labels[0]\n",
    "print len(raw_labels)\n",
    "print sum([1.0 for label in raw_labels if label == 0.0])\n",
    "print sum([1.0 for label in raw_labels if label >= 1.0])"
   ]
  },
  {
   "cell_type": "code",
   "execution_count": 11,
   "metadata": {},
   "outputs": [
    {
     "name": "stdout",
     "output_type": "stream",
     "text": [
      "{}\n",
      "{}\n",
      "{}\n"
     ]
    }
   ],
   "source": [
    "# Convert numpy arrays back to regular images\n",
    "for raw_image_index, raw_image in enumerate(raw_images[:3]):\n",
    "    img = Image.fromarray(raw_image, 'RGB')\n",
    "    img.save(join(image_dir, 'image_{}.png'.format(raw_image_index)))\n",
    "    print img.info"
   ]
  }
 ],
 "metadata": {
  "kernelspec": {
   "display_name": "Python 2",
   "language": "python",
   "name": "python2"
  },
  "language_info": {
   "codemirror_mode": {
    "name": "ipython",
    "version": 2
   },
   "file_extension": ".py",
   "mimetype": "text/x-python",
   "name": "python",
   "nbconvert_exporter": "python",
   "pygments_lexer": "ipython2",
   "version": "2.7.10"
  }
 },
 "nbformat": 4,
 "nbformat_minor": 2
}
