{
 "cells": [
  {
   "cell_type": "code",
   "execution_count": 1,
   "metadata": {},
   "outputs": [
    {
     "name": "stderr",
     "output_type": "stream",
     "text": [
      "/Users/206479300/anaconda2/envs/conda_env/lib/python2.7/site-packages/scipy/sparse/lil.py:16: RuntimeWarning: numpy.dtype size changed, may indicate binary incompatibility. Expected 96, got 88\n",
      "  from . import _csparsetools\n",
      "/Users/206479300/anaconda2/envs/conda_env/lib/python2.7/site-packages/scipy/sparse/csgraph/__init__.py:167: RuntimeWarning: numpy.dtype size changed, may indicate binary incompatibility. Expected 96, got 88\n",
      "  from ._shortest_path import shortest_path, floyd_warshall, dijkstra,\\\n",
      "/Users/206479300/anaconda2/envs/conda_env/lib/python2.7/site-packages/scipy/sparse/csgraph/_validation.py:5: RuntimeWarning: numpy.dtype size changed, may indicate binary incompatibility. Expected 96, got 88\n",
      "  from ._tools import csgraph_to_dense, csgraph_from_dense,\\\n",
      "/Users/206479300/anaconda2/envs/conda_env/lib/python2.7/site-packages/scipy/sparse/csgraph/__init__.py:169: RuntimeWarning: numpy.dtype size changed, may indicate binary incompatibility. Expected 96, got 88\n",
      "  from ._traversal import breadth_first_order, depth_first_order, \\\n",
      "/Users/206479300/anaconda2/envs/conda_env/lib/python2.7/site-packages/scipy/sparse/csgraph/__init__.py:171: RuntimeWarning: numpy.dtype size changed, may indicate binary incompatibility. Expected 96, got 88\n",
      "  from ._min_spanning_tree import minimum_spanning_tree\n",
      "/Users/206479300/anaconda2/envs/conda_env/lib/python2.7/site-packages/scipy/sparse/csgraph/__init__.py:172: RuntimeWarning: numpy.dtype size changed, may indicate binary incompatibility. Expected 96, got 88\n",
      "  from ._reordering import reverse_cuthill_mckee, maximum_bipartite_matching, \\\n",
      "/Users/206479300/anaconda2/envs/conda_env/lib/python2.7/site-packages/scipy/spatial/__init__.py:94: RuntimeWarning: numpy.dtype size changed, may indicate binary incompatibility. Expected 96, got 88\n",
      "  from .ckdtree import *\n",
      "/Users/206479300/anaconda2/envs/conda_env/lib/python2.7/site-packages/scipy/spatial/__init__.py:95: RuntimeWarning: numpy.dtype size changed, may indicate binary incompatibility. Expected 96, got 88\n",
      "  from .qhull import *\n",
      "/Users/206479300/anaconda2/envs/conda_env/lib/python2.7/site-packages/scipy/spatial/_spherical_voronoi.py:18: RuntimeWarning: numpy.dtype size changed, may indicate binary incompatibility. Expected 96, got 88\n",
      "  from . import _voronoi\n",
      "/Users/206479300/anaconda2/envs/conda_env/lib/python2.7/site-packages/scipy/linalg/basic.py:17: RuntimeWarning: numpy.dtype size changed, may indicate binary incompatibility. Expected 96, got 88\n",
      "  from ._solve_toeplitz import levinson\n",
      "/Users/206479300/anaconda2/envs/conda_env/lib/python2.7/site-packages/scipy/linalg/__init__.py:191: RuntimeWarning: numpy.dtype size changed, may indicate binary incompatibility. Expected 96, got 88\n",
      "  from ._decomp_update import *\n",
      "/Users/206479300/anaconda2/envs/conda_env/lib/python2.7/site-packages/scipy/spatial/distance.py:121: RuntimeWarning: numpy.dtype size changed, may indicate binary incompatibility. Expected 96, got 88\n",
      "  from . import _hausdorff\n",
      "/Users/206479300/anaconda2/envs/conda_env/lib/python2.7/site-packages/scipy/special/__init__.py:640: RuntimeWarning: numpy.dtype size changed, may indicate binary incompatibility. Expected 96, got 88\n",
      "  from ._ufuncs import *\n",
      "/Users/206479300/anaconda2/envs/conda_env/lib/python2.7/site-packages/scipy/special/_ellip_harm.py:7: RuntimeWarning: numpy.dtype size changed, may indicate binary incompatibility. Expected 96, got 88\n",
      "  from ._ellip_harm_2 import _ellipsoid, _ellipsoid_norm\n",
      "/Users/206479300/anaconda2/envs/conda_env/lib/python2.7/site-packages/scipy/optimize/_numdiff.py:8: RuntimeWarning: numpy.dtype size changed, may indicate binary incompatibility. Expected 96, got 88\n",
      "  from ._group_columns import group_dense, group_sparse\n",
      "/Users/206479300/anaconda2/envs/conda_env/lib/python2.7/site-packages/scipy/interpolate/_bsplines.py:9: RuntimeWarning: numpy.dtype size changed, may indicate binary incompatibility. Expected 96, got 88\n",
      "  from . import _bspl\n",
      "/Users/206479300/anaconda2/envs/conda_env/lib/python2.7/site-packages/scipy/ndimage/measurements.py:36: RuntimeWarning: numpy.dtype size changed, may indicate binary incompatibility. Expected 96, got 88\n",
      "  from . import _ni_label\n",
      "/Users/206479300/anaconda2/envs/conda_env/lib/python2.7/site-packages/scipy/stats/_continuous_distns.py:17: RuntimeWarning: numpy.dtype size changed, may indicate binary incompatibility. Expected 96, got 88\n",
      "  from . import _stats\n",
      "/Users/206479300/anaconda2/envs/conda_env/lib/python2.7/site-packages/scipy/cluster/vq.py:88: RuntimeWarning: numpy.dtype size changed, may indicate binary incompatibility. Expected 96, got 88\n",
      "  from . import _vq\n",
      "/Users/206479300/anaconda2/envs/conda_env/lib/python2.7/site-packages/scipy/cluster/hierarchy.py:178: RuntimeWarning: numpy.dtype size changed, may indicate binary incompatibility. Expected 96, got 88\n",
      "  from . import _hierarchy\n",
      "/Users/206479300/anaconda2/envs/conda_env/lib/python2.7/site-packages/scipy/io/matlab/mio4.py:18: RuntimeWarning: numpy.dtype size changed, may indicate binary incompatibility. Expected 96, got 88\n",
      "  from .mio_utils import squeeze_element, chars_to_strings\n",
      "/Users/206479300/anaconda2/envs/conda_env/lib/python2.7/site-packages/scipy/io/matlab/mio5.py:98: RuntimeWarning: numpy.dtype size changed, may indicate binary incompatibility. Expected 96, got 88\n",
      "  from .mio5_utils import VarReader5\n"
     ]
    }
   ],
   "source": [
    "# Imports\n",
    "import gc\n",
    "import menpo.io as mio\n",
    "import matplotlib.pyplot as plt\n",
    "import numpy as np\n",
    "import os\n",
    "import random\n",
    "import seaborn as sns\n",
    "import shutil\n",
    "\n",
    "from menpo.visualize import print_progress\n",
    "from menpo.landmark import labeller, face_ibug_68_to_face_ibug_68_trimesh, face_ibug_68_to_face_ibug_66_trimesh\n",
    "from menpofit.aam import PatchAAM\n",
    "from menpo.feature import fast_dsift\n",
    "from menpofit.aam import LucasKanadeAAMFitter, WibergInverseCompositional\n",
    "from menpodetect import load_dlib_frontal_face_detector\n",
    "from menpofit.builder import warp_images\n",
    "from menpofit.builder import build_reference_frame\n",
    "from menpo.transform import PiecewiseAffine\n",
    "from menpo.model import PCAModel\n",
    "from sklearn.cluster import KMeans\n",
    "from sklearn import svm\n",
    "from sklearn.metrics import confusion_matrix\n",
    "\n",
    "from os.path import join, dirname, realpath\n",
    "\n",
    "%matplotlib inline"
   ]
  },
  {
   "cell_type": "markdown",
   "metadata": {},
   "source": [
    "### Train AAM model (Using subset of images)"
   ]
  },
  {
   "cell_type": "markdown",
   "metadata": {},
   "source": [
    "#### Data preprocessing"
   ]
  },
  {
   "cell_type": "code",
   "execution_count": 2,
   "metadata": {},
   "outputs": [],
   "source": [
    "reformat_pts_files_sh = '''\n",
    "shopt -s nullglob\n",
    "\n",
    "ex -sc '1i|{{' -cx \"{pts_file}\"\n",
    "ex -sc '1i|n_points:  66' -cx \"{pts_file}\"\n",
    "ex -sc '1i|version: 1' -cx \"{pts_file}\"\n",
    "echo \"}}\" >> {pts_file}\n",
    "'''\n",
    "\n",
    "images_path = join(dirname(os.getcwd()), 'Images')\n",
    "aam_path = join(dirname(os.getcwd()), 'AAM_landmarks')\n",
    "labels_path = join(dirname(os.getcwd()), 'Frame_Labels', 'PSPI')"
   ]
  },
  {
   "cell_type": "code",
   "execution_count": 25,
   "metadata": {},
   "outputs": [],
   "source": [
    "# NOTE: this cell takes around 45 mins to run\n",
    "import subprocess\n",
    "\n",
    "for subject in os.listdir(aam_path):\n",
    "    if subject != '.DS_Store':\n",
    "        for sequence in os.listdir(join(aam_path, subject)):\n",
    "            if sequence != '.DS_Store':\n",
    "                for aam_file_src in os.listdir(join(aam_path, subject, sequence)):\n",
    "                    if aam_file_src != '.DS_Store':\n",
    "                        aam_file_dst = '{}.pts'.format(aam_file_src.split('_')[0])\n",
    "                        aam_file_src_path = join(aam_path, subject, sequence, aam_file_src)\n",
    "                        aam_file_dst_path = join(images_path, subject, sequence, aam_file_dst)\n",
    "                        \n",
    "                        shutil.copyfile(aam_file_src_path, aam_file_dst_path)\n",
    "                        subprocess.check_call(reformat_pts_files_sh.format(pts_file=aam_file_dst_path), shell=True)"
   ]
  },
  {
   "cell_type": "code",
   "execution_count": 4,
   "metadata": {},
   "outputs": [
    {
     "name": "stdout",
     "output_type": "stream",
     "text": [
      "Found 683 assets, index the returned LazyList to import.\n",
      "[====================] 100% (683/683) - done.                                   \n",
      "Found 187 assets, index the returned LazyList to import.\n",
      "[====================] 100% (187/187) - done.                                   \n",
      "Found 155 assets, index the returned LazyList to import.\n",
      "[====================] 100% (155/155) - done.                                   \n",
      "Found 350 assets, index the returned LazyList to import.\n",
      "[====================] 100% (350/350) - done.                                   \n",
      "Found 128 assets, index the returned LazyList to import.\n",
      "[====================] 100% (128/128) - done.                                   \n",
      "Found 168 assets, index the returned LazyList to import.\n",
      "[====================] 100% (168/168) - done.                                   \n",
      "Found 143 assets, index the returned LazyList to import.\n",
      "[====================] 100% (143/143) - done.                                   \n",
      "Found 320 assets, index the returned LazyList to import.\n",
      "[====================] 100% (320/320) - done.                                   \n",
      "Found 103 assets, index the returned LazyList to import.\n",
      "[====================] 100% (103/103) - done.                                   \n",
      "Found 161 assets, index the returned LazyList to import.\n",
      "[====================] 100% (161/161) - done.                                   \n",
      "Found 163 assets, index the returned LazyList to import.\n",
      "[====================] 100% (163/163) - done.                                   \n",
      "Found 119 assets, index the returned LazyList to import.\n",
      "[====================] 100% (119/119) - done.                                   \n",
      "Found 167 assets, index the returned LazyList to import.\n",
      "[====================] 100% (167/167) - done.                                   \n",
      "Found 100 assets, index the returned LazyList to import.\n",
      "[====================] 100% (100/100) - done.                                   \n",
      "Found 124 assets, index the returned LazyList to import.\n",
      "[====================] 100% (124/124) - done.                                   \n",
      "Found 84 assets, index the returned LazyList to import.\n",
      "[====================] 100% (84/84) - done.                                     \n",
      "Found 99 assets, index the returned LazyList to import.\n",
      "[====================] 100% (99/99) - done.                                     \n",
      "Found 245 assets, index the returned LazyList to import.\n",
      "[====================] 100% (245/245) - done.                                   \n",
      "Found 154 assets, index the returned LazyList to import.\n",
      "[====================] 100% (154/154) - done.                                   \n",
      "Found 139 assets, index the returned LazyList to import.\n",
      "[====================] 100% (139/139) - done.                                   \n",
      "Found 465 assets, index the returned LazyList to import.\n",
      "[====================] 100% (465/465) - done.                                   \n",
      "Found 197 assets, index the returned LazyList to import.\n",
      "[====================] 100% (197/197) - done.                                   \n",
      "Found 180 assets, index the returned LazyList to import.\n",
      "[====================] 100% (180/180) - done.                                   \n",
      "Found 228 assets, index the returned LazyList to import.\n",
      "[====================] 100% (228/228) - done.                                   \n",
      "Found 111 assets, index the returned LazyList to import.\n",
      "[====================] 100% (111/111) - done.                                   \n",
      "Found 174 assets, index the returned LazyList to import.\n",
      "[====================] 100% (174/174) - done.                                   \n",
      "Found 48 assets, index the returned LazyList to import.\n",
      "[====================] 100% (48/48) - done.                                     \n",
      "Found 162 assets, index the returned LazyList to import.\n",
      "[====================] 100% (162/162) - done.                                   \n",
      "Found 96 assets, index the returned LazyList to import.\n",
      "[====================] 100% (96/96) - done.                                     \n",
      "Found 231 assets, index the returned LazyList to import.\n",
      "[====================] 100% (231/231) - done.                                   \n",
      "Found 72 assets, index the returned LazyList to import.\n",
      "[====================] 100% (72/72) - done.                                     \n"
     ]
    }
   ],
   "source": [
    "#images = []\n",
    "#labels = []\n",
    "training_images = []\n",
    "training_labels = []\n",
    "training_subjects = ['042-ll042', '043-jh043', '047-jl047', '048-aa048']\n",
    "#test_subjects = ['066-mg066', '080-bn080', '092-ch092', '095-tv095']\n",
    "test_subjects = []\n",
    "\n",
    "for subject in os.listdir(labels_path):\n",
    "    if subject != '.DS_Store' and subject in training_subjects + test_subjects:\n",
    "        for sequence in os.listdir(join(labels_path, subject)):\n",
    "            if sequence != '.DS_Store':\n",
    "                for pspi_file in os.listdir(join(labels_path, subject, sequence)):\n",
    "                    if pspi_file != '.DS_Store':\n",
    "                        with open(join(labels_path, subject, sequence, pspi_file), 'r') as f_in:\n",
    "                            #labels.append(float(f_in.read().strip()))\n",
    "                            training_labels.append(float(f_in.read().strip()))\n",
    "                \n",
    "                for img in print_progress(mio.import_images(join(images_path, subject, sequence) + '/', verbose=True)):\n",
    "                    # convert to greyscale\n",
    "                    if img.n_channels == 3:\n",
    "                        img = img.as_greyscale()\n",
    "                    # crop to landmarks bounding box with an extra 20% padding\n",
    "                    img = img.crop_to_landmarks_proportion(0.2)\n",
    "                    # rescale image if its diagonal is bigger than 400 pixels\n",
    "                    d = img.diagonal()\n",
    "                    if d > 400:\n",
    "                        img = img.rescale(400.0 / d)\n",
    "                    # append to list\n",
    "                    #images.append(img)\n",
    "                    training_images.append(img)"
   ]
  },
  {
   "cell_type": "code",
   "execution_count": 5,
   "metadata": {},
   "outputs": [
    {
     "name": "stdout",
     "output_type": "stream",
     "text": [
      "Number of images loaded: 5756\n",
      "Number of 0 (no pain) labels loaded: 5277\n",
      "Number of 1 (pain) labels loaded: 479\n"
     ]
    }
   ],
   "source": [
    "print 'Number of images loaded: {}'.format(len(training_images))\n",
    "print 'Number of 0 (no pain) labels loaded: {}'.format(len(filter(lambda x: x == 0, training_labels)))\n",
    "print 'Number of 1 (pain) labels loaded: {}'.format(len(filter(lambda x: x != 0, training_labels)))"
   ]
  },
  {
   "cell_type": "code",
   "execution_count": 96,
   "metadata": {},
   "outputs": [],
   "source": [
    "# training images = :11117\n",
    "## 549 ones, 10008 zeros\n",
    "\n",
    "# test images = 11117:\n",
    "## 2092 zeros, \n",
    "\n",
    "training_percentage_zeros = 0.10\n",
    "training_percentage_ones = 0.02\n",
    "test_percentage = 0.25\n",
    "\n",
    "k_zeros = int(len(images[:11117]) * training_percentage_zeros)\n",
    "k_ones = int(len(images[:11117]) * training_percentage_ones)\n",
    "k_test = int(len(images[11117:]) * test_percentage)\n",
    "\n",
    "sample_indices_zeros = [idx for idx in range(len(images[:11117])) if labels[:11117][idx] == 0]\n",
    "sample_indices_ones = [idx for idx in range(len(images[:11117])) if labels[:11117][idx] != 0]\n",
    "\n",
    "#training_indices_zeros = random.sample(xrange(len(sample_indices_zeros)), k_zeros)\n",
    "#training_indices_ones = random.sample(xrange(len(sample_indices_ones)), k_ones)\n",
    "training_indices_zeros = random.sample(sample_indices_zeros, k_zeros)\n",
    "training_indices_ones = random.sample(sample_indices_ones, k_ones)\n",
    "test_indices = random.sample(xrange(len(images[11117:])), k_test)\n",
    "\n",
    "training_images = [images[:11117][index] for index in training_indices_zeros + training_indices_ones]\n",
    "test_images = [images[11117:][index] for index in test_indices]\n",
    "\n",
    "training_labels = [labels[:11117][index] for index in training_indices_zeros + training_indices_ones]\n",
    "test_labels = [labels[11117:][index] for index in test_indices]"
   ]
  },
  {
   "cell_type": "code",
   "execution_count": 75,
   "metadata": {},
   "outputs": [],
   "source": [
    "training_samples = training_images\n",
    "test_samples = test_images"
   ]
  },
  {
   "cell_type": "code",
   "execution_count": 97,
   "metadata": {},
   "outputs": [
    {
     "name": "stdout",
     "output_type": "stream",
     "text": [
      "222\n",
      "222\n",
      "1109\n",
      "[1.0, 2.0, 2.0, 4.0, 4.0, 4.0, 5.0, 6.0, 6.0, 6.0]\n",
      "222\n",
      "1111\n",
      "[1.0, 4.0, 1.0, 1.0, 1.0, 3.0, 1.0, 1.0, 2.0, 1.0]\n"
     ]
    }
   ],
   "source": [
    "print sum([label > 0.0 for label in training_labels])\n",
    "\n",
    "print k_ones\n",
    "print len(sample_indices_ones)\n",
    "print [labels[idx] for idx in sample_indices_ones[:10]]\n",
    "print len(training_indices_ones)\n",
    "print len(training_indices_zeros)\n",
    "print [labels[idx] for idx in training_indices_ones[:10]]"
   ]
  },
  {
   "cell_type": "markdown",
   "metadata": {},
   "source": [
    "#### Train AAM"
   ]
  },
  {
   "cell_type": "code",
   "execution_count": 6,
   "metadata": {},
   "outputs": [
    {
     "name": "stdout",
     "output_type": "stream",
     "text": [
      "- Computing reference shape                                                     Computing batch 0\n",
      "- Building modelsges size: [==========] 100% (2000/2000) - done.                \n",
      "  - Scale 0: Doneding appearance model                                          ngining\n",
      "  - Scale 1: Doneding appearance model                                          ng\n",
      "                                                              "
     ]
    }
   ],
   "source": [
    "patch_aam = PatchAAM(training_images[:2000], group='PTS', patch_shape=[(15, 15), (23, 23)],\n",
    "                     diagonal=150, scales=(0.5, 1.0), holistic_features=fast_dsift,\n",
    "                     max_shape_components=20, max_appearance_components=150,\n",
    "                     verbose=True)"
   ]
  },
  {
   "cell_type": "code",
   "execution_count": 7,
   "metadata": {},
   "outputs": [],
   "source": [
    "fitter = LucasKanadeAAMFitter(patch_aam, lk_algorithm_cls=WibergInverseCompositional,\n",
    "                              n_shape=[5, 20], n_appearance=[30, 150])"
   ]
  },
  {
   "cell_type": "code",
   "execution_count": 8,
   "metadata": {},
   "outputs": [
    {
     "name": "stderr",
     "output_type": "stream",
     "text": [
      "/Users/206479300/anaconda2/envs/conda_env/lib/python2.7/site-packages/menpo/shape/pointcloud.py:261: MenpoDeprecationWarning: The .lms property is deprecated. LandmarkGroups are now shapes themselves - so you can use them directly anywhere you previously used .lms.Simply remove \".lms\" from your code and things will work as expected (and this warning will go away)\n",
      "  MenpoDeprecationWarning)\n"
     ]
    },
    {
     "name": "stdout",
     "output_type": "stream",
     "text": [
      "Fitting result of 66 landmark points.\n",
      "Initial error: 0.2356\n",
      "Reconstructed initial error: 0.2356\n",
      "Final error: 0.2615\n"
     ]
    },
    {
     "data": {
      "image/png": "[encoded data removed]",
      "text/plain": [
       "<Figure size 1080x936 with 3 Axes>"
      ]
     },
     "metadata": {},
     "output_type": "display_data"
    }
   ],
   "source": [
    "# Load detector\n",
    "detect = load_dlib_frontal_face_detector()\n",
    "\n",
    "# Load and convert to grayscale\n",
    "image = mio.import_image(join(images_path, '042-ll042', 'll042t1aaaff', 'll042t1aaaff242.png'))\n",
    "image = image.as_greyscale()\n",
    "\n",
    "# Detect face\n",
    "bboxes = detect(image)\n",
    "\n",
    "# Crop the image for better visualization of the result\n",
    "image = image.crop_to_landmarks_proportion(0.3, group='dlib_0')\n",
    "bboxes[0] = image.landmarks['dlib_0'].lms\n",
    "\n",
    "if len(bboxes) > 0:\n",
    "    # Fit AAM\n",
    "    result = fitter.fit_from_bb(image, bboxes[0], max_iters=[15, 5],\n",
    "                                gt_shape=image.landmarks['PTS'].lms)\n",
    "    print(result)\n",
    "\n",
    "    # Visualize\n",
    "    plt.subplot(131)\n",
    "    image.view()\n",
    "    bboxes[0].view(line_width=3, render_markers=False)\n",
    "    plt.gca().set_title('Bounding box')\n",
    "\n",
    "    plt.subplot(132)\n",
    "    image.view()\n",
    "    result.initial_shape.view(marker_size=4)\n",
    "    plt.gca().set_title('Initial shape')\n",
    "\n",
    "    plt.subplot(133)\n",
    "    image.view()\n",
    "    result.final_shape.view(marker_size=4, figure_size=(15, 13))\n",
    "    plt.gca().set_title('Final shape')"
   ]
  },
  {
   "cell_type": "code",
   "execution_count": 9,
   "metadata": {},
   "outputs": [
    {
     "data": {
      "text/plain": [
       "15963"
      ]
     },
     "execution_count": 9,
     "metadata": {},
     "output_type": "execute_result"
    }
   ],
   "source": [
    "# force garbage collection to free up some memory\n",
    "del patch_aam\n",
    "del fitter\n",
    "\n",
    "gc.collect()"
   ]
  },
  {
   "cell_type": "markdown",
   "metadata": {},
   "source": [
    "### Feature Extraction"
   ]
  },
  {
   "cell_type": "code",
   "execution_count": 8,
   "metadata": {},
   "outputs": [
    {
     "data": {
      "text/plain": [
       "PointCloud: n_points: 66, n_dims: 2"
      ]
     },
     "execution_count": 8,
     "metadata": {},
     "output_type": "execute_result"
    }
   ],
   "source": [
    "result.final_shape"
   ]
  },
  {
   "cell_type": "code",
   "execution_count": 9,
   "metadata": {},
   "outputs": [
    {
     "name": "stdout",
     "output_type": "stream",
     "text": [
      "PointCloud: n_points: 66, n_dims: 2\n"
     ]
    }
   ],
   "source": [
    "print training_images[0].landmarks.get('PTS')"
   ]
  },
  {
   "cell_type": "code",
   "execution_count": 10,
   "metadata": {},
   "outputs": [
    {
     "name": "stderr",
     "output_type": "stream",
     "text": [
      "/Users/206479300/anaconda2/envs/conda_env/lib/python2.7/site-packages/menpofit/builder.py:338: MenpoFitModelBuilderWarning: The reference shape passed is not a TriMesh or subclass and therefore the reference frame (mask) will be calculated via a Delaunay triangulation. This may cause small triangles and thus suboptimal warps.\n",
      "  MenpoFitModelBuilderWarning)\n",
      "/Users/206479300/anaconda2/envs/conda_env/lib/python2.7/site-packages/menpo/image/boolean.py:711: FutureWarning: Using a non-tuple sequence for multidimensional indexing is deprecated; use `arr[tuple(seq)]` instead of `arr[seq]`. In the future this will be interpreted as an array index, `arr[np.array(seq)]`, which will result either in an error or a different result.\n",
      "  copy.pixels[slices].flat = point_in_pointcloud(pointcloud, indices)\n"
     ]
    }
   ],
   "source": [
    "# extract shapes from images\n",
    "shapes_an = [i.landmarks.get('PTS') for i in training_images]\n",
    "\n",
    "# build reference frame\n",
    "reference_frame_an = build_reference_frame(result.final_shape)\n",
    "\n",
    "# Apply piece-wise affine warp on source images\n",
    "warped_images_an = warp_images(training_images, shapes_an, reference_frame_an, PiecewiseAffine)"
   ]
  },
  {
   "cell_type": "code",
   "execution_count": 11,
   "metadata": {},
   "outputs": [
    {
     "data": {
      "text/plain": [
       "121W x 126H 2D MaskedImage with 1 channels. Attached mask 69.5% true"
      ]
     },
     "execution_count": 11,
     "metadata": {},
     "output_type": "execute_result"
    }
   ],
   "source": [
    "warped_images_an[0]"
   ]
  },
  {
   "cell_type": "code",
   "execution_count": 10,
   "metadata": {},
   "outputs": [],
   "source": [
    "# extract shapes from images\n",
    "shapes_a0 = [i.landmarks.get('PTS') for i in training_images]\n",
    "\n",
    "# build reference frame\n",
    "reference_frame_a0 = build_reference_frame(result.gt_shape)\n",
    "\n",
    "# Apply piece-wise affine warp on source images\n",
    "warped_images_a0 = warp_images(training_images, shapes_a0, reference_frame_a0, PiecewiseAffine)"
   ]
  },
  {
   "cell_type": "code",
   "execution_count": 11,
   "metadata": {},
   "outputs": [
    {
     "data": {
      "text/plain": [
       "122W x 116H 2D MaskedImage with 1 channels. Attached mask 70.4% true"
      ]
     },
     "execution_count": 11,
     "metadata": {},
     "output_type": "execute_result"
    }
   ],
   "source": [
    "warped_images_a0[0]"
   ]
  },
  {
   "cell_type": "code",
   "execution_count": 12,
   "metadata": {},
   "outputs": [],
   "source": [
    "s_pts = result.final_shape.points\n",
    "s_app = warped_images_an\n",
    "#c_app = warped_images_a0"
   ]
  },
  {
   "cell_type": "markdown",
   "metadata": {},
   "source": [
    "### Prep data for model training + evaluation (Using S-APP Features)"
   ]
  },
  {
   "cell_type": "markdown",
   "metadata": {},
   "source": [
    "#### Transform PSPI labels into 0/1 (pain vs no pain) and attach labels to images"
   ]
  },
  {
   "cell_type": "code",
   "execution_count": 13,
   "metadata": {},
   "outputs": [],
   "source": [
    "final_training_images = s_app\n",
    "final_training_labels = [int(label > 0.0) for label in training_labels]\n",
    "\n",
    "#final_test_images = warp_images(test_images, shapes_an, reference_frame_an, PiecewiseAffine)\n",
    "#final_test_labels = [int(label > 0.0) for label in test_labels]"
   ]
  },
  {
   "cell_type": "code",
   "execution_count": 14,
   "metadata": {},
   "outputs": [
    {
     "name": "stdout",
     "output_type": "stream",
     "text": [
      "[0, 0, 0, 0, 0, 0, 0, 0, 0, 0]\n",
      "Number of labels showing pain: 479\n",
      "Number of labels showing no pain: 5277\n",
      "\n"
     ]
    }
   ],
   "source": [
    "print final_training_labels[:10]\n",
    "print 'Number of labels showing pain: {}'.format(sum(final_training_labels))\n",
    "print 'Number of labels showing no pain: {}\\n'.format(len(final_training_labels) - sum(final_training_labels))\n",
    "\n",
    "# print final_test_labels[:10]\n",
    "# print 'Number of labels showing pain: {}'.format(sum(final_test_labels))\n",
    "# print 'Number of labels showing no pain: {}'.format(len(final_test_labels) - sum(final_test_labels))"
   ]
  },
  {
   "cell_type": "markdown",
   "metadata": {},
   "source": [
    "#### Train/Test Data Split"
   ]
  },
  {
   "cell_type": "code",
   "execution_count": 15,
   "metadata": {},
   "outputs": [
    {
     "data": {
      "text/plain": [
       "array([10602])"
      ]
     },
     "execution_count": 15,
     "metadata": {},
     "output_type": "execute_result"
    }
   ],
   "source": [
    "vectorized_training_images = [sample.as_vector().tolist() for sample in final_training_images]\n",
    "np.unique(list(map(len, vectorized_training_images)))"
   ]
  },
  {
   "cell_type": "code",
   "execution_count": 16,
   "metadata": {
    "scrolled": true
   },
   "outputs": [
    {
     "data": {
      "text/plain": [
       "11512"
      ]
     },
     "execution_count": 16,
     "metadata": {},
     "output_type": "execute_result"
    }
   ],
   "source": [
    "# force garbage collection to free up some memory\n",
    "del training_images\n",
    "del final_training_images\n",
    "del result\n",
    "del reference_frame_an\n",
    "del shapes_an\n",
    "\n",
    "gc.collect()"
   ]
  },
  {
   "cell_type": "code",
   "execution_count": 17,
   "metadata": {},
   "outputs": [
    {
     "data": {
      "text/plain": [
       "0"
      ]
     },
     "execution_count": 17,
     "metadata": {},
     "output_type": "execute_result"
    }
   ],
   "source": [
    "del warped_images_an\n",
    "\n",
    "gc.collect()"
   ]
  },
  {
   "cell_type": "code",
   "execution_count": 21,
   "metadata": {},
   "outputs": [
    {
     "data": {
      "text/plain": [
       "['In',\n",
       " 'KMeans',\n",
       " 'LucasKanadeAAMFitter',\n",
       " 'Out',\n",
       " 'PCAModel',\n",
       " 'PatchAAM',\n",
       " 'PiecewiseAffine',\n",
       " 'WibergInverseCompositional',\n",
       " '_',\n",
       " '_11',\n",
       " '_15',\n",
       " '_16',\n",
       " '_17',\n",
       " '_20',\n",
       " '_9',\n",
       " '__',\n",
       " '___',\n",
       " '__builtin__',\n",
       " '__builtins__',\n",
       " '__doc__',\n",
       " '__name__',\n",
       " '__package__',\n",
       " '_dh',\n",
       " '_i',\n",
       " '_i1',\n",
       " '_i10',\n",
       " '_i11',\n",
       " '_i12',\n",
       " '_i13',\n",
       " '_i14',\n",
       " '_i15',\n",
       " '_i16',\n",
       " '_i17',\n",
       " '_i18',\n",
       " '_i19',\n",
       " '_i2',\n",
       " '_i20',\n",
       " '_i21',\n",
       " '_i3',\n",
       " '_i4',\n",
       " '_i5',\n",
       " '_i6',\n",
       " '_i7',\n",
       " '_i8',\n",
       " '_i9',\n",
       " '_ih',\n",
       " '_ii',\n",
       " '_iii',\n",
       " '_oh',\n",
       " '_sh',\n",
       " 'aam_path',\n",
       " 'bboxes',\n",
       " 'build_reference_frame',\n",
       " 'confusion_matrix',\n",
       " 'd',\n",
       " 'detect',\n",
       " 'dirname',\n",
       " 'exit',\n",
       " 'f_in',\n",
       " 'face_ibug_68_to_face_ibug_66_trimesh',\n",
       " 'face_ibug_68_to_face_ibug_68_trimesh',\n",
       " 'fast_dsift',\n",
       " 'final_training_labels',\n",
       " 'gc',\n",
       " 'get_ipython',\n",
       " 'i',\n",
       " 'image',\n",
       " 'image_idx',\n",
       " 'images_path',\n",
       " 'img',\n",
       " 'join',\n",
       " 'label',\n",
       " 'labeller',\n",
       " 'labels_path',\n",
       " 'load_dlib_frontal_face_detector',\n",
       " 'mio',\n",
       " 'np',\n",
       " 'os',\n",
       " 'plt',\n",
       " 'print_progress',\n",
       " 'pspi_file',\n",
       " 'quit',\n",
       " 'random',\n",
       " 'realpath',\n",
       " 'reformat_pts_files_sh',\n",
       " 's_app',\n",
       " 's_pts',\n",
       " 'sample',\n",
       " 'samples',\n",
       " 'sequence',\n",
       " 'shutil',\n",
       " 'sns',\n",
       " 'subject',\n",
       " 'svm',\n",
       " 'test_subjects',\n",
       " 'training_image',\n",
       " 'training_labels',\n",
       " 'training_subjects',\n",
       " 'warp_images']"
      ]
     },
     "execution_count": 21,
     "metadata": {},
     "output_type": "execute_result"
    }
   ],
   "source": [
    "sorted(locals().keys())"
   ]
  },
  {
   "cell_type": "code",
   "execution_count": 110,
   "metadata": {},
   "outputs": [
    {
     "name": "stdout",
     "output_type": "stream",
     "text": [
      "[12675]\n",
      "[12675]\n"
     ]
    }
   ],
   "source": [
    "training_samples = [sample.as_vector().tolist() for sample in final_training_images]\n",
    "print np.unique(list(map(len, training_samples)))\n",
    "\n",
    "#test_samples = [sample.as_vector().tolist() for sample in final_test_images]\n",
    "#print np.unique(list(map(len, test_samples)))"
   ]
  },
  {
   "cell_type": "code",
   "execution_count": 18,
   "metadata": {},
   "outputs": [],
   "source": [
    "# Add labels to samples for clustering\n",
    "samples = []\n",
    "for image_idx, training_image in enumerate(vectorized_training_images):\n",
    "    sample = training_image + [final_training_labels[image_idx]]\n",
    "    samples.append(sample)\n",
    "\n",
    "# hacky way of ensuring exactly 1000 samples\n",
    "#samples = samples[:1000]"
   ]
  },
  {
   "cell_type": "code",
   "execution_count": 20,
   "metadata": {},
   "outputs": [
    {
     "data": {
      "text/plain": [
       "0"
      ]
     },
     "execution_count": 20,
     "metadata": {},
     "output_type": "execute_result"
    }
   ],
   "source": [
    "# del warped_images_an\n",
    "del vectorized_training_images\n",
    "\n",
    "gc.collect()"
   ]
  },
  {
   "cell_type": "code",
   "execution_count": 21,
   "metadata": {},
   "outputs": [],
   "source": [
    "# Future enhancement: use k-fold cross-validation instead of one static split\n",
    "# In the paper, the test set was made up of ~15,760 images, the rest were used in training\n",
    "#training_percentage = 0.9\n",
    "training_percentage = 0.8\n",
    "k = int(len(samples) * training_percentage)\n",
    "\n",
    "training_indices = random.sample(xrange(len(samples)), k)\n",
    "test_indices = list(set(range(len(samples))) - set(training_indices))\n",
    "\n",
    "training_samples = [samples[index] for index in training_indices]\n",
    "test_samples = [samples[index] for index in test_indices]"
   ]
  },
  {
   "cell_type": "code",
   "execution_count": null,
   "metadata": {},
   "outputs": [],
   "source": [
    "training_percentage_zeros = 0.05\n",
    "training_percentage_ones = 0.05\n",
    "\n",
    "k_zeros = int(len(samples) * training_percentage_zeros)\n",
    "k_ones = int(len(samples) * training_percentage_ones)\n",
    "\n",
    "sample_indices_zeros = [idx for idx in range(len(samples)) if samples[idx] == 0]\n",
    "sample_indices_ones = [idx for idx in range(len(samples)) if samples[idx] == 1]\n",
    "\n",
    "training_indices_zeros = random.sample(xrange(len(sample_indices_zeros)), k_zeros)\n",
    "training_indices_ones = random.sample(xrange(len(sample_indices_ones)), k_ones)\n",
    "test_indices = list(set(range(len(samples[:1000]))) - set(training_indices_zeros) - set(training_indices_ones))\n",
    "\n",
    "training_samples = [samples[index] for index in training_indices_zeros + training_indices_ones]\n",
    "test_samples = [samples[index] for index in test_indices]"
   ]
  },
  {
   "cell_type": "code",
   "execution_count": null,
   "metadata": {},
   "outputs": [],
   "source": [
    "num_folds = 10\n",
    "samples_per_fold = int(float(len(samples)) / float(num_folds))\n",
    "sample_indices = set(range(len(samples))\n",
    "splits = []\n",
    "\n",
    "for fold in \n",
    "training_indices = random.sample(xrange(len(samples)), k)\n",
    "test_indices = list(set(range(len(samples))) - set(training_indices))\n",
    "\n",
    "training_samples = [samples[index] for index in training_indices]\n",
    "test_samples = [samples[index] for index in test_indices]"
   ]
  },
  {
   "cell_type": "code",
   "execution_count": 21,
   "metadata": {},
   "outputs": [
    {
     "name": "stdout",
     "output_type": "stream",
     "text": [
      "4604\n",
      "1152\n"
     ]
    }
   ],
   "source": [
    "print(len(training_samples))\n",
    "print(len(test_samples))"
   ]
  },
  {
   "cell_type": "markdown",
   "metadata": {},
   "source": [
    "#### Cluster Samples (Video Frames) to reduce dataset for SVM"
   ]
  },
  {
   "cell_type": "code",
   "execution_count": 22,
   "metadata": {},
   "outputs": [
    {
     "data": {
      "text/plain": [
       "0"
      ]
     },
     "execution_count": 22,
     "metadata": {},
     "output_type": "execute_result"
    }
   ],
   "source": [
    "training_samples[-1][-1]"
   ]
  },
  {
   "cell_type": "code",
   "execution_count": 21,
   "metadata": {},
   "outputs": [],
   "source": [
    "kmeans = KMeans(n_clusters=1000, random_state=0).fit(training_samples)"
   ]
  },
  {
   "cell_type": "markdown",
   "metadata": {},
   "source": [
    "### Model Training"
   ]
  },
  {
   "cell_type": "markdown",
   "metadata": {},
   "source": [
    "#### Pull training samples from clusters"
   ]
  },
  {
   "cell_type": "code",
   "execution_count": 22,
   "metadata": {},
   "outputs": [
    {
     "data": {
      "text/plain": [
       "array([150, 497, 100, 632, 875, 763, 430,  82, 466, 123, 668, 629, 373,\n",
       "       764, 592, 522,  62, 897, 413, 428, 162,  63, 468, 627, 523, 176,\n",
       "       435, 371, 199, 778, 880,  95, 290, 259, 412, 576, 696, 198,  99,\n",
       "       691,  83, 212,  51, 798, 528, 205,  21, 130, 381, 532, 842, 216,\n",
       "       210, 830, 379, 881,  33, 421, 799, 852, 638,  61, 105,  84, 124,\n",
       "       664, 582, 872, 470, 103, 659, 474,  90, 609,  79, 143,  46, 202,\n",
       "       657, 425, 796, 331, 488, 801,  18, 605,  86, 761, 429, 191, 793,\n",
       "       416, 874, 669, 160, 833, 720, 548, 590, 449, 883, 501, 860, 550,\n",
       "       245, 789, 303, 887, 242, 237,  32, 108, 335, 565, 530, 840, 434,\n",
       "       858, 457, 835, 378, 797, 814, 553, 336, 493, 637, 209, 577, 882,\n",
       "       213, 121, 211,  73,  45, 787, 494, 411, 672, 885, 158, 325, 757,\n",
       "         6, 583, 280, 177, 646, 884, 185, 507, 601, 776, 250, 509, 233,\n",
       "       324, 567, 727,  64, 368, 258, 301, 822, 402,  43, 310, 768, 886,\n",
       "       563, 893, 626, 201, 518, 126,  74, 271, 440, 391, 490, 598, 810,\n",
       "       427,  19, 736, 535, 483, 156,   5, 594, 477, 765, 813, 571, 166,\n",
       "       660, 582,  42, 275,  92, 221, 812, 322, 898, 193, 436, 597, 228,\n",
       "       462, 248, 144, 167, 762, 579, 344,  15, 227, 298, 524, 277, 802,\n",
       "       251, 651, 615, 510, 163, 795, 492,  93, 826, 147, 292, 356, 495,\n",
       "       589, 502, 682, 164,  41, 137, 347, 472, 876, 695, 479, 607,  78,\n",
       "       288,  13, 225, 618, 729, 684, 113, 341, 302, 647, 867, 514, 252,\n",
       "       692, 536, 533,  68, 670, 384, 774, 849, 718, 190, 685, 773, 266,\n",
       "       621, 441, 604, 854, 783, 422, 297, 513, 829, 587, 314, 866, 222,\n",
       "       181, 131,   7, 848,  72, 689, 756, 824,  88, 784, 239,  75,  64,\n",
       "       552, 299, 217,   8, 566, 831, 703, 556, 608, 675, 531, 699, 145,\n",
       "       274, 102, 526, 394, 886, 767, 175, 588, 892, 809, 700, 869, 827,\n",
       "       728, 635, 151, 437, 702,   3, 312,  56,  77, 777, 499,  58, 781,\n",
       "       708, 329, 681, 804, 558, 817, 417, 602, 262, 643, 345, 711, 861,\n",
       "       667, 395, 223, 780, 591, 196, 153,  96, 466, 829, 333, 578, 377,\n",
       "       642, 748,  37, 115, 323, 188, 785,  38, 751, 612, 503, 569, 698,\n",
       "       296, 443, 572, 317, 735, 287, 505, 687, 750, 697, 653, 560, 836,\n",
       "       295, 654, 132, 623, 400, 525, 424, 348, 890,  19, 316, 374, 319,\n",
       "       108, 825, 269, 453, 678, 500, 446, 482, 224, 327, 496, 819, 355,\n",
       "       404, 834, 264, 246, 859, 871, 433, 195, 686, 291, 790,  66, 722,\n",
       "       655, 206, 273,  16, 840, 694, 309, 818, 551, 304, 349,  44, 157,\n",
       "       771, 388, 255, 386, 539, 719, 759, 545, 268, 846, 487,  22, 850,\n",
       "       426, 504, 714,  67, 206, 546,  60, 511, 478, 652, 548, 485, 661,\n",
       "       705, 112, 114, 168, 707, 220, 419, 182, 547, 628, 639, 595, 249,\n",
       "       229, 684, 340, 432, 857, 593, 318, 753, 450, 676,  28, 820, 261,\n",
       "       464, 791,  19, 837,  52, 272,  71, 204, 353, 484, 197, 282, 372,\n",
       "       397,  39, 865, 350, 127, 844, 851, 369, 534, 367, 420, 519, 267,\n",
       "       746, 755, 603, 749, 527, 135, 737, 788, 399, 888, 139, 803, 452,\n",
       "       263, 320, 529, 387, 782, 561, 473, 894, 460, 110, 117, 863, 725,\n",
       "       218,  23, 458, 300, 226, 868, 101, 726, 808, 620, 710,  27, 544,\n",
       "       363, 715, 326, 120, 471, 734, 231, 712, 143, 200, 469, 346,  55,\n",
       "        34, 870, 376, 313, 342, 155, 254, 256, 693,  54,  76, 186, 716,\n",
       "       815, 423, 486, 800, 184,  30, 633, 666, 618, 586, 542, 140, 169,\n",
       "       890, 152, 265, 232,  12, 559, 516, 717, 847, 389, 611, 899, 396,\n",
       "       742, 375, 520, 106, 677, 141, 315, 338, 253, 194, 739, 409,  85,\n",
       "       348, 207, 294, 624,  69,   9, 361, 247, 337,  40, 415, 832, 650,\n",
       "        14, 779, 741, 174, 721,  57, 709, 289, 125, 359, 107, 358, 406,\n",
       "       283, 704, 179, 701, 843, 224, 816, 794, 104, 459, 451,  47, 554,\n",
       "       439, 448, 663, 403, 170, 853, 390, 455,  98, 366, 380,  35, 573,\n",
       "       645, 285, 276,  59, 116, 476, 431, 731,   0,   4, 891, 896, 241,\n",
       "       410, 574,  24,  17,  97, 203, 306, 648, 517, 786, 187, 128, 743,\n",
       "       730, 165, 543, 408, 109, 706, 219, 740, 456, 489, 745,  81, 521,\n",
       "       370, 171, 724, 364, 454, 585, 362, 619, 506, 760, 656,  29, 192,\n",
       "       307, 465, 775, 744, 284, 234, 839, 878, 805, 321,   2, 172, 383,\n",
       "       649, 442, 562, 564, 481,  87,  70, 575, 610, 581, 365, 236, 444,\n",
       "       392, 679, 828, 606, 873, 864, 382, 260, 674, 407, 600, 688, 334,\n",
       "       723, 354, 215, 214, 461,   1, 599, 498, 549,  94, 673, 149,  50,\n",
       "       244,  31, 352, 238, 540, 758, 823, 178, 732,  11, 447, 821, 754,\n",
       "       841, 339, 630, 713, 537, 584, 671, 360, 154, 690, 332, 138,  91,\n",
       "       665, 625, 401,  20, 889, 856, 438, 580, 541, 111, 183, 769, 631,\n",
       "       635, 463, 770, 142, 622, 414, 738,  65, 146, 257, 658, 538, 148,\n",
       "       122, 159, 328, 515, 134, 512, 385, 491,  89, 792, 393, 208, 173,\n",
       "       235, 278, 106, 308, 747, 230, 752, 680, 133,  11, 180, 129, 293,\n",
       "       343,  80, 811,  95, 161, 418, 279, 445, 766, 240, 305, 838, 570,\n",
       "        49, 877, 634, 311,  48, 733, 616, 641, 568, 555, 806, 596, 662,\n",
       "       189, 845, 879, 772, 281, 243, 475, 548, 270, 351, 862, 636, 119,\n",
       "       640, 508, 855, 613,  25,  53, 480, 286, 683,  10,  36,  26, 614,\n",
       "       807, 467, 330, 557, 398, 118, 895, 357, 617, 644, 136, 405],\n",
       "      dtype=int32)"
      ]
     },
     "execution_count": 22,
     "metadata": {},
     "output_type": "execute_result"
    }
   ],
   "source": [
    "kmeans.labels_"
   ]
  },
  {
   "cell_type": "code",
   "execution_count": 23,
   "metadata": {},
   "outputs": [],
   "source": [
    "cluster_ids = set(range(900))\n",
    "final_training_samples = []\n",
    "\n",
    "for training_sample_idx, cluster_id in enumerate(kmeans.labels_.tolist()):\n",
    "    if cluster_id in cluster_ids:\n",
    "        final_training_samples.append(training_samples[training_sample_idx])\n",
    "        cluster_ids.remove(cluster_id)"
   ]
  },
  {
   "cell_type": "code",
   "execution_count": 24,
   "metadata": {},
   "outputs": [
    {
     "name": "stdout",
     "output_type": "stream",
     "text": [
      "900\n",
      "0\n",
      "11211\n"
     ]
    }
   ],
   "source": [
    "print len(final_training_samples)\n",
    "print final_training_samples[0][-1]\n",
    "print len(final_training_samples[0])"
   ]
  },
  {
   "cell_type": "markdown",
   "metadata": {},
   "source": [
    "#### Separate images from labels again"
   ]
  },
  {
   "cell_type": "code",
   "execution_count": 23,
   "metadata": {},
   "outputs": [],
   "source": [
    "#svm_training_labels = [sample[-1] for sample in final_training_samples]\n",
    "#svm_training_samples = [sample[:-1] for sample in final_training_samples]\n",
    "\n",
    "svm_training_labels = [sample[-1] for sample in training_samples]\n",
    "svm_training_samples = [sample[:-1] for sample in training_samples]\n",
    "\n",
    "svm_test_labels = [sample[-1] for sample in test_samples]\n",
    "svm_test_samples = [sample[:-1] for sample in test_samples]"
   ]
  },
  {
   "cell_type": "code",
   "execution_count": 111,
   "metadata": {},
   "outputs": [],
   "source": [
    "svm_training_labels = final_training_labels\n",
    "svm_training_samples = training_samples\n",
    "\n",
    "svm_test_labels = final_test_labels\n",
    "svm_test_samples = test_samples"
   ]
  },
  {
   "cell_type": "markdown",
   "metadata": {},
   "source": [
    "#### SVM Training"
   ]
  },
  {
   "cell_type": "code",
   "execution_count": 24,
   "metadata": {},
   "outputs": [
    {
     "data": {
      "text/plain": [
       "SVC(C=1.0, cache_size=200, class_weight=None, coef0=0.0,\n",
       "  decision_function_shape='ovr', degree=3, gamma='scale', kernel='rbf',\n",
       "  max_iter=-1, probability=False, random_state=None, shrinking=True,\n",
       "  tol=0.001, verbose=False)"
      ]
     },
     "execution_count": 24,
     "metadata": {},
     "output_type": "execute_result"
    }
   ],
   "source": [
    "#clf = svm.SVR(gamma='scale')\n",
    "clf = svm.SVC(gamma='scale')\n",
    "clf.fit(svm_training_samples, svm_training_labels)"
   ]
  },
  {
   "cell_type": "markdown",
   "metadata": {},
   "source": [
    "### Model Evaluation"
   ]
  },
  {
   "cell_type": "code",
   "execution_count": 25,
   "metadata": {},
   "outputs": [],
   "source": [
    "#raw_predictions = clf.predict(svm_test_samples).tolist()\n",
    "#predictions = [int(raw_prediction > 0.5) for raw_prediction in raw_predictions]\n",
    "predictions = clf.predict(svm_test_samples).tolist()"
   ]
  },
  {
   "cell_type": "code",
   "execution_count": 27,
   "metadata": {},
   "outputs": [
    {
     "data": {
      "text/plain": [
       "0"
      ]
     },
     "execution_count": 27,
     "metadata": {},
     "output_type": "execute_result"
    }
   ],
   "source": [
    "predictions[10]"
   ]
  },
  {
   "cell_type": "code",
   "execution_count": 28,
   "metadata": {},
   "outputs": [
    {
     "data": {
      "text/plain": [
       "5"
      ]
     },
     "execution_count": 28,
     "metadata": {},
     "output_type": "execute_result"
    }
   ],
   "source": [
    "sum(predictions)"
   ]
  },
  {
   "cell_type": "code",
   "execution_count": 29,
   "metadata": {},
   "outputs": [
    {
     "data": {
      "text/plain": [
       "98"
      ]
     },
     "execution_count": 29,
     "metadata": {},
     "output_type": "execute_result"
    }
   ],
   "source": [
    "sum(svm_test_labels)"
   ]
  },
  {
   "cell_type": "code",
   "execution_count": 30,
   "metadata": {},
   "outputs": [
    {
     "data": {
      "text/plain": [
       "[Text(0,0.5,'no pain'), Text(0,1.5,'pain')]"
      ]
     },
     "execution_count": 30,
     "metadata": {},
     "output_type": "execute_result"
    },
    {
     "data": {
      "image/png": "[encoded data removed]",
      "text/plain": [
       "<Figure size 432x288 with 2 Axes>"
      ]
     },
     "metadata": {
      "needs_background": "light"
     },
     "output_type": "display_data"
    }
   ],
   "source": [
    "cm = confusion_matrix(svm_test_labels, predictions)\n",
    "\n",
    "# plot heatmap of confusion matrix\n",
    "ax= plt.subplot()\n",
    "sns.heatmap(cm, annot=True, fmt='g', ax = ax)\n",
    "\n",
    "# labels, title and ticks\n",
    "plt.title('Confusion matrix', y=1.08)\n",
    "ax.set_xlabel('Predicted labels')\n",
    "ax.set_ylabel('True labels')\n",
    "ax.xaxis.tick_top()\n",
    "ax.xaxis.set_ticklabels(['no pain', 'pain'])\n",
    "ax.yaxis.set_ticklabels(['no pain', 'pain'])"
   ]
  },
  {
   "cell_type": "code",
   "execution_count": 117,
   "metadata": {},
   "outputs": [
    {
     "name": "stdout",
     "output_type": "stream",
     "text": [
      "Model accuracy: 0.660460992908\n",
      "\n",
      "Model precision: 0.923076923077\n",
      "\n",
      "Model recall: 0.4\n",
      "\n",
      "Model F1 Score: 0.558139534884\n",
      "\n"
     ]
    }
   ],
   "source": [
    "accuracy = float(sum([predictions[i] == svm_test_labels[i] for i in range(len(svm_test_labels))])) / float(len(predictions))\n",
    "# find precision by doing true positives / (true positives + false positives)\n",
    "precision = float(12) / float(12 + 1)\n",
    "# find recall by doing true positives / (true positives + false negatives)\n",
    "recall = float(12) / float(12 + 18)\n",
    "# find Balanced F1 Score by doing 2 * (precision * recall) / (precision + recall)\n",
    "f1_score = float(2 * precision * recall) / float(precision + recall)\n",
    "print 'Model accuracy: {}\\n'.format(accuracy)\n",
    "print 'Model precision: {}\\n'.format(precision)\n",
    "print 'Model recall: {}\\n'.format(recall)\n",
    "print 'Model F1 Score: {}\\n'.format(f1_score)"
   ]
  }
 ],
 "metadata": {
  "kernelspec": {
   "display_name": "Python 2",
   "language": "python",
   "name": "python2"
  },
  "language_info": {
   "codemirror_mode": {
    "name": "ipython",
    "version": 2
   },
   "file_extension": ".py",
   "mimetype": "text/x-python",
   "name": "python",
   "nbconvert_exporter": "python",
   "pygments_lexer": "ipython2",
   "version": "2.7.11"
  }
 },
 "nbformat": 4,
 "nbformat_minor": 2
}
