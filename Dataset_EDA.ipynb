{
 "cells": [
  {
   "cell_type": "code",
   "execution_count": 24,
   "metadata": {},
   "outputs": [],
   "source": [
    "# Imports\n",
    "import pandas as pd\n",
    "import os\n",
    "\n",
    "from os.path import join"
   ]
  },
  {
   "cell_type": "code",
   "execution_count": 19,
   "metadata": {},
   "outputs": [
    {
     "name": "stdout",
     "output_type": "stream",
     "text": [
      "   48398\r\n"
     ]
    }
   ],
   "source": [
    "# find total number of images\n",
    "!find Images -type f | grep -v \".DS_Store\" | wc -l"
   ]
  },
  {
   "cell_type": "code",
   "execution_count": 22,
   "metadata": {},
   "outputs": [
    {
     "name": "stdout",
     "output_type": "stream",
     "text": [
      "      25\r\n"
     ]
    }
   ],
   "source": [
    "# find total number of subjects\n",
    "!ls -l Images/ | grep -v \"total 0\" | wc -l"
   ]
  },
  {
   "cell_type": "code",
   "execution_count": 26,
   "metadata": {},
   "outputs": [],
   "source": [
    "# load subjects and associated PSPI (Pain Intensity Scores) into pandas dataframe for further analysis\n",
    "images = []\n",
    "pspi_scores = []\n",
    "\n",
    "for subject_id in os.listdir('Images'):\n",
    "    if subject_id != '.DS_Store':\n",
    "        for sequence_id in os.listdir(join('Images', subject_id)):\n",
    "            if sequence_id != '.DS_Store':\n",
    "                for image in os.listdir(join('Images', subject_id, sequence_id)):\n",
    "                    if image != '.DS_Store':\n",
    "                        images.append(image.split('.')[0])\n",
    "                for pspi_file in os.listdir(join('Frame_Labels', 'PSPI', subject_id, sequence_id)):\n",
    "                    with open(join('Frame_Labels', 'PSPI', subject_id, sequence_id, pspi_file), 'r') as f_in:\n",
    "                        pspi_scores.append(float(f_in.read().strip()))\n",
    "\n",
    "data = {'image': images, 'pspi_score': pspi_scores}\n",
    "df = pd.DataFrame(data=data)"
   ]
  },
  {
   "cell_type": "code",
   "execution_count": 23,
   "metadata": {},
   "outputs": [
    {
     "name": "stdout",
     "output_type": "stream",
     "text": [
      "48398\n",
      "48398\n",
      "['ll042t1aaaff001', 'll042t1aaaff002', 'll042t1aaaff003', 'll042t1aaaff004', 'll042t1aaaff005', 'll042t1aaaff006', 'll042t1aaaff007', 'll042t1aaaff008', 'll042t1aaaff009', 'll042t1aaaff010']\n",
      "[0.0, 0.0, 0.0, 0.0, 0.0, 0.0, 0.0, 0.0, 0.0, 0.0]\n"
     ]
    }
   ],
   "source": [
    "print len(images)\n",
    "print len(pspi_scores)\n",
    "\n",
    "print images[:10]\n",
    "print pspi_scores[:10]"
   ]
  }
 ],
 "metadata": {
  "kernelspec": {
   "display_name": "Python 2",
   "language": "python",
   "name": "python2"
  },
  "language_info": {
   "codemirror_mode": {
    "name": "ipython",
    "version": 2
   },
   "file_extension": ".py",
   "mimetype": "text/x-python",
   "name": "python",
   "nbconvert_exporter": "python",
   "pygments_lexer": "ipython2",
   "version": "2.7.10"
  }
 },
 "nbformat": 4,
 "nbformat_minor": 2
}
