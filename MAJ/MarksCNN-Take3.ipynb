{
 "cells": [
  {
   "cell_type": "markdown",
   "metadata": {},
   "source": [
    "# Imports & Config"
   ]
  },
  {
   "cell_type": "code",
   "execution_count": 1,
   "metadata": {
    "ExecuteTime": {
     "end_time": "2019-07-17T09:35:13.759617Z",
     "start_time": "2019-07-17T09:35:12.122379Z"
    }
   },
   "outputs": [
    {
     "name": "stdout",
     "output_type": "stream",
     "text": [
      "[INFO] Imports done.  Using Tensorflow version: 1.13.1, and Keras version: 2.2.4-tf\n"
     ]
    }
   ],
   "source": [
    "import os, shutil, argparse, random, pickle, cv2, fnmatch, PIL, math, signal\n",
    "from tqdm import tqdm_notebook as tqdm\n",
    "import tensorflow as tf\n",
    "import tensorflow.keras as k\n",
    "import numpy as np\n",
    "import pandas as pd\n",
    "from sklearn.utils import shuffle\n",
    "from tensorflow.keras.optimizers import RMSprop, Adam\n",
    "from tensorflow.keras.preprocessing.image import ImageDataGenerator, img_to_array, load_img\n",
    "from tensorflow.keras.preprocessing import image\n",
    "from sklearn.metrics import roc_curve\n",
    "import matplotlib.pyplot as plt\n",
    "from sklearn.metrics import auc\n",
    "from tensorflow.keras.callbacks import EarlyStopping, ModelCheckpoint, ReduceLROnPlateau\n",
    "import datetime\n",
    "\n",
    "%matplotlib inline\n",
    "\n",
    "print('[INFO] Imports done.  Using Tensorflow version: {}, and Keras version: {}'.format(tf.__version__, k.__version__))"
   ]
  },
  {
   "cell_type": "code",
   "execution_count": 3,
   "metadata": {
    "ExecuteTime": {
     "end_time": "2019-07-17T09:36:04.183502Z",
     "start_time": "2019-07-17T09:36:04.173879Z"
    }
   },
   "outputs": [],
   "source": [
    "config={}\n",
    "\n",
    "config['note'] = '-AllData'\n",
    "\n",
    "config['new_directory'] = os.path.join(os.getcwd()\n",
    "                                       , 'marks-runs'\n",
    "                                       , '{}, {}'.format(datetime.datetime.now().strftime(\"%y%m%d%H%M\"), config['note']))\n",
    "\n",
    "if os.path.exists(config['new_directory']):\n",
    "        shutil.rmtree(config['new_directory'])\n",
    "\n",
    "os.mkdir(config['new_directory'])\n",
    "\n",
    "\n",
    "\n",
    "config['do_dataprep'] = True\n",
    "\n",
    "config['source'] = os.path.join(os.getcwd(), 'source_data')\n",
    "config['home_dir'] = os.path.join(os.getcwd(), 'data_binary_split')\n",
    "\n",
    "config['train_dir'] = os.path.join(os.getcwd(), 'data_binary_split', 'train')\n",
    "config['test_dir'] = os.path.join(os.getcwd(), 'data_binary_split', 'test')\n",
    "config['val_dir'] = os.path.join(os.getcwd(), 'data_binary_split', 'validation')\n",
    "\n",
    "config['train_pain'] = os.path.join(config['train_dir'], 'pain')\n",
    "config['train_nopain'] = os.path.join(config['train_dir'], 'nopain')\n",
    "config['test_pain'] = os.path.join(config['test_dir'], 'pain')\n",
    "config['test_nopain'] = os.path.join(config['test_dir'], 'nopain')\n",
    "config['val_pain'] = os.path.join(config['val_dir'], 'pain')\n",
    "config['val_nopain'] = os.path.join(config['val_dir'], 'nopain')\n",
    "\n",
    "config['val_split'] = 0.1\n",
    "config['test_split'] = 0.1\n",
    "\n",
    "config['target_size'] = (320, 240)\n",
    "\n",
    "config['train_batch'] = 100\n",
    "config['test_batch'] = 100\n",
    "config['val_batch'] = 100\n",
    "\n",
    "config['epochs'] = 100\n",
    "\n",
    "config['set_limit'] = False\n",
    "config['train_limit'] = 6600\n",
    "config['test_val_limit'] = 830"
   ]
  },
  {
   "cell_type": "markdown",
   "metadata": {},
   "source": [
    "# Data Prep"
   ]
  },
  {
   "cell_type": "markdown",
   "metadata": {},
   "source": [
    "## Split Helper Function"
   ]
  },
  {
   "cell_type": "code",
   "execution_count": 4,
   "metadata": {
    "ExecuteTime": {
     "end_time": "2019-07-17T09:36:06.208501Z",
     "start_time": "2019-07-17T09:36:06.201055Z"
    }
   },
   "outputs": [],
   "source": [
    "def split(SOURCE, TRAINING, TESTING, VALIDATION):\n",
    "    \n",
    "    print('[INFO] In Splitting')\n",
    "\n",
    "    files = []\n",
    "    \n",
    "    for file in os.listdir(SOURCE): \n",
    "        files.append(file)\n",
    "    \n",
    "    # since the limit is less than the # of images, I will just hardcode it.  \n",
    "\n",
    "    training_length = int(len(files) * (1-config['val_split']-config['test_split']))\n",
    "    testing_length = int(len(files) * config['test_split'])\n",
    "    validation_length = int(len(files) * config['val_split'])\n",
    "\n",
    "    shuffled_set = random.sample(files, len(files))\n",
    "\n",
    "    training_set = shuffled_set[0:training_length]\n",
    "    testing_set = shuffled_set[training_length:training_length+testing_length]\n",
    "    validation_set = shuffled_set[training_length+testing_length:]\n",
    "\n",
    "#     print('[INFO] Creating Training Set')\n",
    "    for filename in tqdm(training_set):\n",
    "        this_file = os.path.join(SOURCE, filename)\n",
    "        destination = os.path.join(TRAINING, filename)\n",
    "        shutil.copyfile(this_file, destination)\n",
    "\n",
    "#     print('[INFO] Creating Testing Set')\n",
    "    for filename in tqdm(testing_set):\n",
    "        this_file = os.path.join(SOURCE, filename)\n",
    "        destination = os.path.join(TESTING, filename)\n",
    "        shutil.copyfile(this_file, destination)\n",
    "\n",
    "#     print('[INFO] Creating Validation Set')\n",
    "    for filename in tqdm(validation_set):\n",
    "        this_file = os.path.join(SOURCE, filename)\n",
    "        destination = os.path.join(VALIDATION, filename)\n",
    "        shutil.copyfile(this_file, destination)"
   ]
  },
  {
   "cell_type": "markdown",
   "metadata": {},
   "source": [
    "## Creating Directories"
   ]
  },
  {
   "cell_type": "markdown",
   "metadata": {},
   "source": [
    "Strategy is to use the data in 0.0 labeled as no pain and all others as pain"
   ]
  },
  {
   "cell_type": "code",
   "execution_count": 5,
   "metadata": {
    "ExecuteTime": {
     "end_time": "2019-07-17T09:36:07.612541Z",
     "start_time": "2019-07-17T09:36:07.610460Z"
    }
   },
   "outputs": [],
   "source": [
    "# Seems I have mixed them up: \n",
    "# 0.0 is no pain\n",
    "# the rest is pain"
   ]
  },
  {
   "cell_type": "code",
   "execution_count": 6,
   "metadata": {
    "ExecuteTime": {
     "end_time": "2019-07-17T09:42:38.776606Z",
     "start_time": "2019-07-17T09:36:08.211688Z"
    }
   },
   "outputs": [
    {
     "name": "stdout",
     "output_type": "stream",
     "text": [
      "[INFO] Files in nopain origin dir: \t40029\n",
      "[INFO] Files in nopain train dir: \t0\n",
      "[INFO] Files in nopain test dir: \t\t0\n",
      "[INFO] Files in nopain val dir: \t\t0\n",
      "[INFO] In Splitting\n"
     ]
    },
    {
     "data": {
      "application/vnd.jupyter.widget-view+json": {
       "model_id": "f49d45fb65a24b69b4b6eb638caf6e86",
       "version_major": 2,
       "version_minor": 0
      },
      "text/plain": [
       "HBox(children=(IntProgress(value=0, max=32023), HTML(value='')))"
      ]
     },
     "metadata": {},
     "output_type": "display_data"
    },
    {
     "name": "stdout",
     "output_type": "stream",
     "text": [
      "\n"
     ]
    },
    {
     "data": {
      "application/vnd.jupyter.widget-view+json": {
       "model_id": "8128fb5507b646cfa6a2bbb72e88004b",
       "version_major": 2,
       "version_minor": 0
      },
      "text/plain": [
       "HBox(children=(IntProgress(value=0, max=4002), HTML(value='')))"
      ]
     },
     "metadata": {},
     "output_type": "display_data"
    },
    {
     "name": "stdout",
     "output_type": "stream",
     "text": [
      "\n"
     ]
    },
    {
     "data": {
      "application/vnd.jupyter.widget-view+json": {
       "model_id": "046d4821416e483eab2bf866b0158cd3",
       "version_major": 2,
       "version_minor": 0
      },
      "text/plain": [
       "HBox(children=(IntProgress(value=0, max=4004), HTML(value='')))"
      ]
     },
     "metadata": {},
     "output_type": "display_data"
    },
    {
     "name": "stdout",
     "output_type": "stream",
     "text": [
      "\n",
      "[INFO] Files in nopain origin dir: \t40029\n",
      "[INFO] Files in nopain train dir: \t32023\n",
      "[INFO] Files in nopain test dir: \t\t4002\n",
      "[INFO] Files in nopain val dir: \t\t4004\n",
      "[INFO] Files in pain train dir: \t0\n",
      "[INFO] Files in pain test dir: \t0\n",
      "[INFO] Files in pain val dir: \t0\n",
      "[INFO] In Splitting\n"
     ]
    },
    {
     "data": {
      "application/vnd.jupyter.widget-view+json": {
       "model_id": "bd1187cb85e24d9da3e930dbee614833",
       "version_major": 2,
       "version_minor": 0
      },
      "text/plain": [
       "HBox(children=(IntProgress(value=0, max=42), HTML(value='')))"
      ]
     },
     "metadata": {},
     "output_type": "display_data"
    },
    {
     "name": "stdout",
     "output_type": "stream",
     "text": [
      "\n"
     ]
    },
    {
     "data": {
      "application/vnd.jupyter.widget-view+json": {
       "model_id": "8e3e51e495bd4fe7b2fea6808ed8939d",
       "version_major": 2,
       "version_minor": 0
      },
      "text/plain": [
       "HBox(children=(IntProgress(value=0, max=5), HTML(value='')))"
      ]
     },
     "metadata": {},
     "output_type": "display_data"
    },
    {
     "name": "stdout",
     "output_type": "stream",
     "text": [
      "\n"
     ]
    },
    {
     "data": {
      "application/vnd.jupyter.widget-view+json": {
       "model_id": "d3b803d32b8a4b57894b5017347daa6b",
       "version_major": 2,
       "version_minor": 0
      },
      "text/plain": [
       "HBox(children=(IntProgress(value=0, max=6), HTML(value='')))"
      ]
     },
     "metadata": {},
     "output_type": "display_data"
    },
    {
     "name": "stdout",
     "output_type": "stream",
     "text": [
      "\n",
      "[INFO] In Splitting\n"
     ]
    },
    {
     "data": {
      "application/vnd.jupyter.widget-view+json": {
       "model_id": "ca8aff1b01cc4f6d8fe99be6a31c71da",
       "version_major": 2,
       "version_minor": 0
      },
      "text/plain": [
       "HBox(children=(IntProgress(value=0, max=641), HTML(value='')))"
      ]
     },
     "metadata": {},
     "output_type": "display_data"
    },
    {
     "name": "stdout",
     "output_type": "stream",
     "text": [
      "\n"
     ]
    },
    {
     "data": {
      "application/vnd.jupyter.widget-view+json": {
       "model_id": "268ba27744cd407a8d137ae5a69a5fd8",
       "version_major": 2,
       "version_minor": 0
      },
      "text/plain": [
       "HBox(children=(IntProgress(value=0, max=80), HTML(value='')))"
      ]
     },
     "metadata": {},
     "output_type": "display_data"
    },
    {
     "name": "stdout",
     "output_type": "stream",
     "text": [
      "\n"
     ]
    },
    {
     "data": {
      "application/vnd.jupyter.widget-view+json": {
       "model_id": "113764165890450b9c35e6e4c7b8c247",
       "version_major": 2,
       "version_minor": 0
      },
      "text/plain": [
       "HBox(children=(IntProgress(value=0, max=81), HTML(value='')))"
      ]
     },
     "metadata": {},
     "output_type": "display_data"
    },
    {
     "name": "stdout",
     "output_type": "stream",
     "text": [
      "\n",
      "[INFO] In Splitting\n"
     ]
    },
    {
     "data": {
      "application/vnd.jupyter.widget-view+json": {
       "model_id": "4aa12764314b4782afdaf67b6f83c4cf",
       "version_major": 2,
       "version_minor": 0
      },
      "text/plain": [
       "HBox(children=(IntProgress(value=0, max=193), HTML(value='')))"
      ]
     },
     "metadata": {},
     "output_type": "display_data"
    },
    {
     "name": "stdout",
     "output_type": "stream",
     "text": [
      "\n"
     ]
    },
    {
     "data": {
      "application/vnd.jupyter.widget-view+json": {
       "model_id": "fde99a4057fe4088bbcd4c813d109649",
       "version_major": 2,
       "version_minor": 0
      },
      "text/plain": [
       "HBox(children=(IntProgress(value=0, max=24), HTML(value='')))"
      ]
     },
     "metadata": {},
     "output_type": "display_data"
    },
    {
     "name": "stdout",
     "output_type": "stream",
     "text": [
      "\n"
     ]
    },
    {
     "data": {
      "application/vnd.jupyter.widget-view+json": {
       "model_id": "d283c70d25124ced895e3c79f34df634",
       "version_major": 2,
       "version_minor": 0
      },
      "text/plain": [
       "HBox(children=(IntProgress(value=0, max=25), HTML(value='')))"
      ]
     },
     "metadata": {},
     "output_type": "display_data"
    },
    {
     "name": "stdout",
     "output_type": "stream",
     "text": [
      "\n",
      "[INFO] In Splitting\n"
     ]
    },
    {
     "data": {
      "application/vnd.jupyter.widget-view+json": {
       "model_id": "cc766ce311b746cd9dcd26190d249a94",
       "version_major": 2,
       "version_minor": 0
      },
      "text/plain": [
       "HBox(children=(IntProgress(value=0, max=63), HTML(value='')))"
      ]
     },
     "metadata": {},
     "output_type": "display_data"
    },
    {
     "name": "stdout",
     "output_type": "stream",
     "text": [
      "\n"
     ]
    },
    {
     "data": {
      "application/vnd.jupyter.widget-view+json": {
       "model_id": "eef73b220696463ab115362c03895c13",
       "version_major": 2,
       "version_minor": 0
      },
      "text/plain": [
       "HBox(children=(IntProgress(value=0, max=7), HTML(value='')))"
      ]
     },
     "metadata": {},
     "output_type": "display_data"
    },
    {
     "name": "stdout",
     "output_type": "stream",
     "text": [
      "\n"
     ]
    },
    {
     "data": {
      "application/vnd.jupyter.widget-view+json": {
       "model_id": "28cd465086914e548afed44c1b4f8a8a",
       "version_major": 2,
       "version_minor": 0
      },
      "text/plain": [
       "HBox(children=(IntProgress(value=0, max=9), HTML(value='')))"
      ]
     },
     "metadata": {},
     "output_type": "display_data"
    },
    {
     "name": "stdout",
     "output_type": "stream",
     "text": [
      "\n",
      "[INFO] In Splitting\n"
     ]
    },
    {
     "data": {
      "application/vnd.jupyter.widget-view+json": {
       "model_id": "4b679d0a43bd42999dc52391ffebb5c4",
       "version_major": 2,
       "version_minor": 0
      },
      "text/plain": [
       "HBox(children=(IntProgress(value=0, max=4), HTML(value='')))"
      ]
     },
     "metadata": {},
     "output_type": "display_data"
    },
    {
     "name": "stdout",
     "output_type": "stream",
     "text": [
      "\n"
     ]
    },
    {
     "data": {
      "application/vnd.jupyter.widget-view+json": {
       "model_id": "c09acb652da54181aecba72a8a50becf",
       "version_major": 2,
       "version_minor": 0
      },
      "text/plain": [
       "HBox(children=(IntProgress(value=1, bar_style='info', max=1), HTML(value='')))"
      ]
     },
     "metadata": {},
     "output_type": "display_data"
    },
    {
     "name": "stdout",
     "output_type": "stream",
     "text": [
      "\n"
     ]
    },
    {
     "data": {
      "application/vnd.jupyter.widget-view+json": {
       "model_id": "dbc894ec130748028ba65e83f249d364",
       "version_major": 2,
       "version_minor": 0
      },
      "text/plain": [
       "HBox(children=(IntProgress(value=0, max=1), HTML(value='')))"
      ]
     },
     "metadata": {},
     "output_type": "display_data"
    },
    {
     "name": "stdout",
     "output_type": "stream",
     "text": [
      "\n",
      "[INFO] In Splitting\n"
     ]
    },
    {
     "data": {
      "application/vnd.jupyter.widget-view+json": {
       "model_id": "54d3160ef7764b9eb55909a8c3b30863",
       "version_major": 2,
       "version_minor": 0
      },
      "text/plain": [
       "HBox(children=(IntProgress(value=0, max=38), HTML(value='')))"
      ]
     },
     "metadata": {},
     "output_type": "display_data"
    },
    {
     "name": "stdout",
     "output_type": "stream",
     "text": [
      "\n"
     ]
    },
    {
     "data": {
      "application/vnd.jupyter.widget-view+json": {
       "model_id": "cd3da7199e1b41ccbae2facf97524caf",
       "version_major": 2,
       "version_minor": 0
      },
      "text/plain": [
       "HBox(children=(IntProgress(value=0, max=4), HTML(value='')))"
      ]
     },
     "metadata": {},
     "output_type": "display_data"
    },
    {
     "name": "stdout",
     "output_type": "stream",
     "text": [
      "\n"
     ]
    },
    {
     "data": {
      "application/vnd.jupyter.widget-view+json": {
       "model_id": "07892abb867f4721b0435432a3d4f2f2",
       "version_major": 2,
       "version_minor": 0
      },
      "text/plain": [
       "HBox(children=(IntProgress(value=0, max=6), HTML(value='')))"
      ]
     },
     "metadata": {},
     "output_type": "display_data"
    },
    {
     "name": "stdout",
     "output_type": "stream",
     "text": [
      "\n",
      "[INFO] In Splitting\n"
     ]
    },
    {
     "data": {
      "application/vnd.jupyter.widget-view+json": {
       "model_id": "4074c80a0f2a43029f216b1eda7bde25",
       "version_major": 2,
       "version_minor": 0
      },
      "text/plain": [
       "HBox(children=(IntProgress(value=0, max=53), HTML(value='')))"
      ]
     },
     "metadata": {},
     "output_type": "display_data"
    },
    {
     "name": "stdout",
     "output_type": "stream",
     "text": [
      "\n"
     ]
    },
    {
     "data": {
      "application/vnd.jupyter.widget-view+json": {
       "model_id": "c4ce925774754ea09f07ec9dc6869c9e",
       "version_major": 2,
       "version_minor": 0
      },
      "text/plain": [
       "HBox(children=(IntProgress(value=0, max=6), HTML(value='')))"
      ]
     },
     "metadata": {},
     "output_type": "display_data"
    },
    {
     "name": "stdout",
     "output_type": "stream",
     "text": [
      "\n"
     ]
    },
    {
     "data": {
      "application/vnd.jupyter.widget-view+json": {
       "model_id": "1ed15963eb364ac48c983ba7aadae91e",
       "version_major": 2,
       "version_minor": 0
      },
      "text/plain": [
       "HBox(children=(IntProgress(value=0, max=8), HTML(value='')))"
      ]
     },
     "metadata": {},
     "output_type": "display_data"
    },
    {
     "name": "stdout",
     "output_type": "stream",
     "text": [
      "\n",
      "[INFO] In Splitting\n"
     ]
    },
    {
     "data": {
      "application/vnd.jupyter.widget-view+json": {
       "model_id": "6051a68e12ff405680ade5fa495c3aaa",
       "version_major": 2,
       "version_minor": 0
      },
      "text/plain": [
       "HBox(children=(IntProgress(value=0, max=17), HTML(value='')))"
      ]
     },
     "metadata": {},
     "output_type": "display_data"
    },
    {
     "name": "stdout",
     "output_type": "stream",
     "text": [
      "\n"
     ]
    },
    {
     "data": {
      "application/vnd.jupyter.widget-view+json": {
       "model_id": "84b7b1b286c74beb9acb093d6d73dc26",
       "version_major": 2,
       "version_minor": 0
      },
      "text/plain": [
       "HBox(children=(IntProgress(value=0, max=2), HTML(value='')))"
      ]
     },
     "metadata": {},
     "output_type": "display_data"
    },
    {
     "name": "stdout",
     "output_type": "stream",
     "text": [
      "\n"
     ]
    },
    {
     "data": {
      "application/vnd.jupyter.widget-view+json": {
       "model_id": "7f5eda5ee3b4440e8ee2da466b63bbb0",
       "version_major": 2,
       "version_minor": 0
      },
      "text/plain": [
       "HBox(children=(IntProgress(value=0, max=3), HTML(value='')))"
      ]
     },
     "metadata": {},
     "output_type": "display_data"
    },
    {
     "name": "stdout",
     "output_type": "stream",
     "text": [
      "\n",
      "[INFO] In Splitting\n"
     ]
    },
    {
     "data": {
      "application/vnd.jupyter.widget-view+json": {
       "model_id": "e825e9b88939454fa5ab6b4a54de11ea",
       "version_major": 2,
       "version_minor": 0
      },
      "text/plain": [
       "HBox(children=(IntProgress(value=0, max=25), HTML(value='')))"
      ]
     },
     "metadata": {},
     "output_type": "display_data"
    },
    {
     "name": "stdout",
     "output_type": "stream",
     "text": [
      "\n"
     ]
    },
    {
     "data": {
      "application/vnd.jupyter.widget-view+json": {
       "model_id": "5a7766c7dbe742219c235722d3f272dd",
       "version_major": 2,
       "version_minor": 0
      },
      "text/plain": [
       "HBox(children=(IntProgress(value=0, max=3), HTML(value='')))"
      ]
     },
     "metadata": {},
     "output_type": "display_data"
    },
    {
     "name": "stdout",
     "output_type": "stream",
     "text": [
      "\n"
     ]
    },
    {
     "data": {
      "application/vnd.jupyter.widget-view+json": {
       "model_id": "f2c43781f6f648b28e07c06f27c9c75c",
       "version_major": 2,
       "version_minor": 0
      },
      "text/plain": [
       "HBox(children=(IntProgress(value=0, max=4), HTML(value='')))"
      ]
     },
     "metadata": {},
     "output_type": "display_data"
    },
    {
     "name": "stdout",
     "output_type": "stream",
     "text": [
      "\n",
      "[INFO] In Splitting\n"
     ]
    },
    {
     "data": {
      "application/vnd.jupyter.widget-view+json": {
       "model_id": "0724b9b85a374977a5ed6379efda26a1",
       "version_major": 2,
       "version_minor": 0
      },
      "text/plain": [
       "HBox(children=(IntProgress(value=1, bar_style='info', max=1), HTML(value='')))"
      ]
     },
     "metadata": {},
     "output_type": "display_data"
    },
    {
     "name": "stdout",
     "output_type": "stream",
     "text": [
      "\n"
     ]
    },
    {
     "data": {
      "application/vnd.jupyter.widget-view+json": {
       "model_id": "ed293bfb779f4ec58ce6cff7abf2628b",
       "version_major": 2,
       "version_minor": 0
      },
      "text/plain": [
       "HBox(children=(IntProgress(value=1, bar_style='info', max=1), HTML(value='')))"
      ]
     },
     "metadata": {},
     "output_type": "display_data"
    },
    {
     "name": "stdout",
     "output_type": "stream",
     "text": [
      "\n"
     ]
    },
    {
     "data": {
      "application/vnd.jupyter.widget-view+json": {
       "model_id": "d6466bf382804983a5b16bb863729637",
       "version_major": 2,
       "version_minor": 0
      },
      "text/plain": [
       "HBox(children=(IntProgress(value=0, max=1), HTML(value='')))"
      ]
     },
     "metadata": {},
     "output_type": "display_data"
    },
    {
     "name": "stdout",
     "output_type": "stream",
     "text": [
      "\n",
      "[INFO] In Splitting\n"
     ]
    },
    {
     "data": {
      "application/vnd.jupyter.widget-view+json": {
       "model_id": "cd247287d84846fb8d04cece4e57df07",
       "version_major": 2,
       "version_minor": 0
      },
      "text/plain": [
       "HBox(children=(IntProgress(value=0, max=216), HTML(value='')))"
      ]
     },
     "metadata": {},
     "output_type": "display_data"
    },
    {
     "name": "stdout",
     "output_type": "stream",
     "text": [
      "\n"
     ]
    },
    {
     "data": {
      "application/vnd.jupyter.widget-view+json": {
       "model_id": "62070da72206412daeb9b7f599dd208d",
       "version_major": 2,
       "version_minor": 0
      },
      "text/plain": [
       "HBox(children=(IntProgress(value=0, max=27), HTML(value='')))"
      ]
     },
     "metadata": {},
     "output_type": "display_data"
    },
    {
     "name": "stdout",
     "output_type": "stream",
     "text": [
      "\n"
     ]
    },
    {
     "data": {
      "application/vnd.jupyter.widget-view+json": {
       "model_id": "ef5b41ca996947b69e893341d3123214",
       "version_major": 2,
       "version_minor": 0
      },
      "text/plain": [
       "HBox(children=(IntProgress(value=0, max=27), HTML(value='')))"
      ]
     },
     "metadata": {},
     "output_type": "display_data"
    },
    {
     "name": "stdout",
     "output_type": "stream",
     "text": [
      "\n",
      "[INFO] In Splitting\n"
     ]
    },
    {
     "data": {
      "application/vnd.jupyter.widget-view+json": {
       "model_id": "54ed0c5561f849499cfec4e207d5347c",
       "version_major": 2,
       "version_minor": 0
      },
      "text/plain": [
       "HBox(children=(IntProgress(value=0, max=60), HTML(value='')))"
      ]
     },
     "metadata": {},
     "output_type": "display_data"
    },
    {
     "name": "stdout",
     "output_type": "stream",
     "text": [
      "\n"
     ]
    },
    {
     "data": {
      "application/vnd.jupyter.widget-view+json": {
       "model_id": "a42ecada51504213bf6f8e3ea4ec7ad7",
       "version_major": 2,
       "version_minor": 0
      },
      "text/plain": [
       "HBox(children=(IntProgress(value=0, max=7), HTML(value='')))"
      ]
     },
     "metadata": {},
     "output_type": "display_data"
    },
    {
     "name": "stdout",
     "output_type": "stream",
     "text": [
      "\n"
     ]
    },
    {
     "data": {
      "application/vnd.jupyter.widget-view+json": {
       "model_id": "85d9b5fafdbb433c95fde5ef6707b7dd",
       "version_major": 2,
       "version_minor": 0
      },
      "text/plain": [
       "HBox(children=(IntProgress(value=0, max=9), HTML(value='')))"
      ]
     },
     "metadata": {},
     "output_type": "display_data"
    },
    {
     "name": "stdout",
     "output_type": "stream",
     "text": [
      "\n",
      "[INFO] In Splitting\n"
     ]
    },
    {
     "data": {
      "application/vnd.jupyter.widget-view+json": {
       "model_id": "12c273c3546140b4a5f9c9fe54560d19",
       "version_major": 2,
       "version_minor": 0
      },
      "text/plain": [
       "HBox(children=(IntProgress(value=0, max=2327), HTML(value='')))"
      ]
     },
     "metadata": {},
     "output_type": "display_data"
    },
    {
     "name": "stdout",
     "output_type": "stream",
     "text": [
      "\n"
     ]
    },
    {
     "data": {
      "application/vnd.jupyter.widget-view+json": {
       "model_id": "7726f9a4b632479d86a150a3d79c68e3",
       "version_major": 2,
       "version_minor": 0
      },
      "text/plain": [
       "HBox(children=(IntProgress(value=0, max=290), HTML(value='')))"
      ]
     },
     "metadata": {},
     "output_type": "display_data"
    },
    {
     "name": "stdout",
     "output_type": "stream",
     "text": [
      "\n"
     ]
    },
    {
     "data": {
      "application/vnd.jupyter.widget-view+json": {
       "model_id": "565ee4ad106843e38940aaee2cbe1cf3",
       "version_major": 2,
       "version_minor": 0
      },
      "text/plain": [
       "HBox(children=(IntProgress(value=0, max=292), HTML(value='')))"
      ]
     },
     "metadata": {},
     "output_type": "display_data"
    },
    {
     "name": "stdout",
     "output_type": "stream",
     "text": [
      "\n",
      "[INFO] In Splitting\n"
     ]
    },
    {
     "data": {
      "application/vnd.jupyter.widget-view+json": {
       "model_id": "2a5d6e1e41cf491c8263903e3929eea5",
       "version_major": 2,
       "version_minor": 0
      },
      "text/plain": [
       "HBox(children=(IntProgress(value=0, max=1129), HTML(value='')))"
      ]
     },
     "metadata": {},
     "output_type": "display_data"
    },
    {
     "name": "stdout",
     "output_type": "stream",
     "text": [
      "\n"
     ]
    },
    {
     "data": {
      "application/vnd.jupyter.widget-view+json": {
       "model_id": "5e631d27f43f4dbdbd27fc3c92838f1c",
       "version_major": 2,
       "version_minor": 0
      },
      "text/plain": [
       "HBox(children=(IntProgress(value=0, max=141), HTML(value='')))"
      ]
     },
     "metadata": {},
     "output_type": "display_data"
    },
    {
     "name": "stdout",
     "output_type": "stream",
     "text": [
      "\n"
     ]
    },
    {
     "data": {
      "application/vnd.jupyter.widget-view+json": {
       "model_id": "8b4563a682cd4091b6edb974090d9431",
       "version_major": 2,
       "version_minor": 0
      },
      "text/plain": [
       "HBox(children=(IntProgress(value=0, max=142), HTML(value='')))"
      ]
     },
     "metadata": {},
     "output_type": "display_data"
    },
    {
     "name": "stdout",
     "output_type": "stream",
     "text": [
      "\n",
      "[INFO] In Splitting\n"
     ]
    },
    {
     "data": {
      "application/vnd.jupyter.widget-view+json": {
       "model_id": "c650fd17c2424dd2996e8bb93c098f14",
       "version_major": 2,
       "version_minor": 0
      },
      "text/plain": [
       "HBox(children=(IntProgress(value=0, max=1880), HTML(value='')))"
      ]
     },
     "metadata": {},
     "output_type": "display_data"
    },
    {
     "name": "stdout",
     "output_type": "stream",
     "text": [
      "\n"
     ]
    },
    {
     "data": {
      "application/vnd.jupyter.widget-view+json": {
       "model_id": "6a58d7e283874405b849007fbb670a2c",
       "version_major": 2,
       "version_minor": 0
      },
      "text/plain": [
       "HBox(children=(IntProgress(value=0, max=235), HTML(value='')))"
      ]
     },
     "metadata": {},
     "output_type": "display_data"
    },
    {
     "name": "stdout",
     "output_type": "stream",
     "text": [
      "\n"
     ]
    },
    {
     "data": {
      "application/vnd.jupyter.widget-view+json": {
       "model_id": "fb8e232ca22e4c7ab23674fd5419831c",
       "version_major": 2,
       "version_minor": 0
      },
      "text/plain": [
       "HBox(children=(IntProgress(value=0, max=236), HTML(value='')))"
      ]
     },
     "metadata": {},
     "output_type": "display_data"
    },
    {
     "name": "stdout",
     "output_type": "stream",
     "text": [
      "\n",
      "[INFO] Files in pain train dir: \t6688\n",
      "[INFO] Files in pain test dir: \t\t831\n",
      "[INFO] Files in pain val dir: \t\t850\n"
     ]
    }
   ],
   "source": [
    "# Create the new dirctories\n",
    "\n",
    "new_dirs = [\n",
    "    config['home_dir']\n",
    "    , config['train_dir'], config['test_dir'], config['val_dir']\n",
    "    , config['train_pain'], config['train_nopain']\n",
    "    , config['test_pain'], config['test_nopain']\n",
    "    , config['val_pain'], config['val_nopain']\n",
    "           ]\n",
    "\n",
    "if config['do_dataprep']: \n",
    "    if os.path.exists(config['home_dir']):\n",
    "        shutil.rmtree(config['home_dir'])\n",
    "        \n",
    "    for value in new_dirs: \n",
    "        if not os.path.exists(value):\n",
    "            os.mkdir(value)\n",
    "    \n",
    "    nopain_data_location = os.path.join(config['source'], '0.0')\n",
    "\n",
    "    print('[INFO] Files in nopain origin dir: \\t{}'.format(len(os.listdir(nopain_data_location))))\n",
    "    print('[INFO] Files in nopain train dir: \\t{}'.format(len(os.listdir(config['train_pain']))))\n",
    "    print('[INFO] Files in nopain test dir: \\t\\t{}'.format(len(os.listdir(config['test_pain']))))\n",
    "    print('[INFO] Files in nopain val dir: \\t\\t{}'.format(len(os.listdir(config['val_pain']))))\n",
    "    \n",
    "    split(\n",
    "        SOURCE = nopain_data_location\n",
    "        , TRAINING = config['train_nopain'] \n",
    "        , TESTING = config['test_nopain'] \n",
    "        , VALIDATION = config['val_nopain'] \n",
    "    )\n",
    "\n",
    "    print('[INFO] Files in nopain origin dir: \\t{}'.format(len(os.listdir(nopain_data_location))))\n",
    "    print('[INFO] Files in nopain train dir: \\t{}'.format(len(os.listdir(config['train_nopain']))))\n",
    "    print('[INFO] Files in nopain test dir: \\t\\t{}'.format(len(os.listdir(config['test_nopain']))))\n",
    "    print('[INFO] Files in nopain val dir: \\t\\t{}'.format(len(os.listdir(config['val_nopain']))))\n",
    "    \n",
    "    ###########################################################################################\n",
    "    \n",
    "    print('[INFO] Files in pain train dir: \\t{}'.format(len(os.listdir(config['train_pain']))))\n",
    "    print('[INFO] Files in pain test dir: \\t{}'.format(len(os.listdir(config['test_pain']))))\n",
    "    print('[INFO] Files in pain val dir: \\t{}'.format(len(os.listdir(config['val_pain']))))\n",
    "    \n",
    "    pain_folders = os.listdir(config['source'])\n",
    "    pain_folders.remove('0.0')\n",
    "    \n",
    "    for folder in pain_folders:\n",
    "        split(\n",
    "            SOURCE = os.path.join(config['source'], folder)\n",
    "            , TRAINING = config['train_pain'] \n",
    "            , TESTING = config['test_pain'] \n",
    "            , VALIDATION = config['val_pain'] \n",
    "        )\n",
    "\n",
    "    print('[INFO] Files in pain train dir: \\t{}'.format(len(os.listdir(config['train_pain']))))\n",
    "    print('[INFO] Files in pain test dir: \\t\\t{}'.format(len(os.listdir(config['test_pain']))))\n",
    "    print('[INFO] Files in pain val dir: \\t\\t{}'.format(len(os.listdir(config['val_pain']))))"
   ]
  },
  {
   "cell_type": "markdown",
   "metadata": {},
   "source": [
    "## Limiting data"
   ]
  },
  {
   "cell_type": "code",
   "execution_count": 9,
   "metadata": {
    "ExecuteTime": {
     "end_time": "2019-07-17T09:44:58.919798Z",
     "start_time": "2019-07-17T09:44:58.888339Z"
    }
   },
   "outputs": [
    {
     "name": "stdout",
     "output_type": "stream",
     "text": [
      "[INFO] Files in nopain train dir: \t32023\n",
      "[INFO] Files in nopain test dir: \t4002\n",
      "[INFO] Files in nopain val dir: \t4004\n",
      "[INFO] Files in pain train dir: \t6688\n",
      "[INFO] Files in pain test dir: \t\t831\n",
      "[INFO] Files in pain val dir: \t\t850\n"
     ]
    }
   ],
   "source": [
    "print('[INFO] Files in nopain train dir: \\t{}'.format(len(os.listdir(config['train_nopain']))))\n",
    "print('[INFO] Files in nopain test dir: \\t{}'.format(len(os.listdir(config['test_nopain']))))\n",
    "print('[INFO] Files in nopain val dir: \\t{}'.format(len(os.listdir(config['val_nopain']))))\n",
    "\n",
    "###########################################################################################\n",
    "\n",
    "print('[INFO] Files in pain train dir: \\t{}'.format(len(os.listdir(config['train_pain']))))\n",
    "print('[INFO] Files in pain test dir: \\t\\t{}'.format(len(os.listdir(config['test_pain']))))\n",
    "print('[INFO] Files in pain val dir: \\t\\t{}'.format(len(os.listdir(config['val_pain']))))"
   ]
  },
  {
   "cell_type": "code",
   "execution_count": 14,
   "metadata": {
    "ExecuteTime": {
     "end_time": "2019-07-17T09:45:07.456376Z",
     "start_time": "2019-07-17T09:45:07.449115Z"
    }
   },
   "outputs": [],
   "source": [
    "train_limiting_dirs = [\n",
    "        config['train_pain'], config['train_nopain']\n",
    "    ]\n",
    "\n",
    "test_val_limiting_dirs = [\n",
    "        config['test_pain'], config['test_nopain']\n",
    "        , config['val_pain'], config['val_nopain']\n",
    "    ]\n",
    "\n",
    "if config['set_limit']: \n",
    "    print('Before')\n",
    "    for d in train_limiting_dirs: \n",
    "        print('{}: {}'.format(d, len(os.listdir(d))))\n",
    "    for d in test_val_limiting_dirs: \n",
    "        print('{}: {}'.format(d, len(os.listdir(d))))\n",
    "        \n",
    "    for d in train_limiting_dirs: \n",
    "        counter = 1\n",
    "        for filename in os.listdir(d): \n",
    "            if counter > config['train_limit']:\n",
    "                os.remove(os.path.join(d, filename))\n",
    "            counter = counter +1\n",
    "    \n",
    "    for d in test_val_limiting_dirs: \n",
    "        counter = 1\n",
    "        for filename in os.listdir(d): \n",
    "            if counter > config['test_val_limit']:\n",
    "                os.remove(os.path.join(d, filename))\n",
    "            counter = counter +1\n",
    "\n",
    "    print('\\nAfter')\n",
    "    for d in train_limiting_dirs: \n",
    "        print('{}: {}'.format(d, len(os.listdir(d))))\n",
    "    for d in test_val_limiting_dirs: \n",
    "        print('{}: {}'.format(d, len(os.listdir(d))))"
   ]
  },
  {
   "cell_type": "markdown",
   "metadata": {},
   "source": [
    "#  Modelling"
   ]
  },
  {
   "cell_type": "markdown",
   "metadata": {},
   "source": [
    "## Image Generators"
   ]
  },
  {
   "cell_type": "code",
   "execution_count": 17,
   "metadata": {
    "ExecuteTime": {
     "end_time": "2019-07-17T09:45:12.078789Z",
     "start_time": "2019-07-17T09:45:11.191647Z"
    }
   },
   "outputs": [
    {
     "name": "stdout",
     "output_type": "stream",
     "text": [
      "Found 38711 images belonging to 2 classes.\n"
     ]
    }
   ],
   "source": [
    "config['train_count'] = sum([len(files) for r, d, files in os.walk(config['train_dir'])])\n",
    "config['train_steps'] = math.ceil(config['train_count']/config['train_batch'])\n",
    "\n",
    "train_datagen = ImageDataGenerator(rescale=1.0/255.0)\n",
    "\n",
    "train_generator = train_datagen.flow_from_directory(\n",
    "    config['train_dir']\n",
    "    , target_size = config['target_size'] \n",
    "    , batch_size = config['train_batch']\n",
    "    , class_mode = 'binary'\n",
    ")"
   ]
  },
  {
   "cell_type": "code",
   "execution_count": 18,
   "metadata": {
    "ExecuteTime": {
     "end_time": "2019-07-17T09:45:12.194500Z",
     "start_time": "2019-07-17T09:45:12.080473Z"
    }
   },
   "outputs": [
    {
     "name": "stdout",
     "output_type": "stream",
     "text": [
      "Found 4854 images belonging to 2 classes.\n"
     ]
    }
   ],
   "source": [
    "config['val_count'] = sum([len(files) for r, d, files in os.walk(config['val_dir'])])\n",
    "config['val_steps'] = math.ceil(config['val_count']/config['val_batch'])\n",
    "\n",
    "val_datagen = ImageDataGenerator(rescale=1.0/255.0)\n",
    "\n",
    "val_generator = val_datagen.flow_from_directory(\n",
    "    config['val_dir']  # This is the source directory for training images\n",
    "    , target_size = config['target_size']  # All images will be resized to 150x150 for compressing\n",
    "    , batch_size = config['val_batch']\n",
    "    , class_mode = 'binary' # Since we use binary_crossentropy loss, we need binary labels\n",
    ")"
   ]
  },
  {
   "cell_type": "code",
   "execution_count": 19,
   "metadata": {
    "ExecuteTime": {
     "end_time": "2019-07-17T09:45:13.532367Z",
     "start_time": "2019-07-17T09:45:13.419216Z"
    }
   },
   "outputs": [
    {
     "name": "stdout",
     "output_type": "stream",
     "text": [
      "Found 4833 images belonging to 2 classes.\n"
     ]
    }
   ],
   "source": [
    "config['test_count'] = sum([len(files) for r, d, files in os.walk(config['test_dir'])])\n",
    "config['test_steps'] = math.ceil(config['test_count']/config['test_batch'])\n",
    "\n",
    "test_datagen = ImageDataGenerator(rescale=1.0/255.0)\n",
    "\n",
    "test_generator = test_datagen.flow_from_directory(\n",
    "    config['test_dir']  # This is the source directory for training images\n",
    "    , target_size = config['target_size']  # All images will be resized to 150x150 for compressing\n",
    "    , batch_size = config['test_batch']\n",
    "    , class_mode = 'binary' # Since we use binary_crossentropy loss, we need binary labels\n",
    ")"
   ]
  },
  {
   "cell_type": "markdown",
   "metadata": {},
   "source": [
    "## Helper Functions"
   ]
  },
  {
   "cell_type": "code",
   "execution_count": 16,
   "metadata": {
    "ExecuteTime": {
     "end_time": "2019-07-17T09:45:09.802040Z",
     "start_time": "2019-07-17T09:45:09.798003Z"
    }
   },
   "outputs": [],
   "source": [
    "class myCallback(tf.keras.callbacks.Callback):\n",
    "    def on_epoch_end(self, epoch, logs={}):\n",
    "        if(logs.get('binary_accuracy')>0.99):\n",
    "            print('\\nReached 99% accuracy which is satisfactory so stopped training!')\n",
    "            self.model.stop_training = True\n",
    "        if(logs.get('binary_accuracy')<0.4):\n",
    "            print('\\nUnable to go over 40% accuracy, so cancelling run!')\n",
    "            self.model.stop_training = True\n",
    "\n",
    "markscallbacks = myCallback()"
   ]
  },
  {
   "cell_type": "code",
   "execution_count": 21,
   "metadata": {
    "ExecuteTime": {
     "end_time": "2019-07-17T09:49:32.955688Z",
     "start_time": "2019-07-17T09:49:32.948240Z"
    }
   },
   "outputs": [],
   "source": [
    "def create_and_compile_model(): \n",
    "    model = k.models.Sequential([\n",
    "        k.layers.Conv2D(16, (3,3), activation='relu', input_shape=(*config['target_size'], 3), padding = 'same', name='mh-conv-1')\n",
    "        , k.layers.MaxPooling2D(2, 2, name='mh-maxpool-1')\n",
    "        , k.layers.Conv2D(32, (3,3), activation='relu', name='mh-conv-2')\n",
    "        , k.layers.MaxPooling2D(2,2, name='mh-maxpool-2')\n",
    "        , k.layers.Conv2D(64, (3,3), activation='relu', name='mh-conv-3')\n",
    "        , k.layers.MaxPooling2D(2,2, name='mh-maxpool-3')\n",
    "        , k.layers.Conv2D(128, (3,3), activation='relu', name='mh-conv-4')\n",
    "        , k.layers.MaxPooling2D(2,2, name='mh-maxpool-4')\n",
    "        , k.layers.Conv2D(256, (3,3), activation='relu', name='mh-conv-5')\n",
    "        , k.layers.MaxPooling2D(2,2, name='mh-maxpool-5')\n",
    "        , k.layers.Flatten(name='mh-flatten-1')\n",
    "        , k.layers.Dense(1024, activation='relu', name='mh-dense-1')\n",
    "#         , k.layers.Dropout(0.2)\n",
    "        , k.layers.Dense(128, activation='relu', name='mh-dense-2')\n",
    "#         , k.layers.Dropout(0.2)\n",
    "        , k.layers.Dense(1, activation='sigmoid', name='mh-dense-output')\n",
    "    ])\n",
    "    \n",
    "    model.compile(\n",
    "        optimizer=Adam()\n",
    "        , loss='binary_crossentropy'\n",
    "        , metrics=['binary_accuracy']\n",
    "    )\n",
    "    \n",
    "    return model"
   ]
  },
  {
   "cell_type": "markdown",
   "metadata": {},
   "source": [
    "## Training"
   ]
  },
  {
   "cell_type": "code",
   "execution_count": 22,
   "metadata": {
    "ExecuteTime": {
     "end_time": "2019-07-17T09:49:34.314425Z",
     "start_time": "2019-07-17T09:49:34.057274Z"
    }
   },
   "outputs": [
    {
     "name": "stdout",
     "output_type": "stream",
     "text": [
      "_________________________________________________________________\n",
      "Layer (type)                 Output Shape              Param #   \n",
      "=================================================================\n",
      "mh-conv-1 (Conv2D)           (None, 320, 240, 16)      448       \n",
      "_________________________________________________________________\n",
      "mh-maxpool-1 (MaxPooling2D)  (None, 160, 120, 16)      0         \n",
      "_________________________________________________________________\n",
      "mh-conv-2 (Conv2D)           (None, 158, 118, 32)      4640      \n",
      "_________________________________________________________________\n",
      "mh-maxpool-2 (MaxPooling2D)  (None, 79, 59, 32)        0         \n",
      "_________________________________________________________________\n",
      "mh-conv-3 (Conv2D)           (None, 77, 57, 64)        18496     \n",
      "_________________________________________________________________\n",
      "mh-maxpool-3 (MaxPooling2D)  (None, 38, 28, 64)        0         \n",
      "_________________________________________________________________\n",
      "mh-conv-4 (Conv2D)           (None, 36, 26, 128)       73856     \n",
      "_________________________________________________________________\n",
      "mh-maxpool-4 (MaxPooling2D)  (None, 18, 13, 128)       0         \n",
      "_________________________________________________________________\n",
      "mh-conv-5 (Conv2D)           (None, 16, 11, 256)       295168    \n",
      "_________________________________________________________________\n",
      "mh-maxpool-5 (MaxPooling2D)  (None, 8, 5, 256)         0         \n",
      "_________________________________________________________________\n",
      "mh-flatten-1 (Flatten)       (None, 10240)             0         \n",
      "_________________________________________________________________\n",
      "mh-dense-1 (Dense)           (None, 1024)              10486784  \n",
      "_________________________________________________________________\n",
      "mh-dense-2 (Dense)           (None, 128)               131200    \n",
      "_________________________________________________________________\n",
      "mh-dense-output (Dense)      (None, 1)                 129       \n",
      "=================================================================\n",
      "Total params: 11,010,721\n",
      "Trainable params: 11,010,721\n",
      "Non-trainable params: 0\n",
      "_________________________________________________________________\n"
     ]
    }
   ],
   "source": [
    "model = create_and_compile_model()\n",
    "\n",
    "model.summary()"
   ]
  },
  {
   "cell_type": "code",
   "execution_count": null,
   "metadata": {
    "ExecuteTime": {
     "end_time": "2019-07-17T09:35:13.989121Z",
     "start_time": "2019-07-17T09:35:11.996Z"
    }
   },
   "outputs": [],
   "source": [
    "history = model.fit_generator(\n",
    "    train_generator\n",
    "    , steps_per_epoch = config['train_steps']\n",
    "    , epochs = config['epochs']\n",
    "    , validation_data = val_generator\n",
    "    , validation_steps = config['val_steps']\n",
    "    , callbacks=[\n",
    "        markscallbacks\n",
    "        , EarlyStopping(monitor='val_binary_accuracy', patience=10)\n",
    "        , ModelCheckpoint(filepath=os.path.join(config['new_directory'], 'model.h5'), monitor='val_binary_accuracy', save_best_only=True)\n",
    "        , ReduceLROnPlateau(monitor='val_loss', factor=0.1, patience=5, mode='auto', min_delta=0.0001, cooldown=0, min_lr=0)\n",
    "    ]\n",
    ")\n",
    "\n",
    "print('\\n[INFO] Training Complete')"
   ]
  },
  {
   "cell_type": "code",
   "execution_count": null,
   "metadata": {
    "ExecuteTime": {
     "end_time": "2019-07-17T09:35:13.990074Z",
     "start_time": "2019-07-17T09:35:11.997Z"
    }
   },
   "outputs": [],
   "source": [
    "predicted = model.predict_generator(test_generator, steps=config['test_steps'])\n",
    "labels = test_generator.classes"
   ]
  },
  {
   "cell_type": "code",
   "execution_count": null,
   "metadata": {
    "ExecuteTime": {
     "end_time": "2019-07-17T09:35:13.991027Z",
     "start_time": "2019-07-17T09:35:11.999Z"
    }
   },
   "outputs": [],
   "source": [
    "fpr_keras, tpr_keras, thresholds_keras = roc_curve(labels, predicted)\n",
    "\n",
    "auc_keras = auc(fpr_keras, tpr_keras)\n",
    "\n",
    "plt.figure(figsize=(18,6))\n",
    "\n",
    "plt.subplot(1, 2 ,1)\n",
    "plt.xticks([])\n",
    "plt.yticks([])\n",
    "plt.grid(False)\n",
    "plt.plot([0, 1], [0, 1], 'k--')\n",
    "plt.plot(fpr_keras, tpr_keras, label='Keras (area = {:.3f})'.format(auc_keras))\n",
    "plt.xlabel('False positive rate')\n",
    "plt.ylabel('True positive rate')\n",
    "plt.title('ROC curve')\n",
    "plt.legend(loc='best')\n",
    "# plt.show()\n",
    "\n",
    "hist = pd.DataFrame(history.history)\n",
    "hist['epoch'] = history.epoch\n",
    "plt.subplot(1, 2, 2)\n",
    "plt.xlabel('Epoch')\n",
    "plt.ylabel('Accuracy')\n",
    "plt.plot(hist['epoch'], hist['binary_accuracy'], label='Train Binary Accuracy')\n",
    "plt.plot(hist['epoch'], hist['val_binary_accuracy'], label = 'Val Binary Accuracy')\n",
    "plt.title('Accuracy vs Training')\n",
    "plt.legend(loc='best')\n",
    "\n",
    "# plt.show()\n",
    "\n",
    "plt.savefig(os.path.join(config['new_directory'], 'result plots.png'))\n",
    "\n",
    "hist.to_csv(os.path.join(config['new_directory'], 'run_results.csv'))"
   ]
  },
  {
   "cell_type": "code",
   "execution_count": null,
   "metadata": {
    "ExecuteTime": {
     "end_time": "2019-07-17T09:35:13.992005Z",
     "start_time": "2019-07-17T09:35:12.000Z"
    }
   },
   "outputs": [],
   "source": [
    "print('Completed running Notebook')"
   ]
  },
  {
   "cell_type": "code",
   "execution_count": null,
   "metadata": {
    "ExecuteTime": {
     "end_time": "2019-07-17T09:35:13.992922Z",
     "start_time": "2019-07-17T09:35:12.002Z"
    }
   },
   "outputs": [],
   "source": [
    "os.kill(os.getpid(), signal.SIGKILL)"
   ]
  },
  {
   "cell_type": "code",
   "execution_count": null,
   "metadata": {},
   "outputs": [],
   "source": []
  }
 ],
 "metadata": {
  "kernelspec": {
   "display_name": "Python 3.6 - AzureML",
   "language": "python",
   "name": "python3-azureml"
  },
  "language_info": {
   "codemirror_mode": {
    "name": "ipython",
    "version": 3
   },
   "file_extension": ".py",
   "mimetype": "text/x-python",
   "name": "python",
   "nbconvert_exporter": "python",
   "pygments_lexer": "ipython3",
   "version": "3.6.8"
  },
  "toc": {
   "base_numbering": 1,
   "nav_menu": {},
   "number_sections": true,
   "sideBar": true,
   "skip_h1_title": false,
   "title_cell": "Table of Contents",
   "title_sidebar": "Contents",
   "toc_cell": false,
   "toc_position": {},
   "toc_section_display": true,
   "toc_window_display": false
  }
 },
 "nbformat": 4,
 "nbformat_minor": 2
}
