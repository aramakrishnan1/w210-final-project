{
 "cells": [
  {
   "cell_type": "code",
   "execution_count": 31,
   "metadata": {
    "hide_input": true
   },
   "outputs": [],
   "source": [
    "# Imports\n",
    "import gc\n",
    "import menpo.io as mio\n",
    "import matplotlib.pyplot as plt\n",
    "import numpy as np\n",
    "import os\n",
    "import random\n",
    "import seaborn as sns\n",
    "import shutil\n",
    "\n",
    "from menpo.visualize import print_progress\n",
    "from menpo.landmark import labeller, face_ibug_68_to_face_ibug_68_trimesh, face_ibug_68_to_face_ibug_66_trimesh\n",
    "from menpofit.aam import PatchAAM\n",
    "from menpo.feature import fast_dsift\n",
    "from menpofit.aam import LucasKanadeAAMFitter, WibergInverseCompositional\n",
    "from menpodetect import load_dlib_frontal_face_detector\n",
    "from menpofit.builder import warp_images\n",
    "from menpofit.builder import build_reference_frame\n",
    "from menpo.transform import PiecewiseAffine\n",
    "from menpo.model import PCAModel\n",
    "from sklearn.cluster import KMeans\n",
    "from sklearn import svm\n",
    "from sklearn.metrics import confusion_matrix, roc_curve, auc, precision_recall_fscore_support\n",
    "\n",
    "from os.path import join, dirname, realpath\n",
    "\n",
    "%matplotlib inline"
   ]
  },
  {
   "cell_type": "markdown",
   "metadata": {},
   "source": [
    "# Table of contents\n",
    "1. [Introduction](#introduction)\n",
    "2. [Data Pre-Processing](#preprocessing)\n",
    "3. [Train AAM](#aam)\n",
    "4. [Feature Extraction](#feature)\n",
    "5. [Model Training](#training)\n",
    "6. [Model Evaluation](#evaluation)"
   ]
  },
  {
   "cell_type": "markdown",
   "metadata": {},
   "source": [
    "### Introduction <a name=\"introduction\"></a>"
   ]
  },
  {
   "cell_type": "markdown",
   "metadata": {},
   "source": [
    "At this point, we have done an EDA (exploratory data analysis) of our dataset, and are now conducting a literature review to see what techniques are being applied in the pain detection domain. To recap, our dataset consists of around 48,000 color images of facial expressions along with associated pain labels - which tell us how much pain the subject is in (based on varying scales). We decide to use the PSPI score as our label because the other labels consist of self-reported scores given by the subjects themselves, and a score given by an independent observer. We felt that the PSPI score was the most objective rating out of all the scores provided (it is based on the intensity of certain facial expressions) and is widely used for pain detection tasks. Now that we have finalized our samples and labels, we can formalize our problem statement as the following: Given a color image of a person's face, our goal is to build a model that predicts whether the person is in pain or no pain.\n",
    "\n",
    "After reading several papers, we came to the conclusion that the majority of research in the pain detection domain involves the use of SVM (Support Vector Machine) models. Therefore, we decided to use SVM as our baseline model to measure performance against. We base our approach below on the steps taken in the following [research paper](https://www.ncbi.nlm.nih.gov/pmc/articles/PMC3402903/pdf/nihms119293.pdf)."
   ]
  },
  {
   "cell_type": "markdown",
   "metadata": {},
   "source": [
    "### Data Pre-Processing <a name=\"preprocessing\"></a>"
   ]
  },
  {
   "cell_type": "markdown",
   "metadata": {},
   "source": [
    "First, we need to pre-process the data so that it can be used to train our main SVM model. We read the labels and image paths from .npy files to ensure that the same input data is used for all of our models. Our pre-processing involves the following steps:\n",
    "\n",
    "1. Converting the images to greyscale and resizing\n",
    "2. Reformatting the AAM (Active Appearance model) landmark annotations to conform to Menpo's (a third-party statistical framework that we will discuss in more detail in the next section) expectations"
   ]
  },
  {
   "cell_type": "code",
   "execution_count": 2,
   "metadata": {},
   "outputs": [],
   "source": [
    "root_path = os.getcwd()\n",
    "\n",
    "images_path = join(root_path, 'SVM_Images')\n",
    "\n",
    "images = []\n",
    "\n",
    "labels = np.load('Images_Labels.npy')\n",
    "print 'Sample raw label: {}'.format(label[0])\n",
    "\n",
    "image_names = np.load(join(root_path, 'Image_Path.npy'))\n",
    "print 'Sample image name: {}'.format(image_names[0])"
   ]
  },
  {
   "cell_type": "code",
   "execution_count": 25,
   "metadata": {},
   "outputs": [],
   "source": [
    "# NOTE: this cell takes around 45 mins to run\n",
    "import subprocess\n",
    "\n",
    "reformat_pts_files_sh = '''\n",
    "shopt -s nullglob\n",
    "\n",
    "ex -sc '1i|{{' -cx \"{pts_file}\"\n",
    "ex -sc '1i|n_points:  66' -cx \"{pts_file}\"\n",
    "ex -sc '1i|version: 1' -cx \"{pts_file}\"\n",
    "echo \"}}\" >> {pts_file}\n",
    "'''\n",
    "\n",
    "# reformat AAM annotations and move them to image locations\n",
    "for subject in os.listdir(aam_path):\n",
    "    if subject != '.DS_Store':\n",
    "        for sequence in os.listdir(join(aam_path, subject)):\n",
    "            if sequence != '.DS_Store':\n",
    "                for aam_file_src in os.listdir(join(aam_path, subject, sequence)):\n",
    "                    if aam_file_src != '.DS_Store':\n",
    "                        aam_file_dst = '{}.pts'.format(aam_file_src.split('_')[0])\n",
    "                        aam_file_src_path = join(aam_path, subject, sequence, aam_file_src)\n",
    "                        aam_file_dst_path = join(images_path, subject, sequence, aam_file_dst)\n",
    "                        \n",
    "                        shutil.copyfile(aam_file_src_path, aam_file_dst_path)\n",
    "                        subprocess.check_call(reformat_pts_files_sh.format(pts_file=aam_file_dst_path), shell=True)"
   ]
  },
  {
   "cell_type": "code",
   "execution_count": 4,
   "metadata": {},
   "outputs": [],
   "source": [
    "for image_name in image_names:\n",
    "    image_path = join(images_path, '/'.join(image_name.split('/')[-3:]))\n",
    "\n",
    "    img = mio.import_image(image_path)\n",
    "    # convert to greyscale\n",
    "    if img.n_channels == 3:\n",
    "        img = img.as_greyscale()\n",
    "    # crop to landmarks bounding box with an extra 20% padding\n",
    "    img = img.crop_to_landmarks_proportion(0.2)\n",
    "    # rescale image if its diagonal is bigger than 400 pixels\n",
    "    d = img.diagonal()\n",
    "    if d > 400:\n",
    "        img = img.rescale(400.0 / d)\n",
    "    # append to list\n",
    "    images.append(img)"
   ]
  },
  {
   "cell_type": "code",
   "execution_count": 5,
   "metadata": {},
   "outputs": [
    {
     "name": "stdout",
     "output_type": "stream",
     "text": [
      "Number of images loaded: 16739\n",
      "Number of 0 (no pain) labels loaded: 8370\n",
      "Number of 1 (pain) labels loaded: 8369\n"
     ]
    }
   ],
   "source": [
    "print 'Number of images loaded: {}'.format(len(images))\n",
    "print 'Number of 0 (no pain) labels loaded: {}'.format(len(filter(lambda x: x == 0.0, labels)))\n",
    "print 'Number of 1 (pain) labels loaded: {}'.format(len(filter(lambda x: x != 0.0, labels)))"
   ]
  },
  {
   "cell_type": "code",
   "execution_count": 6,
   "metadata": {},
   "outputs": [
    {
     "data": {
      "text/plain": [
       "84"
      ]
     },
     "execution_count": 6,
     "metadata": {},
     "output_type": "execute_result"
    }
   ],
   "source": [
    "# force garbage collection to free up some memory\n",
    "del image_names\n",
    "\n",
    "gc.collect()"
   ]
  },
  {
   "cell_type": "markdown",
   "metadata": {},
   "source": [
    "### Train AAM <a name=\"aam\"></a>"
   ]
  },
  {
   "cell_type": "markdown",
   "metadata": {},
   "source": [
    "Our next step is to train an AAM (Active Appearance Model). An Active Appearance model provides a statistical representation of the shape and appearance of 2D facial images. To train the AAM, we use a third-party statistical framework called Menpo because it abstracts the math away and makes the model training process relatively easy. It measures the AAM model accuracy by fitting the model against an image in the dataset and looking at how well the model is able to annotate the facial features in the image."
   ]
  },
  {
   "cell_type": "code",
   "execution_count": 7,
   "metadata": {},
   "outputs": [
    {
     "name": "stdout",
     "output_type": "stream",
     "text": [
      "- Computing reference shape                                                     Computing batch 0\n",
      "- Building modelsges size: [==========] 100% (2000/2000) - done.                \n",
      "  - Scale 0: Doneding appearance model                                          ngining\n",
      "  - Scale 1: Doneding appearance model                                          ing\n",
      "                                                              "
     ]
    }
   ],
   "source": [
    "patch_aam = PatchAAM(images[:2000], group='PTS', patch_shape=[(15, 15), (23, 23)],\n",
    "                     diagonal=150, scales=(0.5, 1.0), holistic_features=fast_dsift,\n",
    "                     max_shape_components=20, max_appearance_components=150,\n",
    "                     verbose=True)"
   ]
  },
  {
   "cell_type": "code",
   "execution_count": 8,
   "metadata": {},
   "outputs": [],
   "source": [
    "fitter = LucasKanadeAAMFitter(patch_aam, lk_algorithm_cls=WibergInverseCompositional,\n",
    "                              n_shape=[5, 20], n_appearance=[30, 150])"
   ]
  },
  {
   "cell_type": "code",
   "execution_count": 9,
   "metadata": {},
   "outputs": [
    {
     "name": "stderr",
     "output_type": "stream",
     "text": [
      "/opt/conda/envs/menpo/lib/python2.7/site-packages/menpo/shape/pointcloud.py:261: MenpoDeprecationWarning: The .lms property is deprecated. LandmarkGroups are now shapes themselves - so you can use them directly anywhere you previously used .lms.Simply remove \".lms\" from your code and things will work as expected (and this warning will go away)\n",
      "  MenpoDeprecationWarning)\n"
     ]
    },
    {
     "name": "stdout",
     "output_type": "stream",
     "text": [
      "Fitting result of 66 landmark points.\n",
      "Initial error: 0.2304\n",
      "Reconstructed initial error: 0.2304\n",
      "Final error: 0.2732\n"
     ]
    },
    {
     "data": {
      "image/png": "[encoded data removed]",
      "text/plain": [
       "<Figure size 1080x936 with 3 Axes>"
      ]
     },
     "metadata": {},
     "output_type": "display_data"
    }
   ],
   "source": [
    "# Load detector\n",
    "detect = load_dlib_frontal_face_detector()\n",
    "\n",
    "# Load and convert to grayscale\n",
    "image = mio.import_image(join(images_path, '042-ll042', 'll042t1aaaff', 'll042t1aaaff242.png'))\n",
    "image = image.as_greyscale()\n",
    "\n",
    "# Detect face\n",
    "bboxes = detect(image)\n",
    "\n",
    "# Crop the image for better visualization of the result\n",
    "image = image.crop_to_landmarks_proportion(0.3, group='dlib_0')\n",
    "bboxes[0] = image.landmarks['dlib_0'].lms\n",
    "\n",
    "if len(bboxes) > 0:\n",
    "    # Fit AAM\n",
    "    result = fitter.fit_from_bb(image, bboxes[0], max_iters=[15, 5],\n",
    "                                gt_shape=image.landmarks['PTS'].lms)\n",
    "    print(result)\n",
    "\n",
    "    # Visualize\n",
    "    plt.subplot(131)\n",
    "    image.view()\n",
    "    bboxes[0].view(line_width=3, render_markers=False)\n",
    "    plt.gca().set_title('Bounding box')\n",
    "\n",
    "    plt.subplot(132)\n",
    "    image.view()\n",
    "    result.initial_shape.view(marker_size=4)\n",
    "    plt.gca().set_title('Initial shape')\n",
    "\n",
    "    plt.subplot(133)\n",
    "    image.view()\n",
    "    result.final_shape.view(marker_size=4, figure_size=(15, 13))\n",
    "    plt.gca().set_title('Final shape')"
   ]
  },
  {
   "cell_type": "code",
   "execution_count": 10,
   "metadata": {},
   "outputs": [
    {
     "data": {
      "text/plain": [
       "11965"
      ]
     },
     "execution_count": 10,
     "metadata": {},
     "output_type": "execute_result"
    }
   ],
   "source": [
    "# force garbage collection to free up some memory\n",
    "del patch_aam\n",
    "del fitter\n",
    "\n",
    "gc.collect()"
   ]
  },
  {
   "cell_type": "markdown",
   "metadata": {},
   "source": [
    "### Feature Extraction <a name=\"feature\"></a>"
   ]
  },
  {
   "cell_type": "markdown",
   "metadata": {},
   "source": [
    "After we have trained the AAM, we will transform the raw images by applying a mask; which will remove rigid geometric variation by warping the pixels in the source image with respect to translation, rotation, and scale. After this warping operation has been applied, we will use the resulting image pixels as the features for our SVM model. We then transform the labels (PSPI scores) from their original ordinal values to 0/1 (to represent pain and no pain binary classification output).\n",
    "\n",
    "Finally, we split our samples into training/test sets to prepare for model training and evaluation.\n",
    "\n",
    "NOTE: in the paper we are referencing, they apply other transformations to the source images to generate other features. They then try these various feature sets out to see which one results in the best model performance. However, we opt to just use this single feature set in the interest of time."
   ]
  },
  {
   "cell_type": "code",
   "execution_count": 8,
   "metadata": {},
   "outputs": [
    {
     "data": {
      "text/plain": [
       "PointCloud: n_points: 66, n_dims: 2"
      ]
     },
     "execution_count": 8,
     "metadata": {},
     "output_type": "execute_result"
    }
   ],
   "source": [
    "result.final_shape"
   ]
  },
  {
   "cell_type": "code",
   "execution_count": 9,
   "metadata": {},
   "outputs": [
    {
     "name": "stdout",
     "output_type": "stream",
     "text": [
      "PointCloud: n_points: 66, n_dims: 2\n"
     ]
    }
   ],
   "source": [
    "print images[0].landmarks.get('PTS')"
   ]
  },
  {
   "cell_type": "code",
   "execution_count": 11,
   "metadata": {},
   "outputs": [
    {
     "name": "stderr",
     "output_type": "stream",
     "text": [
      "/opt/conda/envs/menpo/lib/python2.7/site-packages/menpofit/builder.py:338: MenpoFitModelBuilderWarning: The reference shape passed is not a TriMesh or subclass and therefore the reference frame (mask) will be calculated via a Delaunay triangulation. This may cause small triangles and thus suboptimal warps.\n",
      "  MenpoFitModelBuilderWarning)\n",
      "/opt/conda/envs/menpo/lib/python2.7/site-packages/menpo/image/boolean.py:711: FutureWarning: Using a non-tuple sequence for multidimensional indexing is deprecated; use `arr[tuple(seq)]` instead of `arr[seq]`. In the future this will be interpreted as an array index, `arr[np.array(seq)]`, which will result either in an error or a different result.\n",
      "  copy.pixels[slices].flat = point_in_pointcloud(pointcloud, indices)\n"
     ]
    }
   ],
   "source": [
    "# extract shapes from images\n",
    "shapes_an = [i.landmarks.get('PTS') for i in images]\n",
    "\n",
    "# build reference frame\n",
    "reference_frame_an = build_reference_frame(result.final_shape)\n",
    "\n",
    "# Apply piece-wise affine warp on source images\n",
    "warped_images_an = warp_images(images, shapes_an, reference_frame_an, PiecewiseAffine)"
   ]
  },
  {
   "cell_type": "code",
   "execution_count": 12,
   "metadata": {},
   "outputs": [
    {
     "data": {
      "text/plain": [
       "146W x 141H 2D MaskedImage with 1 channels. Attached mask 68.9% true"
      ]
     },
     "execution_count": 12,
     "metadata": {},
     "output_type": "execute_result"
    }
   ],
   "source": [
    "warped_images_an[0]"
   ]
  },
  {
   "cell_type": "code",
   "execution_count": 13,
   "metadata": {},
   "outputs": [],
   "source": [
    "s_app = warped_images_an"
   ]
  },
  {
   "cell_type": "code",
   "execution_count": 14,
   "metadata": {},
   "outputs": [],
   "source": [
    "final_training_images = s_app\n",
    "# transform PSPI labels into 0/1 (pain vs no pain)\n",
    "final_training_labels = [int(label > 0.0) for label in labels]"
   ]
  },
  {
   "cell_type": "code",
   "execution_count": 15,
   "metadata": {},
   "outputs": [
    {
     "name": "stdout",
     "output_type": "stream",
     "text": [
      "[0, 0, 1, 0, 0, 0, 0, 0, 1, 0]\n",
      "Number of labels showing pain: 8369\n",
      "Number of labels showing no pain: 8370\n",
      "\n"
     ]
    }
   ],
   "source": [
    "print final_training_labels[:10]\n",
    "print 'Number of labels showing pain: {}'.format(sum(final_training_labels))\n",
    "print 'Number of labels showing no pain: {}\\n'.format(len(final_training_labels) - sum(final_training_labels))"
   ]
  },
  {
   "cell_type": "code",
   "execution_count": 16,
   "metadata": {},
   "outputs": [
    {
     "data": {
      "text/plain": [
       "array([14193])"
      ]
     },
     "execution_count": 16,
     "metadata": {},
     "output_type": "execute_result"
    }
   ],
   "source": [
    "# transform images into list of pixel values\n",
    "vectorized_training_images = [sample.as_vector().tolist() for sample in final_training_images]\n",
    "np.unique(list(map(len, vectorized_training_images)))"
   ]
  },
  {
   "cell_type": "code",
   "execution_count": 17,
   "metadata": {},
   "outputs": [
    {
     "data": {
      "text/plain": [
       "66950"
      ]
     },
     "execution_count": 17,
     "metadata": {},
     "output_type": "execute_result"
    }
   ],
   "source": [
    "# force garbage collection to free up some memory\n",
    "del images\n",
    "del final_training_images\n",
    "del warped_images_an\n",
    "del s_app\n",
    "del result\n",
    "\n",
    "gc.collect()"
   ]
  },
  {
   "cell_type": "code",
   "execution_count": 18,
   "metadata": {},
   "outputs": [],
   "source": [
    "# Add labels to samples for k-means clustering\n",
    "samples = []\n",
    "for image_idx, training_image in enumerate(vectorized_training_images):\n",
    "    sample = training_image + [final_training_labels[image_idx]]\n",
    "    samples.append(sample)"
   ]
  },
  {
   "cell_type": "code",
   "execution_count": 19,
   "metadata": {},
   "outputs": [
    {
     "data": {
      "text/plain": [
       "2"
      ]
     },
     "execution_count": 19,
     "metadata": {},
     "output_type": "execute_result"
    }
   ],
   "source": [
    "# force garbage collection to free up some memory\n",
    "del vectorized_training_images\n",
    "\n",
    "gc.collect()"
   ]
  },
  {
   "cell_type": "code",
   "execution_count": 20,
   "metadata": {},
   "outputs": [],
   "source": [
    "# Split data into train/test sets\n",
    "# Possible Future enhancement: use k-fold cross-validation instead of one static split\n",
    "training_percentage = 0.8\n",
    "k = int(len(samples) * training_percentage)\n",
    "\n",
    "training_indices = random.sample(xrange(len(samples)), k)\n",
    "test_indices = list(set(range(len(samples))) - set(training_indices))\n",
    "\n",
    "training_samples = [samples[index] for index in training_indices]\n",
    "test_samples = [samples[index] for index in test_indices]"
   ]
  },
  {
   "cell_type": "code",
   "execution_count": 21,
   "metadata": {},
   "outputs": [
    {
     "name": "stdout",
     "output_type": "stream",
     "text": [
      "13391\n",
      "3348\n"
     ]
    }
   ],
   "source": [
    "print(len(training_samples))\n",
    "print(len(test_samples))"
   ]
  },
  {
   "cell_type": "markdown",
   "metadata": {},
   "source": [
    "#### K-Means Clustering"
   ]
  },
  {
   "cell_type": "markdown",
   "metadata": {},
   "source": [
    "In our initial approach, we wanted to apply k-means clustering to reduce the size of the training set being fed into the SVM to reduce training time and memory usage (this was also done in the paper we referenced). However, we later realized that since our dataset is so small, this clustering step is unnecessary and SVM does not take too long to train. We were also able to free up memory by periodically forcing garbage collection - and found this to be enough to manage memory usage.\n",
    "\n",
    "We have included this section for completeness, but it was not used in our final run."
   ]
  },
  {
   "cell_type": "code",
   "execution_count": null,
   "metadata": {},
   "outputs": [],
   "source": [
    "num_kmeans_clusters = 1000"
   ]
  },
  {
   "cell_type": "code",
   "execution_count": null,
   "metadata": {},
   "outputs": [],
   "source": [
    "kmeans = KMeans(n_clusters=num_kmeans_clusters, random_state=0).fit(training_samples)"
   ]
  },
  {
   "cell_type": "code",
   "execution_count": null,
   "metadata": {},
   "outputs": [],
   "source": [
    "# Pull training samples from clusters\n",
    "cluster_ids = set(range(num_kmeans_clusters))\n",
    "final_training_samples = []\n",
    "\n",
    "for training_sample_idx, cluster_id in enumerate(kmeans.labels_.tolist()):\n",
    "    if cluster_id in cluster_ids:\n",
    "        final_training_samples.append(training_samples[training_sample_idx])\n",
    "        cluster_ids.remove(cluster_id)"
   ]
  },
  {
   "cell_type": "markdown",
   "metadata": {},
   "source": [
    "### Model Training <a name=\"training\"></a>"
   ]
  },
  {
   "cell_type": "markdown",
   "metadata": {},
   "source": [
    "We now train an SVM model using our features and labels generated from the sections above."
   ]
  },
  {
   "cell_type": "code",
   "execution_count": 22,
   "metadata": {},
   "outputs": [],
   "source": [
    "# Separate samples from labels\n",
    "svm_training_labels = [sample[-1] for sample in training_samples]\n",
    "svm_training_samples = [sample[:-1] for sample in training_samples]\n",
    "\n",
    "svm_test_labels = [sample[-1] for sample in test_samples]\n",
    "svm_test_samples = [sample[:-1] for sample in test_samples]"
   ]
  },
  {
   "cell_type": "code",
   "execution_count": 23,
   "metadata": {},
   "outputs": [
    {
     "data": {
      "text/plain": [
       "SVC(C=1.0, cache_size=200, class_weight=None, coef0=0.0,\n",
       "  decision_function_shape='ovr', degree=3, gamma='scale', kernel='rbf',\n",
       "  max_iter=-1, probability=False, random_state=None, shrinking=True,\n",
       "  tol=0.001, verbose=False)"
      ]
     },
     "execution_count": 23,
     "metadata": {},
     "output_type": "execute_result"
    }
   ],
   "source": [
    "# SVM Training\n",
    "clf = svm.SVC(gamma='scale')\n",
    "clf.fit(svm_training_samples, svm_training_labels)"
   ]
  },
  {
   "cell_type": "markdown",
   "metadata": {},
   "source": [
    "### Model Evaluation <a name=\"evaluation\"></a>"
   ]
  },
  {
   "cell_type": "markdown",
   "metadata": {},
   "source": [
    "After training our SVM model, we evaluate it by using our test set. We collect the model's predictions of pain/no pain on the test set, and compare them against the true values to gauge model performance."
   ]
  },
  {
   "cell_type": "code",
   "execution_count": 24,
   "metadata": {},
   "outputs": [],
   "source": [
    "predictions = clf.predict(svm_test_samples).tolist()"
   ]
  },
  {
   "cell_type": "code",
   "execution_count": 25,
   "metadata": {},
   "outputs": [
    {
     "data": {
      "text/plain": [
       "0"
      ]
     },
     "execution_count": 25,
     "metadata": {},
     "output_type": "execute_result"
    }
   ],
   "source": [
    "predictions[10]"
   ]
  },
  {
   "cell_type": "code",
   "execution_count": 26,
   "metadata": {},
   "outputs": [
    {
     "data": {
      "text/plain": [
       "1562"
      ]
     },
     "execution_count": 26,
     "metadata": {},
     "output_type": "execute_result"
    }
   ],
   "source": [
    "sum(predictions)"
   ]
  },
  {
   "cell_type": "code",
   "execution_count": 27,
   "metadata": {},
   "outputs": [
    {
     "data": {
      "text/plain": [
       "1669"
      ]
     },
     "execution_count": 27,
     "metadata": {},
     "output_type": "execute_result"
    }
   ],
   "source": [
    "sum(svm_test_labels)"
   ]
  },
  {
   "cell_type": "code",
   "execution_count": 28,
   "metadata": {},
   "outputs": [
    {
     "data": {
      "text/plain": [
       "[Text(0,0.5,'no pain'), Text(0,1.5,'pain')]"
      ]
     },
     "execution_count": 28,
     "metadata": {},
     "output_type": "execute_result"
    },
    {
     "data": {
      "image/png": "[encoded data removed]",
      "text/plain": [
       "<Figure size 432x288 with 2 Axes>"
      ]
     },
     "metadata": {
      "needs_background": "light"
     },
     "output_type": "display_data"
    }
   ],
   "source": [
    "cm = confusion_matrix(svm_test_labels, predictions)\n",
    "\n",
    "# plot heatmap of confusion matrix\n",
    "ax= plt.subplot()\n",
    "sns.heatmap(cm, annot=True, fmt='g', ax = ax)\n",
    "\n",
    "# labels, title and ticks\n",
    "plt.title('Confusion matrix', y=1.08)\n",
    "ax.set_xlabel('Predicted labels')\n",
    "ax.set_ylabel('True labels')\n",
    "ax.xaxis.tick_top()\n",
    "ax.xaxis.set_ticklabels(['no pain', 'pain'])\n",
    "ax.yaxis.set_ticklabels(['no pain', 'pain'])"
   ]
  },
  {
   "cell_type": "markdown",
   "metadata": {},
   "source": [
    "From the confusion matrix above, we can see that the model performed relatively well on classifying both pain and no pain samples. The model was able to correctly classify 1385/1679 no pain samples (82.5% accuracy), and was able to correctly classify 1268/1669 pain samples (76.0% accuracy). We look at other metrics below to get a better understanding of overall model performance."
   ]
  },
  {
   "cell_type": "code",
   "execution_count": 29,
   "metadata": {},
   "outputs": [
    {
     "data": {
      "image/png": "[encoded data removed]",
      "text/plain": [
       "<Figure size 432x288 with 1 Axes>"
      ]
     },
     "metadata": {
      "needs_background": "light"
     },
     "output_type": "display_data"
    }
   ],
   "source": [
    "# Compute ROC curve and ROC area for pain class\n",
    "fpr = dict()\n",
    "tpr = dict()\n",
    "roc_auc = dict()\n",
    "for i in range(2):\n",
    "    fpr[i], tpr[i], _ = roc_curve(svm_test_labels, predictions)\n",
    "    roc_auc[i] = auc(fpr[i], tpr[i])\n",
    "\n",
    "\n",
    "plt.figure()\n",
    "lw = 2\n",
    "plt.plot(fpr[1], tpr[1], color='darkorange',\n",
    "         lw=lw, label='ROC curve (area = %0.2f)' % roc_auc[1])\n",
    "plt.plot([0, 1], [0, 1], color='navy', lw=lw, linestyle='--')\n",
    "plt.xlim([0.0, 1.0])\n",
    "plt.ylim([0.0, 1.05])\n",
    "plt.xlabel('False Positive Rate')\n",
    "plt.ylabel('True Positive Rate')\n",
    "plt.title('Receiver operating characteristic example')\n",
    "plt.legend(loc=\"lower right\")\n",
    "plt.show()"
   ]
  },
  {
   "cell_type": "code",
   "execution_count": 30,
   "metadata": {},
   "outputs": [
    {
     "name": "stdout",
     "output_type": "stream",
     "text": [
      "Model accuracy: 0.792413381123\n",
      "\n",
      "Model precision: 0.811779769526\n",
      "\n",
      "Model recall: 0.759736369083\n",
      "\n",
      "Model F1 Score: 0.78489631693\n",
      "\n"
     ]
    }
   ],
   "source": [
    "accuracy = float(sum([predictions[i] == svm_test_labels[i] for i in range(len(svm_test_labels))])) / float(len(predictions))\n",
    "scores = precision_recall_fscore_support(svm_test_labels, \n",
    "                                         predictions, \n",
    "                                         beta=1.0, \n",
    "                                         labels=None, \n",
    "                                         pos_label=1, \n",
    "                                         average='binary', \n",
    "                                         warn_for=('precision', 'recall', 'f-score'), \n",
    "                                         sample_weight=None)\n",
    "\n",
    "print 'Model accuracy: {}\\n'.format(accuracy)\n",
    "print 'Model precision: {}\\n'.format(scores[0])\n",
    "print 'Model recall: {}\\n'.format(scores[1])\n",
    "print 'Model F1 Score: {}\\n'.format(scores[2])"
   ]
  },
  {
   "cell_type": "markdown",
   "metadata": {},
   "source": [
    "From these additional metrics and visualizations, we can see that the model had an accuracy of 79.2% and the high F1 score reinforces the fact that it performed consistently on both the pain and no pain samples."
   ]
  },
  {
   "cell_type": "markdown",
   "metadata": {},
   "source": [
    "#### Data Augmentation"
   ]
  },
  {
   "cell_type": "markdown",
   "metadata": {},
   "source": [
    "We augmented our data by transforming the source images (by rotating and flipping the images), but did not use this augmented data to train the SVM model because it would have required manually generating new AAM annotations for each new image (which would have taken a long time)."
   ]
  }
 ],
 "metadata": {
  "kernelspec": {
   "display_name": "Python 2",
   "language": "python",
   "name": "python2"
  },
  "language_info": {
   "codemirror_mode": {
    "name": "ipython",
    "version": 2
   },
   "file_extension": ".py",
   "mimetype": "text/x-python",
   "name": "python",
   "nbconvert_exporter": "python",
   "pygments_lexer": "ipython2",
   "version": "2.7.15"
  }
 },
 "nbformat": 4,
 "nbformat_minor": 2
}
