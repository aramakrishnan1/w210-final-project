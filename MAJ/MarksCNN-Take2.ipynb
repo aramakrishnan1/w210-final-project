{
 "cells": [
  {
   "cell_type": "markdown",
   "metadata": {},
   "source": [
    "# Imports & Config"
   ]
  },
  {
   "cell_type": "code",
   "execution_count": 3,
   "metadata": {
    "ExecuteTime": {
     "end_time": "2019-07-17T07:26:40.536182Z",
     "start_time": "2019-07-17T07:26:38.899975Z"
    }
   },
   "outputs": [
    {
     "name": "stdout",
     "output_type": "stream",
     "text": [
      "[INFO] Imports done.  Using Tensorflow version: 1.13.1, and Keras version: 2.2.4-tf\n"
     ]
    }
   ],
   "source": [
    "import os, shutil, argparse, random, pickle, cv2, fnmatch, PIL, math, signal\n",
    "from tqdm import tqdm_notebook as tqdm\n",
    "import tensorflow as tf\n",
    "import tensorflow.keras as k\n",
    "import numpy as np\n",
    "import pandas as pd\n",
    "from sklearn.utils import shuffle\n",
    "from tensorflow.keras.optimizers import RMSprop, Adam\n",
    "from tensorflow.keras.preprocessing.image import ImageDataGenerator, img_to_array, load_img\n",
    "from tensorflow.keras.preprocessing import image\n",
    "from sklearn.metrics import roc_curve\n",
    "import matplotlib.pyplot as plt\n",
    "from sklearn.metrics import auc\n",
    "from tensorflow.keras.callbacks import EarlyStopping, ModelCheckpoint, ReduceLROnPlateau\n",
    "import datetime\n",
    "\n",
    "%matplotlib inline\n",
    "\n",
    "print('[INFO] Imports done.  Using Tensorflow version: {}, and Keras version: {}'.format(tf.__version__, k.__version__))"
   ]
  },
  {
   "cell_type": "code",
   "execution_count": 4,
   "metadata": {
    "ExecuteTime": {
     "end_time": "2019-07-17T07:26:40.829036Z",
     "start_time": "2019-07-17T07:26:40.821512Z"
    }
   },
   "outputs": [],
   "source": [
    "config={}\n",
    "\n",
    "config['do_dataprep'] = False\n",
    "\n",
    "config['source'] = os.path.join(os.getcwd(), 'source_data')\n",
    "config['home_dir'] = os.path.join(os.getcwd(), 'data_binary_split')\n",
    "\n",
    "config['train_dir'] = os.path.join(os.getcwd(), 'data_binary_split', 'train')\n",
    "config['test_dir'] = os.path.join(os.getcwd(), 'data_binary_split', 'test')\n",
    "config['val_dir'] = os.path.join(os.getcwd(), 'data_binary_split', 'validation')\n",
    "\n",
    "config['train_pain'] = os.path.join(config['train_dir'], 'pain')\n",
    "config['train_nopain'] = os.path.join(config['train_dir'], 'nopain')\n",
    "config['test_pain'] = os.path.join(config['test_dir'], 'pain')\n",
    "config['test_nopain'] = os.path.join(config['test_dir'], 'nopain')\n",
    "config['val_pain'] = os.path.join(config['val_dir'], 'pain')\n",
    "config['val_nopain'] = os.path.join(config['val_dir'], 'nopain')\n",
    "\n",
    "config['val_split'] = 0.1\n",
    "config['test_split'] = 0.1\n",
    "\n",
    "config['target_size'] = (320, 240)\n",
    "\n",
    "config['train_batch'] = 100\n",
    "config['test_batch'] = 100\n",
    "config['val_batch'] = 100\n",
    "\n",
    "config['epochs'] = 3\n",
    "\n",
    "config['set_limit'] = True\n",
    "config['limit'] = 1200"
   ]
  },
  {
   "cell_type": "markdown",
   "metadata": {},
   "source": [
    "# Data Prep"
   ]
  },
  {
   "cell_type": "markdown",
   "metadata": {},
   "source": [
    "## Split Helper Function"
   ]
  },
  {
   "cell_type": "code",
   "execution_count": 5,
   "metadata": {
    "ExecuteTime": {
     "end_time": "2019-07-17T07:26:42.236327Z",
     "start_time": "2019-07-17T07:26:42.229080Z"
    }
   },
   "outputs": [],
   "source": [
    "def split(SOURCE, TRAINING, TESTING, VALIDATION):\n",
    "    \n",
    "    print('[INFO] In Splitting')\n",
    "\n",
    "    files = []\n",
    "    \n",
    "    for file in os.listdir(SOURCE): \n",
    "        files.append(file)\n",
    "    \n",
    "    # since the limit is less than the # of images, I will just hardcode it.  \n",
    "\n",
    "    training_length = int(len(files) * (1-config['val_split']-config['test_split']))\n",
    "    testing_length = int(len(files) * config['test_split'])\n",
    "    validation_length = int(len(files) * config['val_split'])\n",
    "\n",
    "    shuffled_set = random.sample(files, len(files))\n",
    "\n",
    "    training_set = shuffled_set[0:training_length]\n",
    "    testing_set = shuffled_set[training_length:training_length+testing_length]\n",
    "    validation_set = shuffled_set[training_length+testing_length:]\n",
    "\n",
    "#     print('[INFO] Creating Training Set')\n",
    "    for filename in tqdm(training_set):\n",
    "        this_file = os.path.join(SOURCE, filename)\n",
    "        destination = os.path.join(TRAINING, filename)\n",
    "        shutil.copyfile(this_file, destination)\n",
    "\n",
    "#     print('[INFO] Creating Testing Set')\n",
    "    for filename in tqdm(testing_set):\n",
    "        this_file = os.path.join(SOURCE, filename)\n",
    "        destination = os.path.join(TESTING, filename)\n",
    "        shutil.copyfile(this_file, destination)\n",
    "\n",
    "#     print('[INFO] Creating Validation Set')\n",
    "    for filename in tqdm(validation_set):\n",
    "        this_file = os.path.join(SOURCE, filename)\n",
    "        destination = os.path.join(VALIDATION, filename)\n",
    "        shutil.copyfile(this_file, destination)"
   ]
  },
  {
   "cell_type": "markdown",
   "metadata": {},
   "source": [
    "## Creating Directories"
   ]
  },
  {
   "cell_type": "markdown",
   "metadata": {},
   "source": [
    "Strategy is to use the data in 0.0 labeled as no pain and all others as pain"
   ]
  },
  {
   "cell_type": "code",
   "execution_count": 6,
   "metadata": {
    "ExecuteTime": {
     "end_time": "2019-07-17T07:26:43.072293Z",
     "start_time": "2019-07-17T07:26:43.060422Z"
    }
   },
   "outputs": [],
   "source": [
    "# Create the new dirctories\n",
    "\n",
    "new_dirs = [\n",
    "    config['home_dir']\n",
    "    , config['train_dir'], config['test_dir'], config['val_dir']\n",
    "    , config['train_pain'], config['train_nopain']\n",
    "    , config['test_pain'], config['test_nopain']\n",
    "    , config['val_pain'], config['val_nopain']\n",
    "           ]\n",
    "\n",
    "if config['do_dataprep']: \n",
    "    if os.path.exists(config['home_dir']):\n",
    "        shutil.rmtree(config['home_dir'])\n",
    "        \n",
    "    for value in new_dirs: \n",
    "        if not os.path.exists(value):\n",
    "            os.mkdir(value)\n",
    "    pain_data_location = os.path.join(config['source'], '0.0')\n",
    "\n",
    "    print('[INFO] Files in pain origin dir: \\t{}'.format(len(os.listdir(pain_data_location))))\n",
    "    print('[INFO] Files in pain train dir: \\t{}'.format(len(os.listdir(config['train_pain']))))\n",
    "    print('[INFO] Files in pain test dir: \\t\\t{}'.format(len(os.listdir(config['test_pain']))))\n",
    "    print('[INFO] Files in pain val dir: \\t\\t{}'.format(len(os.listdir(config['val_pain']))))\n",
    "    \n",
    "    split(\n",
    "        SOURCE = pain_data_location\n",
    "        , TRAINING = config['train_pain'] \n",
    "        , TESTING = config['test_pain'] \n",
    "        , VALIDATION = config['val_pain'] \n",
    "    )\n",
    "\n",
    "    print('[INFO] Files in pain origin dir: \\t{}'.format(len(os.listdir(pain_data_location))))\n",
    "    print('[INFO] Files in pain train dir: \\t{}'.format(len(os.listdir(config['train_pain']))))\n",
    "    print('[INFO] Files in pain test dir: \\t\\t{}'.format(len(os.listdir(config['test_pain']))))\n",
    "    print('[INFO] Files in pain val dir: \\t\\t{}'.format(len(os.listdir(config['val_pain']))))\n",
    "    \n",
    "    print('[INFO] Files in nopain train dir: \\t{}'.format(len(os.listdir(config['train_nopain']))))\n",
    "    print('[INFO] Files in nopain test dir: \\t{}'.format(len(os.listdir(config['test_nopain']))))\n",
    "    print('[INFO] Files in nopain val dir: \\t{}'.format(len(os.listdir(config['val_nopain']))))\n",
    "    \n",
    "    nopain_folders = os.listdir(config['source'])\n",
    "    nopain_folders.remove('0.0')\n",
    "    \n",
    "    for folder in nopain_folders:\n",
    "        split(\n",
    "            SOURCE = os.path.join(config['source'], folder)\n",
    "            , TRAINING = config['train_nopain'] \n",
    "            , TESTING = config['test_nopain'] \n",
    "            , VALIDATION = config['val_nopain'] \n",
    "        )\n",
    "\n",
    "    print('[INFO] Files in pain train dir: \\t{}'.format(len(os.listdir(config['train_pain']))))\n",
    "    print('[INFO] Files in pain test dir: \\t\\t{}'.format(len(os.listdir(config['test_pain']))))\n",
    "    print('[INFO] Files in pain val dir: \\t\\t{}'.format(len(os.listdir(config['val_pain']))))"
   ]
  },
  {
   "cell_type": "code",
   "execution_count": 7,
   "metadata": {
    "ExecuteTime": {
     "end_time": "2019-07-17T07:26:43.330135Z",
     "start_time": "2019-07-17T07:26:43.320394Z"
    }
   },
   "outputs": [
    {
     "name": "stdout",
     "output_type": "stream",
     "text": [
      "/data/home/maj/notebooks/w210-final-project/MAJ/data_binary_split/train/pain: 1200\n",
      "/data/home/maj/notebooks/w210-final-project/MAJ/data_binary_split/train/nopain: 1200\n",
      "/data/home/maj/notebooks/w210-final-project/MAJ/data_binary_split/test/pain: 1200\n",
      "/data/home/maj/notebooks/w210-final-project/MAJ/data_binary_split/test/nopain: 831\n",
      "/data/home/maj/notebooks/w210-final-project/MAJ/data_binary_split/validation/pain: 1200\n",
      "/data/home/maj/notebooks/w210-final-project/MAJ/data_binary_split/validation/nopain: 850\n"
     ]
    }
   ],
   "source": [
    "limiting_dirs = [\n",
    "        config['train_pain'], config['train_nopain']\n",
    "        , config['test_pain'], config['test_nopain']\n",
    "        , config['val_pain'], config['val_nopain']\n",
    "    ]\n",
    "\n",
    "if config['do_dataprep']: \n",
    "\n",
    "    print('Before')\n",
    "    for d in limiting_dirs: \n",
    "        print('{}: {}'.format(d, len(os.listdir(d))))\n",
    "\n",
    "    print('\\nAfter')\n",
    "    for d in limiting_dirs: \n",
    "        counter = 1\n",
    "        for filename in os.listdir(d): \n",
    "            if counter > config['limit']:\n",
    "                os.remove(os.path.join(d, filename))\n",
    "            counter = counter +1\n",
    "\n",
    "for d in limiting_dirs: \n",
    "    print('{}: {}'.format(d, len(os.listdir(d))))"
   ]
  },
  {
   "cell_type": "markdown",
   "metadata": {},
   "source": [
    "#  Modelling"
   ]
  },
  {
   "cell_type": "markdown",
   "metadata": {},
   "source": [
    "## Helper Functions"
   ]
  },
  {
   "cell_type": "code",
   "execution_count": 8,
   "metadata": {
    "ExecuteTime": {
     "end_time": "2019-07-17T07:26:45.415551Z",
     "start_time": "2019-07-17T07:26:45.407868Z"
    }
   },
   "outputs": [],
   "source": [
    "def create_and_compile_model(): \n",
    "    model = k.models.Sequential([\n",
    "        k.layers.Conv2D(16, (3,3), activation='relu', input_shape=(*config['target_size'], 3),  name='mh-conv-1')\n",
    "        , k.layers.MaxPooling2D(2, 2, name='mh-maxpool-1')\n",
    "        , k.layers.Conv2D(32, (3,3), activation='relu', name='mh-conv-2')\n",
    "        , k.layers.MaxPooling2D(2,2, name='mh-maxpool-2')\n",
    "        , k.layers.Conv2D(64, (3,3), activation='relu', name='mh-conv-3')\n",
    "        , k.layers.MaxPooling2D(2,2, name='mh-maxpool-3')\n",
    "        , k.layers.Conv2D(128, (3,3), activation='relu', name='mh-conv-4')\n",
    "        , k.layers.MaxPooling2D(2,2, name='mh-maxpool-4')\n",
    "        , k.layers.Conv2D(256, (3,3), activation='relu', name='mh-conv-5')\n",
    "        , k.layers.MaxPooling2D(2,2, name='mh-maxpool-5')\n",
    "        , k.layers.Flatten(name='mh-flatten-1')\n",
    "        , k.layers.Dense(1024, activation='relu', name='mh-dense-1')\n",
    "        , k.layers.Dropout(0.2)\n",
    "        , k.layers.Dense(128, activation='relu', name='mh-dense-2')\n",
    "        , k.layers.Dropout(0.2)\n",
    "        , k.layers.Dense(1, activation='sigmoid', name='mh-dense-output')\n",
    "    ])\n",
    "    \n",
    "    model.compile(\n",
    "        optimizer=Adam()\n",
    "        , loss='binary_crossentropy'\n",
    "        , metrics=['binary_accuracy']\n",
    "    )\n",
    "    \n",
    "    return model"
   ]
  },
  {
   "cell_type": "code",
   "execution_count": 9,
   "metadata": {
    "ExecuteTime": {
     "end_time": "2019-07-17T07:26:46.350816Z",
     "start_time": "2019-07-17T07:26:46.346960Z"
    }
   },
   "outputs": [],
   "source": [
    "class myCallback(tf.keras.callbacks.Callback):\n",
    "    def on_epoch_end(self, epoch, logs={}):\n",
    "        if(logs.get('binary_accuracy')>0.99):\n",
    "            print('\\nReached 99% accuracy which is satisfactory so stopped training!')\n",
    "            self.model.stop_training = True\n",
    "        if(logs.get('binary_accuracy')<0.4):\n",
    "            print('\\nUnable to go over 40% accuracy, so cancelling run!')\n",
    "            self.model.stop_training = True\n",
    "\n",
    "markscallbacks = myCallback()"
   ]
  },
  {
   "cell_type": "markdown",
   "metadata": {},
   "source": [
    "## Image Generators"
   ]
  },
  {
   "cell_type": "code",
   "execution_count": 10,
   "metadata": {
    "ExecuteTime": {
     "end_time": "2019-07-17T07:26:47.849673Z",
     "start_time": "2019-07-17T07:26:47.737802Z"
    }
   },
   "outputs": [
    {
     "name": "stdout",
     "output_type": "stream",
     "text": [
      "Found 2400 images belonging to 2 classes.\n"
     ]
    }
   ],
   "source": [
    "config['train_count'] = sum([len(files) for r, d, files in os.walk(config['train_dir'])])\n",
    "config['train_steps'] = math.ceil(config['train_count']/config['train_batch'])\n",
    "\n",
    "train_datagen = ImageDataGenerator(rescale=1.0/255.0)\n",
    "\n",
    "train_generator = train_datagen.flow_from_directory(\n",
    "    config['train_dir']\n",
    "    , target_size = config['target_size'] \n",
    "    , batch_size = config['train_batch']\n",
    "    , class_mode = 'binary'\n",
    ")"
   ]
  },
  {
   "cell_type": "code",
   "execution_count": 11,
   "metadata": {
    "ExecuteTime": {
     "end_time": "2019-07-17T07:26:48.240871Z",
     "start_time": "2019-07-17T07:26:48.130345Z"
    }
   },
   "outputs": [
    {
     "name": "stdout",
     "output_type": "stream",
     "text": [
      "Found 2050 images belonging to 2 classes.\n"
     ]
    }
   ],
   "source": [
    "config['val_count'] = sum([len(files) for r, d, files in os.walk(config['val_dir'])])\n",
    "config['val_steps'] = math.ceil(config['val_count']/config['val_batch'])\n",
    "\n",
    "val_datagen = ImageDataGenerator(rescale=1.0/255.0)\n",
    "\n",
    "val_generator = val_datagen.flow_from_directory(\n",
    "    config['val_dir']  # This is the source directory for training images\n",
    "    , target_size = config['target_size']  # All images will be resized to 150x150 for compressing\n",
    "    , batch_size = config['val_batch']\n",
    "    , class_mode = 'binary' # Since we use binary_crossentropy loss, we need binary labels\n",
    ")"
   ]
  },
  {
   "cell_type": "code",
   "execution_count": 12,
   "metadata": {
    "ExecuteTime": {
     "end_time": "2019-07-17T07:26:48.817553Z",
     "start_time": "2019-07-17T07:26:48.707329Z"
    }
   },
   "outputs": [
    {
     "name": "stdout",
     "output_type": "stream",
     "text": [
      "Found 2031 images belonging to 2 classes.\n"
     ]
    }
   ],
   "source": [
    "config['test_count'] = sum([len(files) for r, d, files in os.walk(config['test_dir'])])\n",
    "config['test_steps'] = math.ceil(config['test_count']/config['test_batch'])\n",
    "\n",
    "test_datagen = ImageDataGenerator(rescale=1.0/255.0)\n",
    "\n",
    "test_generator = test_datagen.flow_from_directory(\n",
    "    config['test_dir']  # This is the source directory for training images\n",
    "    , target_size = config['target_size']  # All images will be resized to 150x150 for compressing\n",
    "    , batch_size = config['test_batch']\n",
    "    , class_mode = 'binary' # Since we use binary_crossentropy loss, we need binary labels\n",
    ")"
   ]
  },
  {
   "cell_type": "markdown",
   "metadata": {},
   "source": [
    "## Training"
   ]
  },
  {
   "cell_type": "code",
   "execution_count": 13,
   "metadata": {
    "ExecuteTime": {
     "end_time": "2019-07-17T07:26:50.914440Z",
     "start_time": "2019-07-17T07:26:50.500331Z"
    }
   },
   "outputs": [
    {
     "name": "stdout",
     "output_type": "stream",
     "text": [
      "WARNING:tensorflow:From /anaconda/envs/py36/lib/python3.6/site-packages/tensorflow/python/ops/resource_variable_ops.py:435: colocate_with (from tensorflow.python.framework.ops) is deprecated and will be removed in a future version.\n",
      "Instructions for updating:\n",
      "Colocations handled automatically by placer.\n",
      "WARNING:tensorflow:From /anaconda/envs/py36/lib/python3.6/site-packages/tensorflow/python/keras/layers/core.py:143: calling dropout (from tensorflow.python.ops.nn_ops) with keep_prob is deprecated and will be removed in a future version.\n",
      "Instructions for updating:\n",
      "Please use `rate` instead of `keep_prob`. Rate should be set to `rate = 1 - keep_prob`.\n",
      "_________________________________________________________________\n",
      "Layer (type)                 Output Shape              Param #   \n",
      "=================================================================\n",
      "mh-conv-1 (Conv2D)           (None, 318, 238, 16)      448       \n",
      "_________________________________________________________________\n",
      "mh-maxpool-1 (MaxPooling2D)  (None, 159, 119, 16)      0         \n",
      "_________________________________________________________________\n",
      "mh-conv-2 (Conv2D)           (None, 157, 117, 32)      4640      \n",
      "_________________________________________________________________\n",
      "mh-maxpool-2 (MaxPooling2D)  (None, 78, 58, 32)        0         \n",
      "_________________________________________________________________\n",
      "mh-conv-3 (Conv2D)           (None, 76, 56, 64)        18496     \n",
      "_________________________________________________________________\n",
      "mh-maxpool-3 (MaxPooling2D)  (None, 38, 28, 64)        0         \n",
      "_________________________________________________________________\n",
      "mh-conv-4 (Conv2D)           (None, 36, 26, 128)       73856     \n",
      "_________________________________________________________________\n",
      "mh-maxpool-4 (MaxPooling2D)  (None, 18, 13, 128)       0         \n",
      "_________________________________________________________________\n",
      "mh-conv-5 (Conv2D)           (None, 16, 11, 256)       295168    \n",
      "_________________________________________________________________\n",
      "mh-maxpool-5 (MaxPooling2D)  (None, 8, 5, 256)         0         \n",
      "_________________________________________________________________\n",
      "mh-flatten-1 (Flatten)       (None, 10240)             0         \n",
      "_________________________________________________________________\n",
      "mh-dense-1 (Dense)           (None, 1024)              10486784  \n",
      "_________________________________________________________________\n",
      "dropout (Dropout)            (None, 1024)              0         \n",
      "_________________________________________________________________\n",
      "mh-dense-2 (Dense)           (None, 128)               131200    \n",
      "_________________________________________________________________\n",
      "dropout_1 (Dropout)          (None, 128)               0         \n",
      "_________________________________________________________________\n",
      "mh-dense-output (Dense)      (None, 1)                 129       \n",
      "=================================================================\n",
      "Total params: 11,010,721\n",
      "Trainable params: 11,010,721\n",
      "Non-trainable params: 0\n",
      "_________________________________________________________________\n"
     ]
    }
   ],
   "source": [
    "model = create_and_compile_model()\n",
    "\n",
    "model.summary()"
   ]
  },
  {
   "cell_type": "code",
   "execution_count": 15,
   "metadata": {
    "ExecuteTime": {
     "end_time": "2019-07-17T07:31:41.799878Z",
     "start_time": "2019-07-17T07:27:29.310836Z"
    }
   },
   "outputs": [
    {
     "name": "stdout",
     "output_type": "stream",
     "text": [
      "WARNING:tensorflow:From /anaconda/envs/py36/lib/python3.6/site-packages/tensorflow/python/ops/math_ops.py:3066: to_int32 (from tensorflow.python.ops.math_ops) is deprecated and will be removed in a future version.\n",
      "Instructions for updating:\n",
      "Use tf.cast instead.\n",
      "Epoch 1/50\n",
      "21/21 [==============================] - 9s 430ms/step - loss: 0.6928 - acc: 0.5156 - binary_accuracy: 0.5156\n",
      "24/24 [==============================] - 18s 768ms/step - loss: 0.6956 - acc: 0.5042 - binary_accuracy: 0.5042 - val_loss: 0.6928 - val_acc: 0.5156 - val_binary_accuracy: 0.5156\n",
      "Epoch 2/50\n",
      "21/21 [==============================] - 9s 418ms/step - loss: 0.6425 - acc: 0.6556 - binary_accuracy: 0.6556\n",
      "24/24 [==============================] - 15s 641ms/step - loss: 0.6808 - acc: 0.5621 - binary_accuracy: 0.5621 - val_loss: 0.6425 - val_acc: 0.6556 - val_binary_accuracy: 0.6556\n",
      "Epoch 3/50\n",
      "21/21 [==============================] - 9s 419ms/step - loss: 0.6181 - acc: 0.6678 - binary_accuracy: 0.6678\n",
      "24/24 [==============================] - 15s 639ms/step - loss: 0.6384 - acc: 0.6350 - binary_accuracy: 0.6350 - val_loss: 0.6181 - val_acc: 0.6678 - val_binary_accuracy: 0.6678\n",
      "Epoch 4/50\n",
      "21/21 [==============================] - 9s 419ms/step - loss: 0.5459 - acc: 0.7229 - binary_accuracy: 0.7229\n",
      "24/24 [==============================] - 15s 643ms/step - loss: 0.5735 - acc: 0.7121 - binary_accuracy: 0.7121 - val_loss: 0.5459 - val_acc: 0.7229 - val_binary_accuracy: 0.7229\n",
      "Epoch 5/50\n",
      "21/21 [==============================] - 9s 416ms/step - loss: 0.5300 - acc: 0.7395 - binary_accuracy: 0.7395\n",
      "24/24 [==============================] - 15s 637ms/step - loss: 0.5097 - acc: 0.7629 - binary_accuracy: 0.7629 - val_loss: 0.5300 - val_acc: 0.7395 - val_binary_accuracy: 0.7395\n",
      "Epoch 6/50\n",
      "21/21 [==============================] - 9s 415ms/step - loss: 0.4908 - acc: 0.7741 - binary_accuracy: 0.7741\n",
      "24/24 [==============================] - 15s 638ms/step - loss: 0.4680 - acc: 0.7900 - binary_accuracy: 0.7900 - val_loss: 0.4908 - val_acc: 0.7741 - val_binary_accuracy: 0.7741\n",
      "Epoch 7/50\n",
      "21/21 [==============================] - 9s 419ms/step - loss: 0.5062 - acc: 0.7751 - binary_accuracy: 0.7751\n",
      "24/24 [==============================] - 15s 640ms/step - loss: 0.4350 - acc: 0.8071 - binary_accuracy: 0.8071 - val_loss: 0.5062 - val_acc: 0.7751 - val_binary_accuracy: 0.7751\n",
      "Epoch 8/50\n",
      "21/21 [==============================] - 9s 416ms/step - loss: 0.4806 - acc: 0.7888 - binary_accuracy: 0.7888\n",
      "24/24 [==============================] - 15s 633ms/step - loss: 0.4144 - acc: 0.8121 - binary_accuracy: 0.8121 - val_loss: 0.4806 - val_acc: 0.7888 - val_binary_accuracy: 0.7888\n",
      "Epoch 9/50\n",
      "21/21 [==============================] - 9s 418ms/step - loss: 0.4617 - acc: 0.7878 - binary_accuracy: 0.7878\n",
      "24/24 [==============================] - 15s 639ms/step - loss: 0.3896 - acc: 0.8254 - binary_accuracy: 0.8254 - val_loss: 0.4617 - val_acc: 0.7878 - val_binary_accuracy: 0.7878\n",
      "Epoch 10/50\n",
      "21/21 [==============================] - 9s 416ms/step - loss: 0.4599 - acc: 0.7951 - binary_accuracy: 0.7951\n",
      "24/24 [==============================] - 15s 634ms/step - loss: 0.3723 - acc: 0.8267 - binary_accuracy: 0.8267 - val_loss: 0.4599 - val_acc: 0.7951 - val_binary_accuracy: 0.7951\n",
      "Epoch 11/50\n",
      "21/21 [==============================] - 9s 420ms/step - loss: 0.5273 - acc: 0.7722 - binary_accuracy: 0.7722\n",
      "24/24 [==============================] - 15s 643ms/step - loss: 0.3500 - acc: 0.8483 - binary_accuracy: 0.8483 - val_loss: 0.5273 - val_acc: 0.7722 - val_binary_accuracy: 0.7722\n",
      "Epoch 12/50\n",
      "21/21 [==============================] - 9s 422ms/step - loss: 0.4807 - acc: 0.7937 - binary_accuracy: 0.7937\n",
      "24/24 [==============================] - 15s 621ms/step - loss: 0.3434 - acc: 0.8438 - binary_accuracy: 0.8438 - val_loss: 0.4807 - val_acc: 0.7937 - val_binary_accuracy: 0.7937\n",
      "Epoch 13/50\n",
      "21/21 [==============================] - 9s 418ms/step - loss: 0.4424 - acc: 0.8127 - binary_accuracy: 0.8127\n",
      "24/24 [==============================] - 15s 618ms/step - loss: 0.3246 - acc: 0.8475 - binary_accuracy: 0.8475 - val_loss: 0.4424 - val_acc: 0.8127 - val_binary_accuracy: 0.8127\n",
      "Epoch 14/50\n",
      "21/21 [==============================] - 9s 419ms/step - loss: 0.4668 - acc: 0.8107 - binary_accuracy: 0.8107\n",
      "24/24 [==============================] - 15s 639ms/step - loss: 0.3092 - acc: 0.8579 - binary_accuracy: 0.8579 - val_loss: 0.4668 - val_acc: 0.8107 - val_binary_accuracy: 0.8107\n",
      "Epoch 15/50\n",
      "21/21 [==============================] - 9s 419ms/step - loss: 0.4568 - acc: 0.8093 - binary_accuracy: 0.8093\n",
      "24/24 [==============================] - 16s 679ms/step - loss: 0.2957 - acc: 0.8742 - binary_accuracy: 0.8742 - val_loss: 0.4568 - val_acc: 0.8093 - val_binary_accuracy: 0.8093\n",
      "Epoch 16/50\n",
      "21/21 [==============================] - 9s 418ms/step - loss: 0.4758 - acc: 0.8010 - binary_accuracy: 0.8010\n",
      "24/24 [==============================] - 15s 638ms/step - loss: 0.2768 - acc: 0.8796 - binary_accuracy: 0.8796 - val_loss: 0.4758 - val_acc: 0.8010 - val_binary_accuracy: 0.8010\n",
      "\n",
      "[INFO] Training Complete\n"
     ]
    }
   ],
   "source": [
    "new_directory = os.path.join(os.getcwd(), 'marks-runs', '{}'.format(datetime.datetime.now().strftime(\"%Y%m%d%H%M\")))\n",
    "if os.path.exists(new_directory):\n",
    "        shutil.rmtree(new_directory)\n",
    "\n",
    "os.mkdir(new_directory)\n",
    "\n",
    "history = model.fit_generator(\n",
    "    train_generator\n",
    "    , steps_per_epoch = config['train_steps']\n",
    "    , epochs = config['epochs']\n",
    "    , validation_data = val_generator\n",
    "    , validation_steps = config['val_steps']\n",
    "    , callbacks=[\n",
    "        markscallbacks\n",
    "        , EarlyStopping(monitor='val_binary_accuracy', patience=3)\n",
    "        , ModelCheckpoint(filepath=os.path.join(new_directory, 'model.h5'), monitor='acc', save_best_only=True)\n",
    "        , ReduceLROnPlateau(monitor='val_loss', factor=0.1, patience=5, mode='auto', min_delta=0.0001, cooldown=0, min_lr=0)\n",
    "    ]\n",
    ")\n",
    "\n",
    "print('\\n[INFO] Training Complete')"
   ]
  },
  {
   "cell_type": "code",
   "execution_count": 16,
   "metadata": {
    "ExecuteTime": {
     "end_time": "2019-07-17T07:33:21.096561Z",
     "start_time": "2019-07-17T07:33:12.540039Z"
    }
   },
   "outputs": [],
   "source": [
    "predicted = model.predict_generator(test_generator, steps=config['test_steps'])\n",
    "labels = test_generator.classes"
   ]
  },
  {
   "cell_type": "code",
   "execution_count": 20,
   "metadata": {
    "ExecuteTime": {
     "end_time": "2019-07-17T07:35:41.795616Z",
     "start_time": "2019-07-17T07:35:41.440688Z"
    }
   },
   "outputs": [
    {
     "data": {
      "image/png": "[encoded data removed]",
      "text/plain": [
       "<Figure size 1296x432 with 2 Axes>"
      ]
     },
     "metadata": {
      "needs_background": "light"
     },
     "output_type": "display_data"
    }
   ],
   "source": [
    "fpr_keras, tpr_keras, thresholds_keras = roc_curve(labels, predicted)\n",
    "\n",
    "auc_keras = auc(fpr_keras, tpr_keras)\n",
    "\n",
    "plt.figure(figsize=(18,6))\n",
    "\n",
    "plt.subplot(1, 2 ,1)\n",
    "plt.xticks([])\n",
    "plt.yticks([])\n",
    "plt.grid(False)\n",
    "plt.plot([0, 1], [0, 1], 'k--')\n",
    "plt.plot(fpr_keras, tpr_keras, label='Keras (area = {:.3f})'.format(auc_keras))\n",
    "plt.xlabel('False positive rate')\n",
    "plt.ylabel('True positive rate')\n",
    "plt.title('ROC curve')\n",
    "plt.legend(loc='best')\n",
    "# plt.show()\n",
    "\n",
    "hist = pd.DataFrame(history.history)\n",
    "hist['epoch'] = history.epoch\n",
    "plt.subplot(1, 2, 2)\n",
    "plt.xlabel('Epoch')\n",
    "plt.ylabel('Accuracy')\n",
    "plt.plot(hist['epoch'], hist['binary_accuracy'], label='Train Binary Accuracy')\n",
    "plt.plot(hist['epoch'], hist['val_binary_accuracy'], label = 'Val Binary Accuracy')\n",
    "plt.title('Accuracy vs Training')\n",
    "plt.legend(loc='best')\n",
    "\n",
    "# plt.show()\n",
    "\n",
    "plt.savefig(os.path.join(new_directory, 'result plots.png'))\n",
    "\n",
    "hist.to_csv(os.path.join(new_directory, 'run_results.csv'))"
   ]
  },
  {
   "cell_type": "markdown",
   "metadata": {
    "ExecuteTime": {
     "end_time": "2019-07-16T18:55:35.422130Z",
     "start_time": "2019-07-16T18:55:24.100Z"
    }
   },
   "source": [
    "```python \n",
    "res_dict = {\n",
    "    'epochs' : config['epochs']\n",
    "    , 'accuracy' : history.history['acc']\n",
    "    , 'val_accuracy' : history.history['val_acc']\n",
    "    , 'loss' : history.history['loss']\n",
    "    , 'val_loss' : history.history['val_loss']\n",
    "}\n",
    "\n",
    "df = pd.DataFrame(res_dict)\n",
    "os.mkdir(os.path.join(os.getcwd(), 'trial01'))\n",
    "df.to_csv(os.path.join(os.getcwd(), 'trial01', '01 - results.csv'))\n",
    "\n",
    "model.save(os.path.join(os.getcwd(), 'trial01', 'model.h5'))\n",
    "```"
   ]
  },
  {
   "cell_type": "code",
   "execution_count": null,
   "metadata": {
    "ExecuteTime": {
     "start_time": "2019-07-17T07:17:31.486Z"
    }
   },
   "outputs": [],
   "source": [
    "# Next step, custom metrics\n",
    "# Look at random images in both directories\n",
    "# Rethink the Split 0.0 vs 1.0-14.0"
   ]
  },
  {
   "cell_type": "code",
   "execution_count": null,
   "metadata": {
    "ExecuteTime": {
     "start_time": "2019-07-17T07:17:32.510Z"
    }
   },
   "outputs": [],
   "source": [
    "print('Completed running Notebook')"
   ]
  },
  {
   "cell_type": "code",
   "execution_count": null,
   "metadata": {
    "ExecuteTime": {
     "start_time": "2019-07-17T07:17:31.919Z"
    }
   },
   "outputs": [],
   "source": [
    "os.kill(os.getpid(), signal.SIGKILL)"
   ]
  },
  {
   "cell_type": "code",
   "execution_count": null,
   "metadata": {},
   "outputs": [],
   "source": []
  }
 ],
 "metadata": {
  "kernelspec": {
   "display_name": "Python 3.6 - AzureML",
   "language": "python",
   "name": "python3-azureml"
  },
  "language_info": {
   "codemirror_mode": {
    "name": "ipython",
    "version": 3
   },
   "file_extension": ".py",
   "mimetype": "text/x-python",
   "name": "python",
   "nbconvert_exporter": "python",
   "pygments_lexer": "ipython3",
   "version": "3.6.8"
  },
  "toc": {
   "base_numbering": 1,
   "nav_menu": {},
   "number_sections": true,
   "sideBar": true,
   "skip_h1_title": false,
   "title_cell": "Table of Contents",
   "title_sidebar": "Contents",
   "toc_cell": false,
   "toc_position": {},
   "toc_section_display": true,
   "toc_window_display": false
  }
 },
 "nbformat": 4,
 "nbformat_minor": 2
}
