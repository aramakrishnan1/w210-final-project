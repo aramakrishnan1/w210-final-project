{
 "cells": [
  {
   "cell_type": "markdown",
   "metadata": {},
   "source": [
    "# Imports & Config"
   ]
  },
  {
   "cell_type": "code",
   "execution_count": 3,
   "metadata": {
    "ExecuteTime": {
     "end_time": "2019-07-16T13:14:51.426940Z",
     "start_time": "2019-07-16T13:14:51.422092Z"
    }
   },
   "outputs": [
    {
     "name": "stdout",
     "output_type": "stream",
     "text": [
      "[INFO] Imports done.  Using Tensorflow version: 1.13.1, and Keras version: 2.2.4-tf\n"
     ]
    }
   ],
   "source": [
    "import os, shutil, argparse, random, pickle, cv2, fnmatch, PIL, math\n",
    "from tqdm import tqdm_notebook as tqdm\n",
    "import tensorflow as tf\n",
    "import tensorflow.keras as k\n",
    "import numpy as np\n",
    "# import matplotlib.pyplot as plt\n",
    "import pandas as pd\n",
    "from sklearn.utils import shuffle\n",
    "from tensorflow.keras.optimizers import RMSprop\n",
    "from tensorflow.keras.preprocessing.image import ImageDataGenerator, img_to_array, load_img\n",
    "from tensorflow.keras.preprocessing import image\n",
    "from sklearn.metrics import roc_curve\n",
    "import matplotlib.pyplot as plt\n",
    "from sklearn.metrics import auc\n",
    "\n",
    "# %matplotlib inline\n",
    "\n",
    "print('[INFO] Imports done.  Using Tensorflow version: {}, and Keras version: {}'.format(tf.__version__, k.__version__))"
   ]
  },
  {
   "cell_type": "code",
   "execution_count": 4,
   "metadata": {
    "ExecuteTime": {
     "end_time": "2019-07-16T13:14:51.642934Z",
     "start_time": "2019-07-16T13:14:51.636025Z"
    }
   },
   "outputs": [],
   "source": [
    "config={}\n",
    "\n",
    "config['do_dataprep'] = False\n",
    "\n",
    "config['source'] = os.path.join(os.getcwd(), 'source_data')\n",
    "config['home_dir'] = os.path.join(os.getcwd(), 'data_binary_split')\n",
    "\n",
    "config['train_dir'] = os.path.join(os.getcwd(), 'data_binary_split', 'train')\n",
    "config['test_dir'] = os.path.join(os.getcwd(), 'data_binary_split', 'test')\n",
    "config['val_dir'] = os.path.join(os.getcwd(), 'data_binary_split', 'validation')\n",
    "\n",
    "config['train_pain'] = os.path.join(config['train_dir'], 'pain')\n",
    "config['train_nopain'] = os.path.join(config['train_dir'], 'nopain')\n",
    "config['test_pain'] = os.path.join(config['test_dir'], 'pain')\n",
    "config['test_nopain'] = os.path.join(config['test_dir'], 'nopain')\n",
    "config['val_pain'] = os.path.join(config['val_dir'], 'pain')\n",
    "config['val_nopain'] = os.path.join(config['val_dir'], 'nopain')\n",
    "\n",
    "config['val_split'] = 0.1\n",
    "config['test_split'] = 0.1\n",
    "\n",
    "config['target_size'] = (320, 240)\n",
    "\n",
    "config['train_batch'] = 100\n",
    "config['test_batch'] = 100\n",
    "config['val_batch'] = 100\n",
    "\n",
    "config['epochs'] = 1"
   ]
  },
  {
   "cell_type": "markdown",
   "metadata": {},
   "source": [
    "# Data Prep"
   ]
  },
  {
   "cell_type": "markdown",
   "metadata": {
    "heading_collapsed": true
   },
   "source": [
    "## Split Helper Function"
   ]
  },
  {
   "cell_type": "code",
   "execution_count": 3,
   "metadata": {
    "ExecuteTime": {
     "end_time": "2019-07-16T13:11:19.009384Z",
     "start_time": "2019-07-16T13:11:18.983387Z"
    },
    "hidden": true
   },
   "outputs": [],
   "source": [
    "def split(SOURCE, TRAINING, TESTING, VALIDATION):\n",
    "    \n",
    "    print('[INFO] In Splitting')\n",
    "\n",
    "    files = []\n",
    "    \n",
    "    for file in os.listdir(SOURCE): \n",
    "        files.append(file)\n",
    "\n",
    "    training_length = int(len(files) * (1-config['val_split']-config['test_split']))\n",
    "    testing_length = int(len(files) * config['test_split'])\n",
    "    validation_length = int(len(files) * config['val_split'])\n",
    "\n",
    "    shuffled_set = random.sample(files, len(files))\n",
    "\n",
    "    training_set = shuffled_set[0:training_length]\n",
    "    testing_set = shuffled_set[training_length:training_length+testing_length]\n",
    "    validation_set = shuffled_set[training_length+testing_length:]\n",
    "\n",
    "#     print('[INFO] Creating Training Set')\n",
    "    for filename in training_set:\n",
    "        this_file = os.path.join(SOURCE, filename)\n",
    "        destination = os.path.join(TRAINING, filename)\n",
    "        shutil.copyfile(this_file, destination)\n",
    "\n",
    "#     print('[INFO] Creating Testing Set')\n",
    "    for filename in testing_set:\n",
    "        this_file = os.path.join(SOURCE, filename)\n",
    "        destination = os.path.join(TESTING, filename)\n",
    "        shutil.copyfile(this_file, destination)\n",
    "\n",
    "#     print('[INFO] Creating Validation Set')\n",
    "    for filename in validation_set:\n",
    "        this_file = os.path.join(SOURCE, filename)\n",
    "        destination = os.path.join(VALIDATION, filename)\n",
    "        shutil.copyfile(this_file, destination)"
   ]
  },
  {
   "cell_type": "markdown",
   "metadata": {
    "heading_collapsed": true
   },
   "source": [
    "## Creating Directories"
   ]
  },
  {
   "cell_type": "markdown",
   "metadata": {
    "hidden": true
   },
   "source": [
    "Strategy is to use the data in 0.0 labeled as no pain and all others as pain"
   ]
  },
  {
   "cell_type": "code",
   "execution_count": 4,
   "metadata": {
    "ExecuteTime": {
     "end_time": "2019-07-16T13:11:19.032654Z",
     "start_time": "2019-07-16T13:11:19.010977Z"
    },
    "hidden": true
   },
   "outputs": [],
   "source": [
    "# Create the new dirctories\n",
    "\n",
    "new_dirs = [\n",
    "    config['home_dir']\n",
    "    , config['train_dir'], config['test_dir'], config['val_dir']\n",
    "    , config['train_pain'], config['train_nopain']\n",
    "    , config['test_pain'], config['test_nopain']\n",
    "    , config['val_pain'], config['val_nopain']\n",
    "           ]\n",
    "\n",
    "if config['do_dataprep']: \n",
    "    if os.path.exists(config['home_dir']):\n",
    "        shutil.rmtree(config['home_dir'])\n",
    "        \n",
    "    for value in new_dirs: \n",
    "        if not os.path.exists(value):\n",
    "            os.mkdir(value)\n",
    "    pain_data_location = os.path.join(config['source'], '0.0')\n",
    "\n",
    "    print('[INFO] Files in pain origin dir: \\t{}'.format(len(os.listdir(pain_data_location))))\n",
    "    print('[INFO] Files in pain train dir: \\t{}'.format(len(os.listdir(config['train_pain']))))\n",
    "    print('[INFO] Files in pain test dir: \\t\\t{}'.format(len(os.listdir(config['test_pain']))))\n",
    "    print('[INFO] Files in pain val dir: \\t\\t{}'.format(len(os.listdir(config['val_pain']))))\n",
    "    \n",
    "    split(\n",
    "        SOURCE = pain_data_location\n",
    "        , TRAINING = config['train_pain'] \n",
    "        , TESTING = config['test_pain'] \n",
    "        , VALIDATION = config['val_pain'] \n",
    "    )\n",
    "\n",
    "    print('[INFO] Files in pain origin dir: \\t{}'.format(len(os.listdir(pain_data_location))))\n",
    "    print('[INFO] Files in pain train dir: \\t{}'.format(len(os.listdir(config['train_pain']))))\n",
    "    print('[INFO] Files in pain test dir: \\t\\t{}'.format(len(os.listdir(config['test_pain']))))\n",
    "    print('[INFO] Files in pain val dir: \\t\\t{}'.format(len(os.listdir(config['val_pain']))))\n",
    "    \n",
    "    print('[INFO] Files in nopain train dir: \\t{}'.format(len(os.listdir(config['train_nopain']))))\n",
    "    print('[INFO] Files in nopain test dir: \\t{}'.format(len(os.listdir(config['test_nopain']))))\n",
    "    print('[INFO] Files in nopain val dir: \\t{}'.format(len(os.listdir(config['val_nopain']))))\n",
    "    \n",
    "    nopain_folders = os.listdir(config['source'])\n",
    "    nopain_folders.remove('0.0')\n",
    "    \n",
    "    for folder in nopain_folders:\n",
    "        split(\n",
    "            SOURCE = os.path.join(config['source'], folder)\n",
    "            , TRAINING = config['train_nopain'] \n",
    "            , TESTING = config['test_nopain'] \n",
    "            , VALIDATION = config['val_nopain'] \n",
    "        )\n",
    "\n",
    "    print('[INFO] Files in pain train dir: \\t{}'.format(len(os.listdir(config['train_pain']))))\n",
    "    print('[INFO] Files in pain test dir: \\t\\t{}'.format(len(os.listdir(config['test_pain']))))\n",
    "    print('[INFO] Files in pain val dir: \\t\\t{}'.format(len(os.listdir(config['val_pain']))))"
   ]
  },
  {
   "cell_type": "markdown",
   "metadata": {},
   "source": [
    "#  Modelling"
   ]
  },
  {
   "cell_type": "markdown",
   "metadata": {},
   "source": [
    "## Helper Functions"
   ]
  },
  {
   "cell_type": "code",
   "execution_count": 5,
   "metadata": {
    "ExecuteTime": {
     "end_time": "2019-07-16T13:14:56.167238Z",
     "start_time": "2019-07-16T13:14:56.161941Z"
    }
   },
   "outputs": [],
   "source": [
    "def create_and_compile_model(): \n",
    "    model = k.models.Sequential([\n",
    "        k.layers.Conv2D(4, (3,3), activation='relu', input_shape=(*config['target_size'], 3),  name='mh-conv-1')\n",
    "        , k.layers.MaxPooling2D(4, 4, name='mh-maxpool-1')\n",
    "        , k.layers.Conv2D(8, (3,3), activation='relu', name='mh-conv-2')\n",
    "        , k.layers.MaxPooling2D(4,4, name='mh-maxpool-2')\n",
    "#         , k.layers.Conv2D(64, (3,3), activation='relu', name='mh-conv-3')\n",
    "#         , k.layers.MaxPooling2D(2,2, name='mh-maxpool-3')\n",
    "#         , k.layers.Conv2D(128, (3,3), activation='relu', name='mh-conv-4')\n",
    "#         , k.layers.MaxPooling2D(4,4, name='mh-maxpool-4')\n",
    "        , k.layers.Flatten(name='mh-flatten-1')\n",
    "        , k.layers.Dense(128, activation='relu', name='mh-dense-1')\n",
    "        , k.layers.Dense(1, activation='sigmoid', name='mh-dense-output')\n",
    "    ])\n",
    "    \n",
    "    model.compile(\n",
    "        optimizer=RMSprop(lr=0.001)\n",
    "        , loss='binary_crossentropy'\n",
    "#         , metrics=[keras_metrics.precision(), keras_metrics.recall()]\n",
    "        , metrics=['accuracy']\n",
    "    )\n",
    "    \n",
    "    return model"
   ]
  },
  {
   "cell_type": "code",
   "execution_count": 6,
   "metadata": {
    "ExecuteTime": {
     "end_time": "2019-07-16T13:14:56.948738Z",
     "start_time": "2019-07-16T13:14:56.945013Z"
    }
   },
   "outputs": [],
   "source": [
    "class myCallback(tf.keras.callbacks.Callback):\n",
    "    def on_epoch_end(self, epoch, logs={}):\n",
    "        if(logs.get('acc')>0.99):\n",
    "            print('\\nReached 99% accuracy which is satisfactory so stopped training!')\n",
    "            self.model.stop_training = True\n",
    "        if(logs.get('acc')<0.4):\n",
    "            print('\\nUnable to go over 40% accuracy, so cancelling run!')\n",
    "            self.model.stop_training = True\n",
    "\n",
    "markscallbacks = myCallback()"
   ]
  },
  {
   "cell_type": "markdown",
   "metadata": {},
   "source": [
    "## Image Generators"
   ]
  },
  {
   "cell_type": "code",
   "execution_count": 7,
   "metadata": {
    "ExecuteTime": {
     "end_time": "2019-07-16T13:15:00.843872Z",
     "start_time": "2019-07-16T13:14:59.956254Z"
    }
   },
   "outputs": [
    {
     "name": "stdout",
     "output_type": "stream",
     "text": [
      "Found 38711 images belonging to 2 classes.\n"
     ]
    }
   ],
   "source": [
    "config['train_count'] = sum([len(files) for r, d, files in os.walk(config['train_dir'])])\n",
    "config['train_steps'] = math.ceil(config['train_count']/config['train_batch'])\n",
    "\n",
    "train_datagen = ImageDataGenerator(rescale=1.0/255.0)\n",
    "\n",
    "train_generator = train_datagen.flow_from_directory(\n",
    "    config['train_dir']\n",
    "    , target_size = config['target_size'] \n",
    "    , batch_size = config['train_batch']\n",
    "    , class_mode = 'binary'\n",
    ")"
   ]
  },
  {
   "cell_type": "code",
   "execution_count": 8,
   "metadata": {
    "ExecuteTime": {
     "end_time": "2019-07-16T13:15:02.343562Z",
     "start_time": "2019-07-16T13:15:02.230153Z"
    }
   },
   "outputs": [
    {
     "name": "stdout",
     "output_type": "stream",
     "text": [
      "Found 4854 images belonging to 2 classes.\n"
     ]
    }
   ],
   "source": [
    "config['val_count'] = sum([len(files) for r, d, files in os.walk(config['val_dir'])])\n",
    "config['val_steps'] = math.ceil(config['val_count']/config['val_batch'])\n",
    "\n",
    "val_datagen = ImageDataGenerator(rescale=1.0/255.0)\n",
    "\n",
    "val_generator = val_datagen.flow_from_directory(\n",
    "    config['val_dir']  # This is the source directory for training images\n",
    "    , target_size = config['target_size']  # All images will be resized to 150x150 for compressing\n",
    "    , batch_size = config['val_batch']\n",
    "    , class_mode = 'binary' # Since we use binary_crossentropy loss, we need binary labels\n",
    ")"
   ]
  },
  {
   "cell_type": "code",
   "execution_count": 9,
   "metadata": {
    "ExecuteTime": {
     "end_time": "2019-07-16T13:15:03.214622Z",
     "start_time": "2019-07-16T13:15:03.102142Z"
    }
   },
   "outputs": [
    {
     "name": "stdout",
     "output_type": "stream",
     "text": [
      "Found 4833 images belonging to 2 classes.\n"
     ]
    }
   ],
   "source": [
    "config['test_count'] = sum([len(files) for r, d, files in os.walk(config['test_dir'])])\n",
    "config['test_steps'] = math.ceil(config['test_count']/config['test_batch'])\n",
    "\n",
    "test_datagen = ImageDataGenerator(rescale=1.0/255.0)\n",
    "\n",
    "test_generator = test_datagen.flow_from_directory(\n",
    "    config['test_dir']  # This is the source directory for training images\n",
    "    , target_size = config['target_size']  # All images will be resized to 150x150 for compressing\n",
    "    , batch_size = config['test_batch']\n",
    "    , class_mode = 'binary' # Since we use binary_crossentropy loss, we need binary labels\n",
    ")"
   ]
  },
  {
   "cell_type": "markdown",
   "metadata": {},
   "source": [
    "## Training"
   ]
  },
  {
   "cell_type": "code",
   "execution_count": 10,
   "metadata": {
    "ExecuteTime": {
     "end_time": "2019-07-16T13:15:04.974517Z",
     "start_time": "2019-07-16T13:15:04.772237Z"
    }
   },
   "outputs": [
    {
     "name": "stdout",
     "output_type": "stream",
     "text": [
      "WARNING:tensorflow:From /anaconda/envs/py36/lib/python3.6/site-packages/tensorflow/python/ops/resource_variable_ops.py:435: colocate_with (from tensorflow.python.framework.ops) is deprecated and will be removed in a future version.\n",
      "Instructions for updating:\n",
      "Colocations handled automatically by placer.\n",
      "_________________________________________________________________\n",
      "Layer (type)                 Output Shape              Param #   \n",
      "=================================================================\n",
      "mh-conv-1 (Conv2D)           (None, 318, 238, 4)       112       \n",
      "_________________________________________________________________\n",
      "mh-maxpool-1 (MaxPooling2D)  (None, 79, 59, 4)         0         \n",
      "_________________________________________________________________\n",
      "mh-conv-2 (Conv2D)           (None, 77, 57, 8)         296       \n",
      "_________________________________________________________________\n",
      "mh-maxpool-2 (MaxPooling2D)  (None, 19, 14, 8)         0         \n",
      "_________________________________________________________________\n",
      "mh-flatten-1 (Flatten)       (None, 2128)              0         \n",
      "_________________________________________________________________\n",
      "mh-dense-1 (Dense)           (None, 128)               272512    \n",
      "_________________________________________________________________\n",
      "mh-dense-output (Dense)      (None, 1)                 129       \n",
      "=================================================================\n",
      "Total params: 273,049\n",
      "Trainable params: 273,049\n",
      "Non-trainable params: 0\n",
      "_________________________________________________________________\n"
     ]
    }
   ],
   "source": [
    "model = create_and_compile_model()\n",
    "\n",
    "model.summary()"
   ]
  },
  {
   "cell_type": "code",
   "execution_count": 11,
   "metadata": {
    "ExecuteTime": {
     "end_time": "2019-07-16T13:18:27.614430Z",
     "start_time": "2019-07-16T13:15:08.125359Z"
    }
   },
   "outputs": [
    {
     "name": "stdout",
     "output_type": "stream",
     "text": [
      "WARNING:tensorflow:From /anaconda/envs/py36/lib/python3.6/site-packages/tensorflow/python/ops/math_ops.py:3066: to_int32 (from tensorflow.python.ops.math_ops) is deprecated and will be removed in a future version.\n",
      "Instructions for updating:\n",
      "Use tf.cast instead.\n",
      "49/49 [==============================] - 21s 435ms/step - loss: 0.3633 - acc: 0.8455\n",
      "388/388 [==============================] - 197s 507ms/step - loss: 0.3906 - acc: 0.8388 - val_loss: 0.3633 - val_acc: 0.8455\n"
     ]
    }
   ],
   "source": [
    "history = model.fit_generator(\n",
    "    train_generator\n",
    "    , steps_per_epoch = config['train_steps']\n",
    "    , epochs = config['epochs']\n",
    "    , validation_data = val_generator\n",
    "    , validation_steps = config['val_steps']\n",
    "    , callbacks=[markscallbacks]\n",
    ")"
   ]
  },
  {
   "cell_type": "code",
   "execution_count": 53,
   "metadata": {
    "ExecuteTime": {
     "end_time": "2019-07-16T18:16:42.133935Z",
     "start_time": "2019-07-16T18:16:42.131719Z"
    }
   },
   "outputs": [],
   "source": [
    "predicted = model.predict_generator(test_generator, steps=config['test_steps'])\n",
    "labels = test_generator.classes"
   ]
  },
  {
   "cell_type": "code",
   "execution_count": 59,
   "metadata": {
    "ExecuteTime": {
     "end_time": "2019-07-16T18:19:46.234623Z",
     "start_time": "2019-07-16T18:19:46.088354Z"
    }
   },
   "outputs": [
    {
     "data": {
      "image/png": "[encoded data removed]",
      "text/plain": [
       "<Figure size 432x288 with 1 Axes>"
      ]
     },
     "metadata": {
      "needs_background": "light"
     },
     "output_type": "display_data"
    }
   ],
   "source": [
    "fpr_keras, tpr_keras, thresholds_keras = roc_curve(labels, predicted)\n",
    "\n",
    "auc_keras = auc(fpr_keras, tpr_keras)\n",
    "\n",
    "plt.figure(1)\n",
    "plt.plot([0, 1], [0, 1], 'k--')\n",
    "plt.plot(fpr_keras, tpr_keras, label='Keras (area = {:.3f})'.format(auc_keras))\n",
    "plt.xlabel('False positive rate')\n",
    "plt.ylabel('True positive rate')\n",
    "plt.title('ROC curve')\n",
    "plt.legend(loc='best')\n",
    "plt.show()"
   ]
  },
  {
   "cell_type": "code",
   "execution_count": null,
   "metadata": {},
   "outputs": [],
   "source": []
  },
  {
   "cell_type": "code",
   "execution_count": null,
   "metadata": {},
   "outputs": [],
   "source": []
  },
  {
   "cell_type": "code",
   "execution_count": null,
   "metadata": {},
   "outputs": [],
   "source": []
  },
  {
   "cell_type": "code",
   "execution_count": null,
   "metadata": {
    "ExecuteTime": {
     "end_time": "2019-07-16T13:11:31.912985Z",
     "start_time": "2019-07-16T13:11:17.140Z"
    }
   },
   "outputs": [],
   "source": [
    "res_dict = {\n",
    "    'epochs' : config['epochs']\n",
    "    , 'accuracy' : history.history['acc']\n",
    "    , 'val_accuracy' : history.history['val_acc']\n",
    "    , 'loss' : history.history['loss']\n",
    "    , 'val_loss' : history.history['val_loss']\n",
    "}\n",
    "\n",
    "df = pd.DataFrame(res_dict)\n",
    "os.mkdir(os.path.join(os.getcwd(), 'trial01'))\n",
    "df.to_csv(os.path.join(os.getcwd(), 'trial01', '01 - results.csv'))\n",
    "\n",
    "model.save(os.path.join(os.getcwd(), 'trial01', 'model.h5'))\n"
   ]
  },
  {
   "cell_type": "code",
   "execution_count": null,
   "metadata": {
    "ExecuteTime": {
     "end_time": "2019-07-16T13:11:31.913997Z",
     "start_time": "2019-07-16T13:11:17.141Z"
    }
   },
   "outputs": [],
   "source": [
    "# import matplotlib.pyplot as plt\n",
    "# acc = history.history['acc']\n",
    "# val_acc = history.history['val_acc']\n",
    "# loss = history.history['loss']\n",
    "# val_loss = history.history['val_loss']\n",
    "\n",
    "# epochs = range(len(acc))\n",
    "\n",
    "# plt.plot(epochs, acc, 'bo', label='Training accuracy')\n",
    "# plt.plot(epochs, val_acc, 'b', label='Validation accuracy')\n",
    "# plt.title('Training and validation accuracy')\n",
    "\n",
    "# plt.figure()\n",
    "\n",
    "# plt.plot(epochs, loss, 'bo', label='Training Loss')\n",
    "# plt.plot(epochs, val_loss, 'b', label='Validation Loss')\n",
    "# plt.title('Training and validation loss')\n",
    "# plt.legend()\n",
    "\n",
    "# plt.show()"
   ]
  },
  {
   "cell_type": "markdown",
   "metadata": {
    "ExecuteTime": {
     "end_time": "2019-07-15T22:37:31.373106Z",
     "start_time": "2019-07-15T22:37:31.367348Z"
    }
   },
   "source": [
    "## Looking at Results"
   ]
  },
  {
   "cell_type": "code",
   "execution_count": null,
   "metadata": {
    "ExecuteTime": {
     "end_time": "2019-07-16T13:11:31.914918Z",
     "start_time": "2019-07-16T13:11:17.144Z"
    }
   },
   "outputs": [],
   "source": [
    "# for n in np.arange(1,25):\n",
    "#     file=os.listdir(config['test_pain'])[n]\n",
    "#     img = image.load_img(os.path.join(config['test_pain'], file), target_size=config['target_size'])\n",
    "#     x = image.img_to_array(img)\n",
    "#     x = x/255.0\n",
    "#     x = np.expand_dims(x, axis=0)\n",
    "\n",
    "#     images = np.vstack([x])\n",
    "#     classes = model.predict(images, batch_size=10)\n",
    "# #     print(classes[0])\n",
    "#     if classes[0]<0.5:\n",
    "#         print(file + \" is a nopain pic, result is: \" + str(classes[0]))\n",
    "#     else:\n",
    "#         print(file + \" is a pain pic, result is: \" + str(classes[0]))"
   ]
  },
  {
   "cell_type": "code",
   "execution_count": null,
   "metadata": {
    "ExecuteTime": {
     "end_time": "2019-07-16T13:11:31.915894Z",
     "start_time": "2019-07-16T13:11:17.146Z"
    }
   },
   "outputs": [],
   "source": [
    "# plt.imshow(image.load_img(os.path.join(config['test_pain'], 'bg096t1aaaff246.png')))"
   ]
  },
  {
   "cell_type": "code",
   "execution_count": null,
   "metadata": {
    "ExecuteTime": {
     "start_time": "2019-07-16T13:13:41.980Z"
    }
   },
   "outputs": [],
   "source": [
    "import os, signal\n",
    "os.kill(os.getpid(), signal.SIGKILL)"
   ]
  }
 ],
 "metadata": {
  "kernelspec": {
   "display_name": "Python 3.6 - AzureML",
   "language": "python",
   "name": "python3-azureml"
  },
  "language_info": {
   "codemirror_mode": {
    "name": "ipython",
    "version": 3
   },
   "file_extension": ".py",
   "mimetype": "text/x-python",
   "name": "python",
   "nbconvert_exporter": "python",
   "pygments_lexer": "ipython3",
   "version": "3.6.8"
  },
  "toc": {
   "base_numbering": 1,
   "nav_menu": {},
   "number_sections": true,
   "sideBar": true,
   "skip_h1_title": false,
   "title_cell": "Table of Contents",
   "title_sidebar": "Contents",
   "toc_cell": false,
   "toc_position": {},
   "toc_section_display": true,
   "toc_window_display": false
  }
 },
 "nbformat": 4,
 "nbformat_minor": 2
}
