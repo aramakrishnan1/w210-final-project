{
 "cells": [
  {
   "cell_type": "markdown",
   "metadata": {},
   "source": [
    "# Importing Libraries"
   ]
  },
  {
   "cell_type": "code",
   "execution_count": 1,
   "metadata": {},
   "outputs": [
    {
     "name": "stderr",
     "output_type": "stream",
     "text": [
      "Using TensorFlow backend.\n"
     ]
    }
   ],
   "source": [
    "import tensorflow as tf\n",
    "import keras as k\n",
    "import numpy as np\n",
    "import matplotlib.pyplot as plt\n",
    "import matplotlib.image as mpimg\n",
    "import pandas as pd\n",
    "from sklearn.utils import shuffle\n",
    "import os, argparse, random, pickle, cv2, fnmatch\n",
    "from os.path import join\n",
    "\n",
    "%matplotlib inline"
   ]
  },
  {
   "cell_type": "markdown",
   "metadata": {},
   "source": [
    "# Labels\n",
    "## Create a list of labels"
   ]
  },
  {
   "cell_type": "code",
   "execution_count": 26,
   "metadata": {},
   "outputs": [
    {
     "name": "stdout",
     "output_type": "stream",
     "text": [
      "         pspi_score\n",
      "count  48398.000000\n",
      "mean       0.446981\n",
      "std        1.302021\n",
      "min        0.000000\n",
      "25%        0.000000\n",
      "50%        0.000000\n",
      "75%        0.000000\n",
      "max       15.000000\n",
      "\n",
      "[INFO] TABLE EXAMPLE CAPTURED BELOW\n"
     ]
    },
    {
     "data": {
      "text/html": [
       "<div>\n",
       "<style scoped>\n",
       "    .dataframe tbody tr th:only-of-type {\n",
       "        vertical-align: middle;\n",
       "    }\n",
       "\n",
       "    .dataframe tbody tr th {\n",
       "        vertical-align: top;\n",
       "    }\n",
       "\n",
       "    .dataframe thead th {\n",
       "        text-align: right;\n",
       "    }\n",
       "</style>\n",
       "<table border=\"1\" class=\"dataframe\">\n",
       "  <thead>\n",
       "    <tr style=\"text-align: right;\">\n",
       "      <th></th>\n",
       "      <th>image</th>\n",
       "      <th>pspi_score</th>\n",
       "    </tr>\n",
       "  </thead>\n",
       "  <tbody>\n",
       "    <tr>\n",
       "      <th>0</th>\n",
       "      <td>fn059t2afunaff048</td>\n",
       "      <td>0.0</td>\n",
       "    </tr>\n",
       "  </tbody>\n",
       "</table>\n",
       "</div>"
      ],
      "text/plain": [
       "               image  pspi_score\n",
       "0  fn059t2afunaff048         0.0"
      ]
     },
     "execution_count": 26,
     "metadata": {},
     "output_type": "execute_result"
    }
   ],
   "source": [
    "images = []\n",
    "sequences = []\n",
    "image_sequences = []\n",
    "pspi_scores = []\n",
    "\n",
    "\n",
    "#extracting the images name and PSPI Score\n",
    "for subject_id in os.listdir('Images'):\n",
    "    if subject_id != '.DS_Store':\n",
    "        for sequence_id in os.listdir(join('Images', subject_id)):\n",
    "            if sequence_id != '.DS_Store':\n",
    "                sequences.append(sequence_id)\n",
    "                for image in os.listdir(join('Images', subject_id, sequence_id)):\n",
    "                    if image != '.DS_Store':\n",
    "                        images.append(image.split('.')[0])\n",
    "                        image_sequences.append(sequence_id)\n",
    "                for pspi_file in os.listdir(join('Frame_Labels', 'PSPI', subject_id, sequence_id)):\n",
    "                    with open(join('Frame_Labels', 'PSPI', subject_id, sequence_id, pspi_file), 'r') as f_in:\n",
    "                        pspi_scores.append(float(f_in.read().strip()))\n",
    "                        \n",
    "#Creating Table for images and PSPI                        \n",
    "labels_data = {'image': images,\n",
    "              'pspi_score': pspi_scores}\n",
    "\n",
    "labels_df = pd.DataFrame(data=labels_data)\n",
    "\n",
    "#Checking Output format and content\n",
    "print(labels_df.describe())\n",
    "print('\\n[INFO] TABLE EXAMPLE CAPTURED BELOW')\n",
    "labels_df[:1]\n"
   ]
  },
  {
   "cell_type": "markdown",
   "metadata": {},
   "source": [
    "# Images\n",
    "## Create a list of the paths of the files that contain the Images"
   ]
  },
  {
   "cell_type": "code",
   "execution_count": 27,
   "metadata": {},
   "outputs": [
    {
     "name": "stdout",
     "output_type": "stream",
     "text": [
      "images_path shape: (48398, 1)\n",
      "\n",
      "[INFO] TABLE EXAMPLE CAPTURED BELOW\n"
     ]
    },
    {
     "data": {
      "text/html": [
       "<div>\n",
       "<style scoped>\n",
       "    .dataframe tbody tr th:only-of-type {\n",
       "        vertical-align: middle;\n",
       "    }\n",
       "\n",
       "    .dataframe tbody tr th {\n",
       "        vertical-align: top;\n",
       "    }\n",
       "\n",
       "    .dataframe thead th {\n",
       "        text-align: right;\n",
       "    }\n",
       "</style>\n",
       "<table border=\"1\" class=\"dataframe\">\n",
       "  <thead>\n",
       "    <tr style=\"text-align: right;\">\n",
       "      <th></th>\n",
       "      <th>image_path</th>\n",
       "      <th>image</th>\n",
       "    </tr>\n",
       "  </thead>\n",
       "  <tbody>\n",
       "    <tr>\n",
       "      <th>0</th>\n",
       "      <td>/data/home/maj/notebooks/w210-final-project/MA...</td>\n",
       "      <td>fn059t2afunaff048</td>\n",
       "    </tr>\n",
       "  </tbody>\n",
       "</table>\n",
       "</div>"
      ],
      "text/plain": [
       "                                          image_path              image\n",
       "0  /data/home/maj/notebooks/w210-final-project/MA...  fn059t2afunaff048"
      ]
     },
     "execution_count": 27,
     "metadata": {},
     "output_type": "execute_result"
    }
   ],
   "source": [
    "images_path = []\n",
    "def find_files(directory, pattern):\n",
    "   for root, dirs, files in os.walk(directory):\n",
    "       for basename in files:\n",
    "           if fnmatch.fnmatch(basename, pattern):\n",
    "               filename = os.path.join(root, basename)\n",
    "               yield filename\n",
    "\n",
    "\n",
    "for filename in find_files('/data/home/maj/notebooks/w210-final-project/MAJ', '*.png'):\n",
    "   images_path.append(filename)\n",
    "\n",
    "images_path_df = pd.DataFrame(data=images_path)\n",
    "\n",
    "print(\"images_path shape:\", images_path_df.shape)\n",
    "\n",
    "#extracting the .png file name from the first dataset and joining with the image & PSPI score dataset\n",
    "images_path_df\n",
    "\n",
    "#renaming dataframe column to image path\n",
    "images_path_df.columns = ['image_path']\n",
    "\n",
    "# new temp data frame with split value columns \n",
    "temp = images_path_df[\"image_path\"].str.split(\"/\", n = 10, expand = True) \n",
    "temp.columns = ['zero','one','two','three','four','five','six','seven', 'eight','nine', 'ten']\n",
    "\n",
    "\n",
    "# Create new temp dataframe that has image name without .png to later do a merge\n",
    "temp2 = temp[\"ten\"].str.split(\".\", n = 1, expand = True) \n",
    "temp2.columns = ['image','ext']\n",
    "temp2.drop(columns =[\"ext\"], inplace = True) \n",
    "\n",
    "images_df = pd.concat([images_path_df, temp2], axis =1)\n",
    "print('\\n[INFO] TABLE EXAMPLE CAPTURED BELOW')\n",
    "images_df[:1]"
   ]
  },
  {
   "cell_type": "markdown",
   "metadata": {},
   "source": [
    "# Merging\n",
    "## Creating table with Image Path, Image Name and PSPI Score"
   ]
  },
  {
   "cell_type": "code",
   "execution_count": 29,
   "metadata": {},
   "outputs": [
    {
     "name": "stdout",
     "output_type": "stream",
     "text": [
      "merged table:  (48398, 3)\n",
      "\n",
      "[INFO] Final Dataset ready for CNN\n",
      "\n",
      "[INFO] MERGED TABLE EXAMPLE CAPTURED BELOW\n"
     ]
    },
    {
     "data": {
      "text/html": [
       "<div>\n",
       "<style scoped>\n",
       "    .dataframe tbody tr th:only-of-type {\n",
       "        vertical-align: middle;\n",
       "    }\n",
       "\n",
       "    .dataframe tbody tr th {\n",
       "        vertical-align: top;\n",
       "    }\n",
       "\n",
       "    .dataframe thead th {\n",
       "        text-align: right;\n",
       "    }\n",
       "</style>\n",
       "<table border=\"1\" class=\"dataframe\">\n",
       "  <thead>\n",
       "    <tr style=\"text-align: right;\">\n",
       "      <th></th>\n",
       "      <th>image_path</th>\n",
       "      <th>image</th>\n",
       "      <th>pspi_score</th>\n",
       "    </tr>\n",
       "  </thead>\n",
       "  <tbody>\n",
       "    <tr>\n",
       "      <th>0</th>\n",
       "      <td>/data/home/maj/notebooks/w210-final-project/MA...</td>\n",
       "      <td>fn059t2afunaff048</td>\n",
       "      <td>0.0</td>\n",
       "    </tr>\n",
       "  </tbody>\n",
       "</table>\n",
       "</div>"
      ],
      "text/plain": [
       "                                          image_path              image  \\\n",
       "0  /data/home/maj/notebooks/w210-final-project/MA...  fn059t2afunaff048   \n",
       "\n",
       "   pspi_score  \n",
       "0         0.0  "
      ]
     },
     "execution_count": 29,
     "metadata": {},
     "output_type": "execute_result"
    }
   ],
   "source": [
    "#doing a merge on the .png value to ensure that the path will match the PSPI value\n",
    "merged_inner = pd.merge(left=labels_df,right=images_df, left_on='image', right_on='image')\n",
    "print('merged table: ', merged_inner.shape)\n",
    "\n",
    "#reordering columns\n",
    "merged_inner= merged_inner [['image_path', 'image', 'pspi_score']]\n",
    "\n",
    "#Final Dataset for pain dataset to by used in CNN\n",
    "pain_data = merged_inner\n",
    "\n",
    "\n",
    "print('\\n[INFO] Final Dataset ready for CNN')\n",
    "\n",
    "\n",
    "print('\\n[INFO] MERGED TABLE EXAMPLE CAPTURED BELOW')\n",
    "pain_data[:1]\n"
   ]
  },
  {
   "cell_type": "markdown",
   "metadata": {},
   "source": [
    "# Load & Save to Disk"
   ]
  },
  {
   "cell_type": "code",
   "execution_count": 30,
   "metadata": {},
   "outputs": [
    {
     "name": "stdout",
     "output_type": "stream",
     "text": [
      "[INFO] loading images...\n",
      "[INFO] Pictures loaded\n",
      "[INFO] Array of data: (48398, 240, 320, 3), array of labels: (48398,)\n",
      "[INFO] Saving ...\n",
      "[INFO] Datasets Saved\n"
     ]
    }
   ],
   "source": [
    "# Shuffle Dataset\n",
    "random.seed(42)\n",
    "pain_data = shuffle(pain_data)\n",
    "\n",
    "# initialize the data and labels\n",
    "image_list = [] \n",
    "pic_path = []\n",
    "\n",
    "label_list = pain_data['pspi_score'].tolist() \n",
    "\n",
    "# loop over the input images\n",
    "print(\"[INFO] loading images...\")\n",
    "\n",
    "imagePath = list(pain_data['image_path'])\n",
    "\n",
    "for imagePath in imagePath:\n",
    "    image = cv2.imread(imagePath)\n",
    "    image = cv2.resize(image, (320, 240)) # resize\n",
    "    image_list.append(image)\n",
    "    pic_path.append(imagePath)\n",
    "    \n",
    "print(\"[INFO] Pictures loaded\")\n",
    "\n",
    "final_Array = np.array(image_list)\n",
    "final_Labels = np.array(label_list)\n",
    "print('[INFO] Array of data: {}, array of labels: {}'.format(finalArray.shape, finalLabels.shape))\n",
    "print('[INFO] Saving ...')\n",
    "np.save('Images_Data', final_Array)\n",
    "np.save('Images_Labels', final_Labels)\n",
    "print('[INFO] Datasets Saved')"
   ]
  }
 ],
 "metadata": {
  "kernelspec": {
   "display_name": "Python 3.6 - AzureML",
   "language": "python",
   "name": "python3-azureml"
  },
  "language_info": {
   "codemirror_mode": {
    "name": "ipython",
    "version": 3
   },
   "file_extension": ".py",
   "mimetype": "text/x-python",
   "name": "python",
   "nbconvert_exporter": "python",
   "pygments_lexer": "ipython3",
   "version": "3.6.8"
  }
 },
 "nbformat": 4,
 "nbformat_minor": 2
}
