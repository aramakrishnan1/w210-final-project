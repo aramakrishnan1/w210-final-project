{
 "cells": [
  {
   "cell_type": "markdown",
   "metadata": {},
   "source": [
    "# Imports & Config"
   ]
  },
  {
   "cell_type": "code",
   "execution_count": 1,
   "metadata": {
    "ExecuteTime": {
     "end_time": "2019-07-16T23:57:56.969321Z",
     "start_time": "2019-07-16T23:57:55.314166Z"
    }
   },
   "outputs": [
    {
     "name": "stdout",
     "output_type": "stream",
     "text": [
      "[INFO] Imports done.  Using Tensorflow version: 1.13.1, and Keras version: 2.2.4-tf\n"
     ]
    }
   ],
   "source": [
    "import os, shutil, argparse, random, pickle, cv2, fnmatch, PIL, math, signal\n",
    "from tqdm import tqdm_notebook as tqdm\n",
    "import tensorflow as tf\n",
    "import tensorflow.keras as k\n",
    "import numpy as np\n",
    "import pandas as pd\n",
    "from sklearn.utils import shuffle\n",
    "from tensorflow.keras.optimizers import RMSprop, Adam\n",
    "from tensorflow.keras.preprocessing.image import ImageDataGenerator, img_to_array, load_img\n",
    "from tensorflow.keras.preprocessing import image\n",
    "from sklearn.metrics import roc_curve\n",
    "import matplotlib.pyplot as plt\n",
    "from sklearn.metrics import auc\n",
    "from tensorflow.keras.callbacks import EarlyStopping, ModelCheckpoint, ReduceLROnPlateau\n",
    "\n",
    "%matplotlib inline\n",
    "\n",
    "print('[INFO] Imports done.  Using Tensorflow version: {}, and Keras version: {}'.format(tf.__version__, k.__version__))"
   ]
  },
  {
   "cell_type": "code",
   "execution_count": 2,
   "metadata": {
    "ExecuteTime": {
     "end_time": "2019-07-16T23:58:05.843244Z",
     "start_time": "2019-07-16T23:58:05.835247Z"
    }
   },
   "outputs": [],
   "source": [
    "config={}\n",
    "\n",
    "config['do_dataprep'] = False\n",
    "\n",
    "config['source'] = os.path.join(os.getcwd(), 'source_data')\n",
    "config['home_dir'] = os.path.join(os.getcwd(), 'data_binary_split')\n",
    "\n",
    "config['train_dir'] = os.path.join(os.getcwd(), 'data_binary_split', 'train')\n",
    "config['test_dir'] = os.path.join(os.getcwd(), 'data_binary_split', 'test')\n",
    "config['val_dir'] = os.path.join(os.getcwd(), 'data_binary_split', 'validation')\n",
    "\n",
    "config['train_pain'] = os.path.join(config['train_dir'], 'pain')\n",
    "config['train_nopain'] = os.path.join(config['train_dir'], 'nopain')\n",
    "config['test_pain'] = os.path.join(config['test_dir'], 'pain')\n",
    "config['test_nopain'] = os.path.join(config['test_dir'], 'nopain')\n",
    "config['val_pain'] = os.path.join(config['val_dir'], 'pain')\n",
    "config['val_nopain'] = os.path.join(config['val_dir'], 'nopain')\n",
    "\n",
    "config['val_split'] = 0.1\n",
    "config['test_split'] = 0.1\n",
    "\n",
    "config['target_size'] = (320, 240)\n",
    "\n",
    "config['train_batch'] = 100\n",
    "config['test_batch'] = 100\n",
    "config['val_batch'] = 100\n",
    "\n",
    "config['epochs'] = 50\n",
    "\n",
    "config['set_limit'] = True\n",
    "config['limit'] = 1200"
   ]
  },
  {
   "cell_type": "markdown",
   "metadata": {},
   "source": [
    "# Data Prep"
   ]
  },
  {
   "cell_type": "markdown",
   "metadata": {},
   "source": [
    "## Split Helper Function"
   ]
  },
  {
   "cell_type": "code",
   "execution_count": 3,
   "metadata": {
    "ExecuteTime": {
     "end_time": "2019-07-16T23:58:13.396072Z",
     "start_time": "2019-07-16T23:58:13.388522Z"
    }
   },
   "outputs": [],
   "source": [
    "def split(SOURCE, TRAINING, TESTING, VALIDATION):\n",
    "    \n",
    "    print('[INFO] In Splitting')\n",
    "\n",
    "    files = []\n",
    "    \n",
    "    for file in os.listdir(SOURCE): \n",
    "        files.append(file)\n",
    "    \n",
    "    # since the limit is less than the # of images, I will just hardcode it.  \n",
    "\n",
    "    training_length = int(len(files) * (1-config['val_split']-config['test_split']))\n",
    "    testing_length = int(len(files) * config['test_split'])\n",
    "    validation_length = int(len(files) * config['val_split'])\n",
    "\n",
    "    shuffled_set = random.sample(files, len(files))\n",
    "\n",
    "    training_set = shuffled_set[0:training_length]\n",
    "    testing_set = shuffled_set[training_length:training_length+testing_length]\n",
    "    validation_set = shuffled_set[training_length+testing_length:]\n",
    "\n",
    "#     print('[INFO] Creating Training Set')\n",
    "    for filename in tqdm(training_set):\n",
    "        this_file = os.path.join(SOURCE, filename)\n",
    "        destination = os.path.join(TRAINING, filename)\n",
    "        shutil.copyfile(this_file, destination)\n",
    "\n",
    "#     print('[INFO] Creating Testing Set')\n",
    "    for filename in tqdm(testing_set):\n",
    "        this_file = os.path.join(SOURCE, filename)\n",
    "        destination = os.path.join(TESTING, filename)\n",
    "        shutil.copyfile(this_file, destination)\n",
    "\n",
    "#     print('[INFO] Creating Validation Set')\n",
    "    for filename in tqdm(validation_set):\n",
    "        this_file = os.path.join(SOURCE, filename)\n",
    "        destination = os.path.join(VALIDATION, filename)\n",
    "        shutil.copyfile(this_file, destination)"
   ]
  },
  {
   "cell_type": "markdown",
   "metadata": {},
   "source": [
    "## Creating Directories"
   ]
  },
  {
   "cell_type": "markdown",
   "metadata": {},
   "source": [
    "Strategy is to use the data in 0.0 labeled as no pain and all others as pain"
   ]
  },
  {
   "cell_type": "code",
   "execution_count": 4,
   "metadata": {
    "ExecuteTime": {
     "end_time": "2019-07-16T23:58:17.098937Z",
     "start_time": "2019-07-16T23:58:17.086884Z"
    }
   },
   "outputs": [],
   "source": [
    "# Create the new dirctories\n",
    "\n",
    "new_dirs = [\n",
    "    config['home_dir']\n",
    "    , config['train_dir'], config['test_dir'], config['val_dir']\n",
    "    , config['train_pain'], config['train_nopain']\n",
    "    , config['test_pain'], config['test_nopain']\n",
    "    , config['val_pain'], config['val_nopain']\n",
    "           ]\n",
    "\n",
    "if config['do_dataprep']: \n",
    "    if os.path.exists(config['home_dir']):\n",
    "        shutil.rmtree(config['home_dir'])\n",
    "        \n",
    "    for value in new_dirs: \n",
    "        if not os.path.exists(value):\n",
    "            os.mkdir(value)\n",
    "    pain_data_location = os.path.join(config['source'], '0.0')\n",
    "\n",
    "    print('[INFO] Files in pain origin dir: \\t{}'.format(len(os.listdir(pain_data_location))))\n",
    "    print('[INFO] Files in pain train dir: \\t{}'.format(len(os.listdir(config['train_pain']))))\n",
    "    print('[INFO] Files in pain test dir: \\t\\t{}'.format(len(os.listdir(config['test_pain']))))\n",
    "    print('[INFO] Files in pain val dir: \\t\\t{}'.format(len(os.listdir(config['val_pain']))))\n",
    "    \n",
    "    split(\n",
    "        SOURCE = pain_data_location\n",
    "        , TRAINING = config['train_pain'] \n",
    "        , TESTING = config['test_pain'] \n",
    "        , VALIDATION = config['val_pain'] \n",
    "    )\n",
    "\n",
    "    print('[INFO] Files in pain origin dir: \\t{}'.format(len(os.listdir(pain_data_location))))\n",
    "    print('[INFO] Files in pain train dir: \\t{}'.format(len(os.listdir(config['train_pain']))))\n",
    "    print('[INFO] Files in pain test dir: \\t\\t{}'.format(len(os.listdir(config['test_pain']))))\n",
    "    print('[INFO] Files in pain val dir: \\t\\t{}'.format(len(os.listdir(config['val_pain']))))\n",
    "    \n",
    "    print('[INFO] Files in nopain train dir: \\t{}'.format(len(os.listdir(config['train_nopain']))))\n",
    "    print('[INFO] Files in nopain test dir: \\t{}'.format(len(os.listdir(config['test_nopain']))))\n",
    "    print('[INFO] Files in nopain val dir: \\t{}'.format(len(os.listdir(config['val_nopain']))))\n",
    "    \n",
    "    nopain_folders = os.listdir(config['source'])\n",
    "    nopain_folders.remove('0.0')\n",
    "    \n",
    "    for folder in nopain_folders:\n",
    "        split(\n",
    "            SOURCE = os.path.join(config['source'], folder)\n",
    "            , TRAINING = config['train_nopain'] \n",
    "            , TESTING = config['test_nopain'] \n",
    "            , VALIDATION = config['val_nopain'] \n",
    "        )\n",
    "\n",
    "    print('[INFO] Files in pain train dir: \\t{}'.format(len(os.listdir(config['train_pain']))))\n",
    "    print('[INFO] Files in pain test dir: \\t\\t{}'.format(len(os.listdir(config['test_pain']))))\n",
    "    print('[INFO] Files in pain val dir: \\t\\t{}'.format(len(os.listdir(config['val_pain']))))"
   ]
  },
  {
   "cell_type": "code",
   "execution_count": 5,
   "metadata": {
    "ExecuteTime": {
     "end_time": "2019-07-16T23:58:20.959335Z",
     "start_time": "2019-07-16T23:58:20.949170Z"
    }
   },
   "outputs": [
    {
     "name": "stdout",
     "output_type": "stream",
     "text": [
      "/data/home/maj/notebooks/w210-final-project/MAJ/data_binary_split/train/pain: 1200\n",
      "/data/home/maj/notebooks/w210-final-project/MAJ/data_binary_split/train/nopain: 1200\n",
      "/data/home/maj/notebooks/w210-final-project/MAJ/data_binary_split/test/pain: 1200\n",
      "/data/home/maj/notebooks/w210-final-project/MAJ/data_binary_split/test/nopain: 831\n",
      "/data/home/maj/notebooks/w210-final-project/MAJ/data_binary_split/validation/pain: 1200\n",
      "/data/home/maj/notebooks/w210-final-project/MAJ/data_binary_split/validation/nopain: 850\n"
     ]
    }
   ],
   "source": [
    "limiting_dirs = [\n",
    "        config['train_pain'], config['train_nopain']\n",
    "        , config['test_pain'], config['test_nopain']\n",
    "        , config['val_pain'], config['val_nopain']\n",
    "    ]\n",
    "\n",
    "if config['do_dataprep']: \n",
    "\n",
    "    print('Before')\n",
    "    for d in limiting_dirs: \n",
    "        print('{}: {}'.format(d, len(os.listdir(d))))\n",
    "\n",
    "    print('\\nAfter')\n",
    "    for d in limiting_dirs: \n",
    "        counter = 1\n",
    "        for filename in os.listdir(d): \n",
    "            if counter > config['limit']:\n",
    "                os.remove(os.path.join(d, filename))\n",
    "            counter = counter +1\n",
    "\n",
    "for d in limiting_dirs: \n",
    "    print('{}: {}'.format(d, len(os.listdir(d))))"
   ]
  },
  {
   "cell_type": "markdown",
   "metadata": {},
   "source": [
    "#  Modelling"
   ]
  },
  {
   "cell_type": "markdown",
   "metadata": {},
   "source": [
    "## Helper Functions"
   ]
  },
  {
   "cell_type": "code",
   "execution_count": 6,
   "metadata": {
    "ExecuteTime": {
     "end_time": "2019-07-16T23:58:47.252051Z",
     "start_time": "2019-07-16T23:58:47.244100Z"
    }
   },
   "outputs": [],
   "source": [
    "def create_and_compile_model(): \n",
    "    model = k.models.Sequential([\n",
    "        k.layers.Conv2D(16, (3,3), activation='relu', input_shape=(*config['target_size'], 3),  name='mh-conv-1')\n",
    "        , k.layers.MaxPooling2D(2, 2, name='mh-maxpool-1')\n",
    "        , k.layers.Conv2D(32, (3,3), activation='relu', name='mh-conv-2')\n",
    "        , k.layers.MaxPooling2D(2,2, name='mh-maxpool-2')\n",
    "        , k.layers.Conv2D(64, (3,3), activation='relu', name='mh-conv-3')\n",
    "        , k.layers.MaxPooling2D(2,2, name='mh-maxpool-3')\n",
    "        , k.layers.Conv2D(128, (3,3), activation='relu', name='mh-conv-4')\n",
    "        , k.layers.MaxPooling2D(2,2, name='mh-maxpool-4')\n",
    "        , k.layers.Conv2D(256, (3,3), activation='relu', name='mh-conv-5')\n",
    "        , k.layers.MaxPooling2D(2,2, name='mh-maxpool-5')\n",
    "        , k.layers.Flatten(name='mh-flatten-1')\n",
    "        , k.layers.Dense(1024, activation='relu', name='mh-dense-1')\n",
    "        , k.layers.Dropout(0.2)\n",
    "        , k.layers.Dense(128, activation='relu', name='mh-dense-2')\n",
    "        , k.layers.Dropout(0.2)\n",
    "        , k.layers.Dense(1, activation='sigmoid', name='mh-dense-output')\n",
    "    ])\n",
    "    \n",
    "    model.compile(\n",
    "        optimizer=Adam()\n",
    "        , loss='binary_crossentropy'\n",
    "#         , metrics=[keras_metrics.precision(), keras_metrics.recall()]\n",
    "        , metrics=['accuracy']\n",
    "    )\n",
    "    \n",
    "    return model"
   ]
  },
  {
   "cell_type": "code",
   "execution_count": 7,
   "metadata": {
    "ExecuteTime": {
     "end_time": "2019-07-16T23:58:55.275946Z",
     "start_time": "2019-07-16T23:58:55.271862Z"
    }
   },
   "outputs": [],
   "source": [
    "class myCallback(tf.keras.callbacks.Callback):\n",
    "    def on_epoch_end(self, epoch, logs={}):\n",
    "        if(logs.get('acc')>0.99):\n",
    "            print('\\nReached 99% accuracy which is satisfactory so stopped training!')\n",
    "            self.model.stop_training = True\n",
    "        if(logs.get('acc')<0.4):\n",
    "            print('\\nUnable to go over 40% accuracy, so cancelling run!')\n",
    "            self.model.stop_training = True\n",
    "\n",
    "markscallbacks = myCallback()"
   ]
  },
  {
   "cell_type": "markdown",
   "metadata": {},
   "source": [
    "## Image Generators"
   ]
  },
  {
   "cell_type": "code",
   "execution_count": 8,
   "metadata": {
    "ExecuteTime": {
     "end_time": "2019-07-16T23:59:08.510910Z",
     "start_time": "2019-07-16T23:59:08.398422Z"
    }
   },
   "outputs": [
    {
     "name": "stdout",
     "output_type": "stream",
     "text": [
      "Found 2400 images belonging to 2 classes.\n"
     ]
    }
   ],
   "source": [
    "config['train_count'] = sum([len(files) for r, d, files in os.walk(config['train_dir'])])\n",
    "config['train_steps'] = math.ceil(config['train_count']/config['train_batch'])\n",
    "\n",
    "train_datagen = ImageDataGenerator(rescale=1.0/255.0)\n",
    "b\n",
    "train_generator = train_datagen.flow_from_directory(\n",
    "    config['train_dir']\n",
    "    , target_size = config['target_size'] \n",
    "    , batch_size = config['train_batch']\n",
    "    , class_mode = 'binary'\n",
    ")"
   ]
  },
  {
   "cell_type": "code",
   "execution_count": 9,
   "metadata": {
    "ExecuteTime": {
     "end_time": "2019-07-16T23:59:12.638738Z",
     "start_time": "2019-07-16T23:59:12.528097Z"
    }
   },
   "outputs": [
    {
     "name": "stdout",
     "output_type": "stream",
     "text": [
      "Found 2050 images belonging to 2 classes.\n"
     ]
    }
   ],
   "source": [
    "config['val_count'] = sum([len(files) for r, d, files in os.walk(config['val_dir'])])\n",
    "config['val_steps'] = math.ceil(config['val_count']/config['val_batch'])\n",
    "\n",
    "val_datagen = ImageDataGenerator(rescale=1.0/255.0)\n",
    "\n",
    "val_generator = val_datagen.flow_from_directory(\n",
    "    config['val_dir']  # This is the source directory for training images\n",
    "    , target_size = config['target_size']  # All images will be resized to 150x150 for compressing\n",
    "    , batch_size = config['val_batch']\n",
    "    , class_mode = 'binary' # Since we use binary_crossentropy loss, we need binary labels\n",
    ")"
   ]
  },
  {
   "cell_type": "code",
   "execution_count": 10,
   "metadata": {
    "ExecuteTime": {
     "end_time": "2019-07-16T23:59:15.814346Z",
     "start_time": "2019-07-16T23:59:15.703940Z"
    }
   },
   "outputs": [
    {
     "name": "stdout",
     "output_type": "stream",
     "text": [
      "Found 2031 images belonging to 2 classes.\n"
     ]
    }
   ],
   "source": [
    "config['test_count'] = sum([len(files) for r, d, files in os.walk(config['test_dir'])])\n",
    "config['test_steps'] = math.ceil(config['test_count']/config['test_batch'])\n",
    "\n",
    "test_datagen = ImageDataGenerator(rescale=1.0/255.0)\n",
    "\n",
    "test_generator = test_datagen.flow_from_directory(\n",
    "    config['test_dir']  # This is the source directory for training images\n",
    "    , target_size = config['target_size']  # All images will be resized to 150x150 for compressing\n",
    "    , batch_size = config['test_batch']\n",
    "    , class_mode = 'binary' # Since we use binary_crossentropy loss, we need binary labels\n",
    ")"
   ]
  },
  {
   "cell_type": "markdown",
   "metadata": {},
   "source": [
    "## Training"
   ]
  },
  {
   "cell_type": "code",
   "execution_count": 11,
   "metadata": {
    "ExecuteTime": {
     "end_time": "2019-07-16T23:59:27.418963Z",
     "start_time": "2019-07-16T23:59:27.017813Z"
    }
   },
   "outputs": [
    {
     "name": "stdout",
     "output_type": "stream",
     "text": [
      "WARNING:tensorflow:From /anaconda/envs/py36/lib/python3.6/site-packages/tensorflow/python/ops/resource_variable_ops.py:435: colocate_with (from tensorflow.python.framework.ops) is deprecated and will be removed in a future version.\n",
      "Instructions for updating:\n",
      "Colocations handled automatically by placer.\n",
      "WARNING:tensorflow:From /anaconda/envs/py36/lib/python3.6/site-packages/tensorflow/python/keras/layers/core.py:143: calling dropout (from tensorflow.python.ops.nn_ops) with keep_prob is deprecated and will be removed in a future version.\n",
      "Instructions for updating:\n",
      "Please use `rate` instead of `keep_prob`. Rate should be set to `rate = 1 - keep_prob`.\n",
      "_________________________________________________________________\n",
      "Layer (type)                 Output Shape              Param #   \n",
      "=================================================================\n",
      "mh-conv-1 (Conv2D)           (None, 318, 238, 16)      448       \n",
      "_________________________________________________________________\n",
      "mh-maxpool-1 (MaxPooling2D)  (None, 159, 119, 16)      0         \n",
      "_________________________________________________________________\n",
      "mh-conv-2 (Conv2D)           (None, 157, 117, 32)      4640      \n",
      "_________________________________________________________________\n",
      "mh-maxpool-2 (MaxPooling2D)  (None, 78, 58, 32)        0         \n",
      "_________________________________________________________________\n",
      "mh-conv-3 (Conv2D)           (None, 76, 56, 64)        18496     \n",
      "_________________________________________________________________\n",
      "mh-maxpool-3 (MaxPooling2D)  (None, 38, 28, 64)        0         \n",
      "_________________________________________________________________\n",
      "mh-conv-4 (Conv2D)           (None, 36, 26, 128)       73856     \n",
      "_________________________________________________________________\n",
      "mh-maxpool-4 (MaxPooling2D)  (None, 18, 13, 128)       0         \n",
      "_________________________________________________________________\n",
      "mh-conv-5 (Conv2D)           (None, 16, 11, 256)       295168    \n",
      "_________________________________________________________________\n",
      "mh-maxpool-5 (MaxPooling2D)  (None, 8, 5, 256)         0         \n",
      "_________________________________________________________________\n",
      "mh-flatten-1 (Flatten)       (None, 10240)             0         \n",
      "_________________________________________________________________\n",
      "mh-dense-1 (Dense)           (None, 1024)              10486784  \n",
      "_________________________________________________________________\n",
      "dropout (Dropout)            (None, 1024)              0         \n",
      "_________________________________________________________________\n",
      "mh-dense-2 (Dense)           (None, 128)               131200    \n",
      "_________________________________________________________________\n",
      "dropout_1 (Dropout)          (None, 128)               0         \n",
      "_________________________________________________________________\n",
      "mh-dense-output (Dense)      (None, 1)                 129       \n",
      "=================================================================\n",
      "Total params: 11,010,721\n",
      "Trainable params: 11,010,721\n",
      "Non-trainable params: 0\n",
      "_________________________________________________________________\n"
     ]
    }
   ],
   "source": [
    "model = create_and_compile_model()\n",
    "\n",
    "model.summary()"
   ]
  },
  {
   "cell_type": "code",
   "execution_count": 12,
   "metadata": {
    "ExecuteTime": {
     "end_time": "2019-07-17T00:05:21.220033Z",
     "start_time": "2019-07-16T23:59:37.864240Z"
    }
   },
   "outputs": [
    {
     "name": "stdout",
     "output_type": "stream",
     "text": [
      "WARNING:tensorflow:From /anaconda/envs/py36/lib/python3.6/site-packages/tensorflow/python/ops/math_ops.py:3066: to_int32 (from tensorflow.python.ops.math_ops) is deprecated and will be removed in a future version.\n",
      "Instructions for updating:\n",
      "Use tf.cast instead.\n",
      "Epoch 1/50\n",
      "21/21 [==============================] - 9s 432ms/step - loss: 0.6946 - acc: 0.4146\n",
      "24/24 [==============================] - 19s 776ms/step - loss: 0.7131 - acc: 0.5083 - val_loss: 0.6946 - val_acc: 0.4146\n",
      "Epoch 2/50\n",
      "21/21 [==============================] - 9s 419ms/step - loss: 0.6329 - acc: 0.6654\n",
      "24/24 [==============================] - 15s 643ms/step - loss: 0.6720 - acc: 0.5875 - val_loss: 0.6329 - val_acc: 0.6654\n",
      "Epoch 3/50\n",
      "21/21 [==============================] - 9s 423ms/step - loss: 0.5889 - acc: 0.6859\n",
      "24/24 [==============================] - 15s 643ms/step - loss: 0.6079 - acc: 0.6687 - val_loss: 0.5889 - val_acc: 0.6859\n",
      "Epoch 4/50\n",
      "21/21 [==============================] - 9s 422ms/step - loss: 0.6085 - acc: 0.6839\n",
      "24/24 [==============================] - 15s 642ms/step - loss: 0.5454 - acc: 0.7312 - val_loss: 0.6085 - val_acc: 0.6839\n",
      "Epoch 5/50\n",
      "21/21 [==============================] - 9s 421ms/step - loss: 0.5477 - acc: 0.7049\n",
      "24/24 [==============================] - 15s 636ms/step - loss: 0.5255 - acc: 0.7492 - val_loss: 0.5477 - val_acc: 0.7049\n",
      "Epoch 6/50\n",
      "21/21 [==============================] - 9s 420ms/step - loss: 0.5272 - acc: 0.7385\n",
      "24/24 [==============================] - 15s 641ms/step - loss: 0.5091 - acc: 0.7638 - val_loss: 0.5272 - val_acc: 0.7385\n",
      "Epoch 7/50\n",
      "21/21 [==============================] - 9s 418ms/step - loss: 0.5452 - acc: 0.7259\n",
      "24/24 [==============================] - 15s 635ms/step - loss: 0.4873 - acc: 0.7654 - val_loss: 0.5452 - val_acc: 0.7259\n",
      "Epoch 8/50\n",
      "21/21 [==============================] - 9s 421ms/step - loss: 0.4700 - acc: 0.7776\n",
      "24/24 [==============================] - 15s 638ms/step - loss: 0.4497 - acc: 0.7996 - val_loss: 0.4700 - val_acc: 0.7776\n",
      "Epoch 9/50\n",
      "21/21 [==============================] - 9s 421ms/step - loss: 0.4839 - acc: 0.7702\n",
      "24/24 [==============================] - 15s 643ms/step - loss: 0.4257 - acc: 0.8096 - val_loss: 0.4839 - val_acc: 0.7702\n",
      "Epoch 10/50\n",
      "21/21 [==============================] - 9s 421ms/step - loss: 0.5155 - acc: 0.7595\n",
      "24/24 [==============================] - 15s 622ms/step - loss: 0.4176 - acc: 0.8096 - val_loss: 0.5155 - val_acc: 0.7595\n",
      "Epoch 11/50\n",
      "21/21 [==============================] - 9s 416ms/step - loss: 0.4785 - acc: 0.7771\n",
      "24/24 [==============================] - 15s 637ms/step - loss: 0.4049 - acc: 0.8167 - val_loss: 0.4785 - val_acc: 0.7771\n",
      "Epoch 12/50\n",
      "21/21 [==============================] - 9s 419ms/step - loss: 0.4667 - acc: 0.7859\n",
      "24/24 [==============================] - 15s 639ms/step - loss: 0.3823 - acc: 0.8296 - val_loss: 0.4667 - val_acc: 0.7859\n",
      "Epoch 13/50\n",
      "21/21 [==============================] - 9s 418ms/step - loss: 0.4829 - acc: 0.7951\n",
      "24/24 [==============================] - 15s 633ms/step - loss: 0.3716 - acc: 0.8350 - val_loss: 0.4829 - val_acc: 0.7951\n",
      "Epoch 14/50\n",
      "21/21 [==============================] - 9s 419ms/step - loss: 0.4558 - acc: 0.8010\n",
      "24/24 [==============================] - 15s 641ms/step - loss: 0.3669 - acc: 0.8371 - val_loss: 0.4558 - val_acc: 0.8010\n",
      "Epoch 15/50\n",
      "21/21 [==============================] - 9s 419ms/step - loss: 0.4652 - acc: 0.7800\n",
      "24/24 [==============================] - 15s 618ms/step - loss: 0.3577 - acc: 0.8321 - val_loss: 0.4652 - val_acc: 0.7800\n",
      "Epoch 16/50\n",
      "21/21 [==============================] - 9s 418ms/step - loss: 0.4576 - acc: 0.7815\n",
      "24/24 [==============================] - 15s 641ms/step - loss: 0.3302 - acc: 0.8537 - val_loss: 0.4576 - val_acc: 0.7815\n",
      "Epoch 17/50\n",
      "21/21 [==============================] - 9s 421ms/step - loss: 0.4914 - acc: 0.8044\n",
      "24/24 [==============================] - 15s 621ms/step - loss: 0.3278 - acc: 0.8521 - val_loss: 0.4914 - val_acc: 0.8044\n",
      "Epoch 18/50\n",
      "21/21 [==============================] - 9s 416ms/step - loss: 0.4867 - acc: 0.7971\n",
      "24/24 [==============================] - 15s 631ms/step - loss: 0.3138 - acc: 0.8662 - val_loss: 0.4867 - val_acc: 0.7971\n",
      "Epoch 19/50\n",
      "21/21 [==============================] - 9s 421ms/step - loss: 0.4976 - acc: 0.8015\n",
      "24/24 [==============================] - 16s 646ms/step - loss: 0.3008 - acc: 0.8671 - val_loss: 0.4976 - val_acc: 0.8015\n",
      "Epoch 20/50\n",
      "21/21 [==============================] - 9s 420ms/step - loss: 0.4893 - acc: 0.8034\n",
      "24/24 [==============================] - 15s 638ms/step - loss: 0.2585 - acc: 0.8846 - val_loss: 0.4893 - val_acc: 0.8034\n",
      "Epoch 21/50\n",
      "21/21 [==============================] - 9s 424ms/step - loss: 0.4937 - acc: 0.8044\n",
      "24/24 [==============================] - 15s 644ms/step - loss: 0.2481 - acc: 0.8858 - val_loss: 0.4937 - val_acc: 0.8044\n",
      "Epoch 22/50\n",
      "21/21 [==============================] - 9s 416ms/step - loss: 0.5076 - acc: 0.8039\n",
      "24/24 [==============================] - 15s 631ms/step - loss: 0.2345 - acc: 0.8967 - val_loss: 0.5076 - val_acc: 0.8039\n"
     ]
    }
   ],
   "source": [
    "new_directory = os.path.join(os.getcwd(), 'train-01')\n",
    "if os.path.exists(new_directory):\n",
    "        shutil.rmtree(new_directory)\n",
    "\n",
    "os.mkdir(new_directory)\n",
    "\n",
    "history = model.fit_generator(\n",
    "    train_generator\n",
    "    , steps_per_epoch = config['train_steps']\n",
    "    , epochs = config['epochs']\n",
    "    , validation_data = val_generator\n",
    "    , validation_steps = config['val_steps']\n",
    "    , callbacks=[\n",
    "        markscallbacks\n",
    "        , EarlyStopping(monitor='val_acc', patience=5)\n",
    "        , ModelCheckpoint(filepath=os.path.join(new_directory, 'model.h5'), monitor='acc', save_best_only=True)\n",
    "        , ReduceLROnPlateau(monitor='val_loss', factor=0.1, patience=5, mode='auto', min_delta=0.0001, cooldown=0, min_lr=0)\n",
    "    ]\n",
    ")"
   ]
  },
  {
   "cell_type": "code",
   "execution_count": 13,
   "metadata": {
    "ExecuteTime": {
     "end_time": "2019-07-17T00:06:22.192035Z",
     "start_time": "2019-07-17T00:06:13.563945Z"
    }
   },
   "outputs": [],
   "source": [
    "predicted = model.predict_generator(test_generator, steps=config['test_steps'])\n",
    "labels = test_generator.classes\n"
   ]
  },
  {
   "cell_type": "code",
   "execution_count": 14,
   "metadata": {
    "ExecuteTime": {
     "end_time": "2019-07-17T00:06:27.708935Z",
     "start_time": "2019-07-17T00:06:27.462000Z"
    }
   },
   "outputs": [
    {
     "data": {
      "image/png": "[encoded data removed]",
      "text/plain": [
       "<Figure size 1296x432 with 2 Axes>"
      ]
     },
     "metadata": {
      "needs_background": "light"
     },
     "output_type": "display_data"
    }
   ],
   "source": [
    "fpr_keras, tpr_keras, thresholds_keras = roc_curve(labels, predicted)\n",
    "\n",
    "auc_keras = auc(fpr_keras, tpr_keras)\n",
    "\n",
    "plt.figure(figsize=(18,6))\n",
    "\n",
    "plt.subplot(1, 2 ,1)\n",
    "plt.xticks([])\n",
    "plt.yticks([])\n",
    "plt.grid(False)\n",
    "plt.plot([0, 1], [0, 1], 'k--')\n",
    "plt.plot(fpr_keras, tpr_keras, label='Keras (area = {:.3f})'.format(auc_keras))\n",
    "plt.xlabel('False positive rate')\n",
    "plt.ylabel('True positive rate')\n",
    "plt.title('ROC curve')\n",
    "plt.legend(loc='best')\n",
    "# plt.show()\n",
    "\n",
    "hist = pd.DataFrame(history.history)\n",
    "hist['epoch'] = history.epoch\n",
    "plt.subplot(1, 2, 2)\n",
    "plt.xlabel('Epoch')\n",
    "plt.ylabel('Accuracy')\n",
    "plt.plot(hist['epoch'], hist['acc'], label='Train Accuracy')\n",
    "plt.plot(hist['epoch'], hist['val_acc'], label = 'Val Accuracy')\n",
    "plt.title('Accuracy vs Training')\n",
    "plt.legend(loc='best')\n",
    "\n",
    "plt.show()"
   ]
  },
  {
   "cell_type": "markdown",
   "metadata": {
    "ExecuteTime": {
     "end_time": "2019-07-16T18:55:35.422130Z",
     "start_time": "2019-07-16T18:55:24.100Z"
    }
   },
   "source": [
    "```python \n",
    "res_dict = {\n",
    "    'epochs' : config['epochs']\n",
    "    , 'accuracy' : history.history['acc']\n",
    "    , 'val_accuracy' : history.history['val_acc']\n",
    "    , 'loss' : history.history['loss']\n",
    "    , 'val_loss' : history.history['val_loss']\n",
    "}\n",
    "\n",
    "df = pd.DataFrame(res_dict)\n",
    "os.mkdir(os.path.join(os.getcwd(), 'trial01'))\n",
    "df.to_csv(os.path.join(os.getcwd(), 'trial01', '01 - results.csv'))\n",
    "\n",
    "model.save(os.path.join(os.getcwd(), 'trial01', 'model.h5'))\n",
    "```"
   ]
  },
  {
   "cell_type": "code",
   "execution_count": null,
   "metadata": {
    "ExecuteTime": {
     "start_time": "2019-07-16T21:20:32.069Z"
    }
   },
   "outputs": [],
   "source": [
    "# Next step, custom metrics\n",
    "# Look at random images in both directories\n",
    "# Rethink the Split 0.0 vs 1.0-14.0"
   ]
  },
  {
   "cell_type": "code",
   "execution_count": null,
   "metadata": {
    "ExecuteTime": {
     "start_time": "2019-07-17T00:06:56.468Z"
    }
   },
   "outputs": [],
   "source": [
    "os.kill(os.getpid(), signal.SIGKILL)"
   ]
  },
  {
   "cell_type": "code",
   "execution_count": null,
   "metadata": {
    "ExecuteTime": {
     "start_time": "2019-07-16T21:20:32.072Z"
    }
   },
   "outputs": [],
   "source": [
    "print('Completed running Notebook')"
   ]
  },
  {
   "cell_type": "code",
   "execution_count": null,
   "metadata": {},
   "outputs": [],
   "source": []
  }
 ],
 "metadata": {
  "kernelspec": {
   "display_name": "Python 3.6 - AzureML",
   "language": "python",
   "name": "python3-azureml"
  },
  "language_info": {
   "codemirror_mode": {
    "name": "ipython",
    "version": 3
   },
   "file_extension": ".py",
   "mimetype": "text/x-python",
   "name": "python",
   "nbconvert_exporter": "python",
   "pygments_lexer": "ipython3",
   "version": "3.6.8"
  },
  "toc": {
   "base_numbering": 1,
   "nav_menu": {},
   "number_sections": true,
   "sideBar": true,
   "skip_h1_title": false,
   "title_cell": "Table of Contents",
   "title_sidebar": "Contents",
   "toc_cell": false,
   "toc_position": {},
   "toc_section_display": true,
   "toc_window_display": false
  }
 },
 "nbformat": 4,
 "nbformat_minor": 2
}
